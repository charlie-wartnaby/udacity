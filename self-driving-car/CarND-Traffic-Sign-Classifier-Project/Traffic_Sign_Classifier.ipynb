{
 "cells": [
  {
   "cell_type": "markdown",
   "metadata": {},
   "source": [
    "# Self-Driving Car Engineer Nanodegree\n",
    "\n",
    "## Deep Learning\n",
    "\n",
    "## Project: Build a Traffic Sign Recognition Classifier\n",
    "\n",
    "In this notebook, a template is provided for you to implement your functionality in stages, which is required to successfully complete this project. If additional code is required that cannot be included in the notebook, be sure that the Python code is successfully imported and included in your submission if necessary. \n",
    "\n",
    "> **Note**: Once you have completed all of the code implementations, you need to finalize your work by exporting the iPython Notebook as an HTML document. Before exporting the notebook to html, all of the code cells need to have been run so that reviewers can see the final implementation and output. You can then export the notebook by using the menu above and navigating to  \\n\",\n",
    "    \"**File -> Download as -> HTML (.html)**. Include the finished document along with this notebook as your submission. \n",
    "\n",
    "In addition to implementing code, there is a writeup to complete. The writeup should be completed in a separate file, which can be either a markdown file or a pdf document. There is a [write up template](https://github.com/udacity/CarND-Traffic-Sign-Classifier-Project/blob/master/writeup_template.md) that can be used to guide the writing process. Completing the code template and writeup template will cover all of the [rubric points](https://review.udacity.com/#!/rubrics/481/view) for this project.\n",
    "\n",
    "The [rubric](https://review.udacity.com/#!/rubrics/481/view) contains \"Stand Out Suggestions\" for enhancing the project beyond the minimum requirements. The stand out suggestions are optional. If you decide to pursue the \"stand out suggestions\", you can include the code in this Ipython notebook and also discuss the results in the writeup file.\n",
    "\n",
    "\n",
    ">**Note:** Code and Markdown cells can be executed using the **Shift + Enter** keyboard shortcut. In addition, Markdown cells can be edited by typically double-clicking the cell to enter edit mode."
   ]
  },
  {
   "cell_type": "markdown",
   "metadata": {},
   "source": [
    "---\n",
    "## Step 0: Load The Data"
   ]
  },
  {
   "cell_type": "code",
   "execution_count": 10,
   "metadata": {},
   "outputs": [
    {
     "name": "stdout",
     "output_type": "stream",
     "text": [
      "Loaded data OK\n"
     ]
    }
   ],
   "source": [
    "# Load pickled data\n",
    "import pickle\n",
    "import os.path\n",
    "import zipfile\n",
    "\n",
    "# TODO: Fill this in based on where you saved the training and testing data\n",
    "\n",
    "training_file = \"train.p\"\n",
    "validation_file = \"valid.p\"\n",
    "testing_file = \"test.p\"\n",
    "\n",
    "zip_file = \"traffic-signs-data.zip\"\n",
    "\n",
    "if (not os.path.isfile(training_file) or\n",
    "   not os.path.isfile(validation_file) or\n",
    "    not os.path.isfile(testing_file)):\n",
    "    print(\"Attempting to extract data from \" + zip_file)\n",
    "    zip_ref = zipfile.ZipFile(zip_file, 'r')\n",
    "    zip_ref.extractall(\".\")\n",
    "    zip_ref.close()\n",
    "    print(\"Files extracted OK\")\n",
    "        \n",
    "with open(training_file, mode='rb') as f:\n",
    "    train = pickle.load(f)\n",
    "with open(validation_file, mode='rb') as f:\n",
    "    valid = pickle.load(f)\n",
    "with open(testing_file, mode='rb') as f:\n",
    "    test = pickle.load(f)\n",
    "    \n",
    "X_train, y_train = train['features'], train['labels']\n",
    "X_valid, y_valid = valid['features'], valid['labels']\n",
    "X_test, y_test = test['features'], test['labels']\n",
    "\n",
    "print(\"Loaded data OK\")"
   ]
  },
  {
   "cell_type": "markdown",
   "metadata": {},
   "source": [
    "---\n",
    "\n",
    "## Step 1: Dataset Summary & Exploration\n",
    "\n",
    "The pickled data is a dictionary with 4 key/value pairs:\n",
    "\n",
    "- `'features'` is a 4D array containing raw pixel data of the traffic sign images, (num examples, width, height, channels).\n",
    "- `'labels'` is a 1D array containing the label/class id of the traffic sign. The file `signnames.csv` contains id -> name mappings for each id.\n",
    "- `'sizes'` is a list containing tuples, (width, height) representing the original width and height the image.\n",
    "- `'coords'` is a list containing tuples, (x1, y1, x2, y2) representing coordinates of a bounding box around the sign in the image. **THESE COORDINATES ASSUME THE ORIGINAL IMAGE. THE PICKLED DATA CONTAINS RESIZED VERSIONS (32 by 32) OF THESE IMAGES**\n",
    "\n",
    "Complete the basic data summary below. Use python, numpy and/or pandas methods to calculate the data summary rather than hard coding the results. For example, the [pandas shape method](http://pandas.pydata.org/pandas-docs/stable/generated/pandas.DataFrame.shape.html) might be useful for calculating some of the summary results. "
   ]
  },
  {
   "cell_type": "markdown",
   "metadata": {},
   "source": [
    "### Provide a Basic Summary of the Data Set Using Python, Numpy and/or Pandas"
   ]
  },
  {
   "cell_type": "code",
   "execution_count": 54,
   "metadata": {},
   "outputs": [
    {
     "name": "stdout",
     "output_type": "stream",
     "text": [
      "Number of training examples = 34799\n",
      "Number of validation examples =  4410\n",
      "Number of testing examples = 12630\n",
      "Image data shape = (32, 32, 3)\n",
      "Number of classes = 43\n"
     ]
    }
   ],
   "source": [
    "### Replace each question mark with the appropriate value. \n",
    "### Use python, pandas or numpy methods rather than hard coding the results\n",
    "import numpy as np\n",
    "\n",
    "# TODO: Number of training examples\n",
    "n_train = np.shape(X_train)[0]\n",
    "\n",
    "# TODO: Number of validation examples\n",
    "n_validation = np.shape(X_valid)[0]\n",
    "\n",
    "# TODO: Number of testing examples.\n",
    "n_test = np.shape(X_test)[0]\n",
    "\n",
    "# TODO: What's the shape of an traffic sign image?\n",
    "image_shape = np.shape(X_train[0])\n",
    "\n",
    "# TODO: How many unique classes/labels there are in the dataset.\n",
    "# CW: Since the next cell invites us to plot the number of each class, I am counting\n",
    "# how many instances of each we have here, rather than just their existence (which would be\n",
    "# sufficient to count how many different classes we have), and saving the first example\n",
    "# of each class\n",
    "classes_found = {}\n",
    "first_example = {}\n",
    "for i in range(len(y_train)):\n",
    "    klass = y_train[i]\n",
    "    if klass not in classes_found:\n",
    "        first_example[klass] = X_train[i]\n",
    "        classes_found[klass] = 1\n",
    "    else:\n",
    "        classes_found[klass] += 1\n",
    "# I now know there aren't any validation or test classes not in the training set,\n",
    "# so I'm skipping caching the first examples of any new class from here onwards\n",
    "for klass in y_valid:\n",
    "    if klass not in classes_found:\n",
    "        print(\"WARNING: class in validation set but not training set: \" + str(klass))\n",
    "        classes_found[klass] = 1\n",
    "    else:\n",
    "        classes_found[klass] += 1\n",
    "for klass in y_test:\n",
    "    if klass not in classes_found:\n",
    "        print(\"WARNING: class in test set but not training set: \" + str(klass))\n",
    "        classes_found[klass] = 1\n",
    "    else:\n",
    "        classes_found[klass] += 1\n",
    "n_classes = len(classes_found)\n",
    "\n",
    "print(\"Number of training examples =\", n_train)\n",
    "print(\"Number of validation examples = \", n_validation)\n",
    "print(\"Number of testing examples =\", n_test)\n",
    "print(\"Image data shape =\", image_shape)\n",
    "print(\"Number of classes =\", n_classes)"
   ]
  },
  {
   "cell_type": "markdown",
   "metadata": {},
   "source": [
    "### Include an exploratory visualization of the dataset"
   ]
  },
  {
   "cell_type": "markdown",
   "metadata": {},
   "source": [
    "Visualize the German Traffic Signs Dataset using the pickled file(s). This is open ended, suggestions include: plotting traffic sign images, plotting the count of each sign, etc. \n",
    "\n",
    "The [Matplotlib](http://matplotlib.org/) [examples](http://matplotlib.org/examples/index.html) and [gallery](http://matplotlib.org/gallery.html) pages are a great resource for doing visualizations in Python.\n",
    "\n",
    "**NOTE:** It's recommended you start with something simple first. If you wish to do more, come back to it after you've completed the rest of the sections. It can be interesting to look at the distribution of classes in the training, validation and test set. Is the distribution the same? Are there more examples of some classes than others?"
   ]
  },
  {
   "cell_type": "code",
   "execution_count": 55,
   "metadata": {},
   "outputs": [
    {
     "name": "stdout",
     "output_type": "stream",
     "text": [
      "Class ID=0 first example: \n"
     ]
    },
    {
     "data": {
      "image/png": "[encoded data removed]",
      "text/plain": [
       "<matplotlib.figure.Figure at 0x1e8c46ac4e0>"
      ]
     },
     "metadata": {},
     "output_type": "display_data"
    },
    {
     "name": "stdout",
     "output_type": "stream",
     "text": [
      "Class ID=1 first example: \n"
     ]
    },
    {
     "data": {
      "image/png": "[encoded data removed]",
      "text/plain": [
       "<matplotlib.figure.Figure at 0x1e8c4544cc0>"
      ]
     },
     "metadata": {},
     "output_type": "display_data"
    },
    {
     "name": "stdout",
     "output_type": "stream",
     "text": [
      "Class ID=2 first example: \n"
     ]
    },
    {
     "data": {
      "image/png": "[encoded data removed]",
      "text/plain": [
       "<matplotlib.figure.Figure at 0x1e944003c50>"
      ]
     },
     "metadata": {},
     "output_type": "display_data"
    },
    {
     "name": "stdout",
     "output_type": "stream",
     "text": [
      "Class ID=3 first example: \n"
     ]
    },
    {
     "data": {
      "image/png": "[encoded data removed]",
      "text/plain": [
       "<matplotlib.figure.Figure at 0x1e8f3ad7908>"
      ]
     },
     "metadata": {},
     "output_type": "display_data"
    },
    {
     "name": "stdout",
     "output_type": "stream",
     "text": [
      "Class ID=4 first example: \n"
     ]
    },
    {
     "data": {
      "image/png": "[encoded data removed]",
      "text/plain": [
       "<matplotlib.figure.Figure at 0x1e943369780>"
      ]
     },
     "metadata": {},
     "output_type": "display_data"
    },
    {
     "name": "stdout",
     "output_type": "stream",
     "text": [
      "Class ID=5 first example: \n"
     ]
    },
    {
     "data": {
      "image/png": "[encoded data removed]",
      "text/plain": [
       "<matplotlib.figure.Figure at 0x1e9430f0f60>"
      ]
     },
     "metadata": {},
     "output_type": "display_data"
    },
    {
     "name": "stdout",
     "output_type": "stream",
     "text": [
      "Class ID=6 first example: \n"
     ]
    },
    {
     "data": {
      "image/png": "[encoded data removed]",
      "text/plain": [
       "<matplotlib.figure.Figure at 0x1e9430268d0>"
      ]
     },
     "metadata": {},
     "output_type": "display_data"
    },
    {
     "name": "stdout",
     "output_type": "stream",
     "text": [
      "Class ID=7 first example: \n"
     ]
    },
    {
     "data": {
      "image/png": "[encoded data removed]",
      "text/plain": [
       "<matplotlib.figure.Figure at 0x1e942c794e0>"
      ]
     },
     "metadata": {},
     "output_type": "display_data"
    },
    {
     "name": "stdout",
     "output_type": "stream",
     "text": [
      "Class ID=8 first example: \n"
     ]
    },
    {
     "data": {
      "image/png": "[encoded data removed]",
      "text/plain": [
       "<matplotlib.figure.Figure at 0x1e942743eb8>"
      ]
     },
     "metadata": {},
     "output_type": "display_data"
    },
    {
     "name": "stdout",
     "output_type": "stream",
     "text": [
      "Class ID=9 first example: \n"
     ]
    },
    {
     "data": {
      "image/png": "[encoded data removed]",
      "text/plain": [
       "<matplotlib.figure.Figure at 0x1e8e55c46d8>"
      ]
     },
     "metadata": {},
     "output_type": "display_data"
    },
    {
     "name": "stdout",
     "output_type": "stream",
     "text": [
      "Class ID=10 first example: \n"
     ]
    },
    {
     "data": {
      "image/png": "[encoded data removed]",
      "text/plain": [
       "<matplotlib.figure.Figure at 0x1e942e6c978>"
      ]
     },
     "metadata": {},
     "output_type": "display_data"
    },
    {
     "name": "stdout",
     "output_type": "stream",
     "text": [
      "Class ID=11 first example: \n"
     ]
    },
    {
     "data": {
      "image/png": "[encoded data removed]",
      "text/plain": [
       "<matplotlib.figure.Figure at 0x1e942dcd828>"
      ]
     },
     "metadata": {},
     "output_type": "display_data"
    },
    {
     "name": "stdout",
     "output_type": "stream",
     "text": [
      "Class ID=12 first example: \n"
     ]
    },
    {
     "data": {
      "image/png": "[encoded data removed]",
      "text/plain": [
       "<matplotlib.figure.Figure at 0x1e8f3a6d6a0>"
      ]
     },
     "metadata": {},
     "output_type": "display_data"
    },
    {
     "name": "stdout",
     "output_type": "stream",
     "text": [
      "Class ID=13 first example: \n"
     ]
    },
    {
     "data": {
      "image/png": "[encoded data removed]",
      "text/plain": [
       "<matplotlib.figure.Figure at 0x1e8ffbb70b8>"
      ]
     },
     "metadata": {},
     "output_type": "display_data"
    },
    {
     "name": "stdout",
     "output_type": "stream",
     "text": [
      "Class ID=14 first example: \n"
     ]
    },
    {
     "data": {
      "image/png": "[encoded data removed]",
      "text/plain": [
       "<matplotlib.figure.Figure at 0x1e8f3c21a20>"
      ]
     },
     "metadata": {},
     "output_type": "display_data"
    },
    {
     "name": "stdout",
     "output_type": "stream",
     "text": [
      "Class ID=15 first example: \n"
     ]
    },
    {
     "data": {
      "image/png": "[encoded data removed]",
      "text/plain": [
       "<matplotlib.figure.Figure at 0x1e8ea359710>"
      ]
     },
     "metadata": {},
     "output_type": "display_data"
    },
    {
     "name": "stdout",
     "output_type": "stream",
     "text": [
      "Class ID=16 first example: \n"
     ]
    },
    {
     "data": {
      "image/png": "[encoded data removed]",
      "text/plain": [
       "<matplotlib.figure.Figure at 0x1e8f49d2710>"
      ]
     },
     "metadata": {},
     "output_type": "display_data"
    },
    {
     "name": "stdout",
     "output_type": "stream",
     "text": [
      "Class ID=17 first example: \n"
     ]
    },
    {
     "data": {
      "image/png": "[encoded data removed]",
      "text/plain": [
       "<matplotlib.figure.Figure at 0x1e8ffad2208>"
      ]
     },
     "metadata": {},
     "output_type": "display_data"
    },
    {
     "name": "stdout",
     "output_type": "stream",
     "text": [
      "Class ID=18 first example: \n"
     ]
    },
    {
     "data": {
      "image/png": "[encoded data removed]",
      "text/plain": [
       "<matplotlib.figure.Figure at 0x1e8ea2d4828>"
      ]
     },
     "metadata": {},
     "output_type": "display_data"
    },
    {
     "name": "stdout",
     "output_type": "stream",
     "text": [
      "Class ID=19 first example: \n"
     ]
    },
    {
     "data": {
      "image/png": "[encoded data removed]",
      "text/plain": [
       "<matplotlib.figure.Figure at 0x1e8f49d27f0>"
      ]
     },
     "metadata": {},
     "output_type": "display_data"
    },
    {
     "name": "stdout",
     "output_type": "stream",
     "text": [
      "Class ID=20 first example: \n"
     ]
    },
    {
     "data": {
      "image/png": "[encoded data removed]",
      "text/plain": [
       "<matplotlib.figure.Figure at 0x1e8ea569518>"
      ]
     },
     "metadata": {},
     "output_type": "display_data"
    },
    {
     "name": "stdout",
     "output_type": "stream",
     "text": [
      "Class ID=21 first example: \n"
     ]
    },
    {
     "data": {
      "image/png": "[encoded data removed]",
      "text/plain": [
       "<matplotlib.figure.Figure at 0x1e942c31f60>"
      ]
     },
     "metadata": {},
     "output_type": "display_data"
    },
    {
     "name": "stdout",
     "output_type": "stream",
     "text": [
      "Class ID=22 first example: \n"
     ]
    },
    {
     "data": {
      "image/png": "[encoded data removed]",
      "text/plain": [
       "<matplotlib.figure.Figure at 0x1e9436e7ef0>"
      ]
     },
     "metadata": {},
     "output_type": "display_data"
    },
    {
     "name": "stdout",
     "output_type": "stream",
     "text": [
      "Class ID=23 first example: \n"
     ]
    },
    {
     "data": {
      "image/png": "[encoded data removed]",
      "text/plain": [
       "<matplotlib.figure.Figure at 0x1e9436d2438>"
      ]
     },
     "metadata": {},
     "output_type": "display_data"
    },
    {
     "name": "stdout",
     "output_type": "stream",
     "text": [
      "Class ID=24 first example: \n"
     ]
    },
    {
     "data": {
      "image/png": "[encoded data removed]",
      "text/plain": [
       "<matplotlib.figure.Figure at 0x1e92f8bbcf8>"
      ]
     },
     "metadata": {},
     "output_type": "display_data"
    },
    {
     "name": "stdout",
     "output_type": "stream",
     "text": [
      "Class ID=25 first example: \n"
     ]
    },
    {
     "data": {
      "image/png": "[encoded data removed]",
      "text/plain": [
       "<matplotlib.figure.Figure at 0x1e92f829128>"
      ]
     },
     "metadata": {},
     "output_type": "display_data"
    },
    {
     "name": "stdout",
     "output_type": "stream",
     "text": [
      "Class ID=26 first example: \n"
     ]
    },
    {
     "data": {
      "image/png": "[encoded data removed]",
      "text/plain": [
       "<matplotlib.figure.Figure at 0x1e942fbf9e8>"
      ]
     },
     "metadata": {},
     "output_type": "display_data"
    },
    {
     "name": "stdout",
     "output_type": "stream",
     "text": [
      "Class ID=27 first example: \n"
     ]
    },
    {
     "data": {
      "image/png": "[encoded data removed]",
      "text/plain": [
       "<matplotlib.figure.Figure at 0x1e8e9cf71d0>"
      ]
     },
     "metadata": {},
     "output_type": "display_data"
    },
    {
     "name": "stdout",
     "output_type": "stream",
     "text": [
      "Class ID=28 first example: \n"
     ]
    },
    {
     "data": {
      "image/png": "[encoded data removed]",
      "text/plain": [
       "<matplotlib.figure.Figure at 0x1e94306ec88>"
      ]
     },
     "metadata": {},
     "output_type": "display_data"
    },
    {
     "name": "stdout",
     "output_type": "stream",
     "text": [
      "Class ID=29 first example: \n"
     ]
    },
    {
     "data": {
      "image/png": "[encoded data removed]",
      "text/plain": [
       "<matplotlib.figure.Figure at 0x1e9436b6d30>"
      ]
     },
     "metadata": {},
     "output_type": "display_data"
    },
    {
     "name": "stdout",
     "output_type": "stream",
     "text": [
      "Class ID=30 first example: \n"
     ]
    },
    {
     "data": {
      "image/png": "[encoded data removed]",
      "text/plain": [
       "<matplotlib.figure.Figure at 0x1e8c4365d30>"
      ]
     },
     "metadata": {},
     "output_type": "display_data"
    },
    {
     "name": "stdout",
     "output_type": "stream",
     "text": [
      "Class ID=31 first example: \n"
     ]
    },
    {
     "data": {
      "image/png": "[encoded data removed]",
      "text/plain": [
       "<matplotlib.figure.Figure at 0x1e8f3b07f60>"
      ]
     },
     "metadata": {},
     "output_type": "display_data"
    },
    {
     "name": "stdout",
     "output_type": "stream",
     "text": [
      "Class ID=32 first example: \n"
     ]
    },
    {
     "data": {
      "image/png": "[encoded data removed]",
      "text/plain": [
       "<matplotlib.figure.Figure at 0x1e8e971b2e8>"
      ]
     },
     "metadata": {},
     "output_type": "display_data"
    },
    {
     "name": "stdout",
     "output_type": "stream",
     "text": [
      "Class ID=33 first example: \n"
     ]
    },
    {
     "data": {
      "image/png": "[encoded data removed]",
      "text/plain": [
       "<matplotlib.figure.Figure at 0x1e8f4c6cb38>"
      ]
     },
     "metadata": {},
     "output_type": "display_data"
    },
    {
     "name": "stdout",
     "output_type": "stream",
     "text": [
      "Class ID=34 first example: \n"
     ]
    },
    {
     "data": {
      "image/png": "[encoded data removed]",
      "text/plain": [
       "<matplotlib.figure.Figure at 0x1e8ea204d30>"
      ]
     },
     "metadata": {},
     "output_type": "display_data"
    },
    {
     "name": "stdout",
     "output_type": "stream",
     "text": [
      "Class ID=35 first example: \n"
     ]
    },
    {
     "data": {
      "image/png": "[encoded data removed]",
      "text/plain": [
       "<matplotlib.figure.Figure at 0x1e8c467eac8>"
      ]
     },
     "metadata": {},
     "output_type": "display_data"
    },
    {
     "name": "stdout",
     "output_type": "stream",
     "text": [
      "Class ID=36 first example: \n"
     ]
    },
    {
     "data": {
      "image/png": "[encoded data removed]",
      "text/plain": [
       "<matplotlib.figure.Figure at 0x1e8e9e9d5c0>"
      ]
     },
     "metadata": {},
     "output_type": "display_data"
    },
    {
     "name": "stdout",
     "output_type": "stream",
     "text": [
      "Class ID=37 first example: \n"
     ]
    },
    {
     "data": {
      "image/png": "[encoded data removed]",
      "text/plain": [
       "<matplotlib.figure.Figure at 0x1e942fe5438>"
      ]
     },
     "metadata": {},
     "output_type": "display_data"
    },
    {
     "name": "stdout",
     "output_type": "stream",
     "text": [
      "Class ID=38 first example: \n"
     ]
    },
    {
     "data": {
      "image/png": "[encoded data removed]",
      "text/plain": [
       "<matplotlib.figure.Figure at 0x1e8e9d1dcc0>"
      ]
     },
     "metadata": {},
     "output_type": "display_data"
    },
    {
     "name": "stdout",
     "output_type": "stream",
     "text": [
      "Class ID=39 first example: \n"
     ]
    },
    {
     "data": {
      "image/png": "[encoded data removed]",
      "text/plain": [
       "<matplotlib.figure.Figure at 0x1e94478b208>"
      ]
     },
     "metadata": {},
     "output_type": "display_data"
    },
    {
     "name": "stdout",
     "output_type": "stream",
     "text": [
      "Class ID=40 first example: \n"
     ]
    },
    {
     "data": {
      "image/png": "[encoded data removed]",
      "text/plain": [
       "<matplotlib.figure.Figure at 0x1e946059400>"
      ]
     },
     "metadata": {},
     "output_type": "display_data"
    },
    {
     "name": "stdout",
     "output_type": "stream",
     "text": [
      "Class ID=41 first example: \n"
     ]
    },
    {
     "data": {
      "image/png": "[encoded data removed]",
      "text/plain": [
       "<matplotlib.figure.Figure at 0x1e945d8e160>"
      ]
     },
     "metadata": {},
     "output_type": "display_data"
    },
    {
     "name": "stdout",
     "output_type": "stream",
     "text": [
      "Class ID=42 first example: \n"
     ]
    },
    {
     "data": {
      "image/png": "[encoded data removed]",
      "text/plain": [
       "<matplotlib.figure.Figure at 0x1e9440e5550>"
      ]
     },
     "metadata": {},
     "output_type": "display_data"
    }
   ],
   "source": [
    "### Data exploration visualization code goes here.\n",
    "### Feel free to use as many code cells as needed.\n",
    "import matplotlib.pyplot as plt\n",
    "# Visualizations will be shown in the notebook.\n",
    "%matplotlib inline\n",
    "\n",
    "klasses = list(first_example.keys())\n",
    "klasses.sort() # now in numerical order of class ID\n",
    "max_examples_to_show = 100 # for debug was just displaying first couple\n",
    "\n",
    "# CW: I saved the first example of each image above when loading them, so\n",
    "# now just have to display each one\n",
    "for klass_idx in range(min(len(klasses), max_examples_to_show)):\n",
    "    klass_id = klasses[klass_idx]\n",
    "    image = first_example[klass_id]\n",
    "\n",
    "    print(\"Class ID=\" + str(klass_id) + \" first example: \")\n",
    "    plt.figure(figsize=(1,1))\n",
    "    plt.imshow(image)\n",
    "    plt.show() # Explicitly calling show() so it appears before next text line I want to output\n"
   ]
  },
  {
   "cell_type": "markdown",
   "metadata": {},
   "source": [
    "----\n",
    "\n",
    "## Step 2: Design and Test a Model Architecture\n",
    "\n",
    "Design and implement a deep learning model that learns to recognize traffic signs. Train and test your model on the [German Traffic Sign Dataset](http://benchmark.ini.rub.de/?section=gtsrb&subsection=dataset).\n",
    "\n",
    "The LeNet-5 implementation shown in the [classroom](https://classroom.udacity.com/nanodegrees/nd013/parts/fbf77062-5703-404e-b60c-95b78b2f3f9e/modules/6df7ae49-c61c-4bb2-a23e-6527e69209ec/lessons/601ae704-1035-4287-8b11-e2c2716217ad/concepts/d4aca031-508f-4e0b-b493-e7b706120f81) at the end of the CNN lesson is a solid starting point. You'll have to change the number of classes and possibly the preprocessing, but aside from that it's plug and play! \n",
    "\n",
    "With the LeNet-5 solution from the lecture, you should expect a validation set accuracy of about 0.89. To meet specifications, the validation set accuracy will need to be at least 0.93. It is possible to get an even higher accuracy, but 0.93 is the minimum for a successful project submission. \n",
    "\n",
    "There are various aspects to consider when thinking about this problem:\n",
    "\n",
    "- Neural network architecture (is the network over or underfitting?)\n",
    "- Play around preprocessing techniques (normalization, rgb to grayscale, etc)\n",
    "- Number of examples per label (some have more than others).\n",
    "- Generate fake data.\n",
    "\n",
    "Here is an example of a [published baseline model on this problem](http://yann.lecun.com/exdb/publis/pdf/sermanet-ijcnn-11.pdf). It's not required to be familiar with the approach used in the paper but, it's good practice to try to read papers like these."
   ]
  },
  {
   "cell_type": "markdown",
   "metadata": {},
   "source": [
    "### Pre-process the Data Set (normalization, grayscale, etc.)"
   ]
  },
  {
   "cell_type": "markdown",
   "metadata": {},
   "source": [
    "Minimally, the image data should be normalized so that the data has mean zero and equal variance. For image data, `(pixel - 128)/ 128` is a quick way to approximately normalize the data and can be used in this project. \n",
    "\n",
    "Other pre-processing steps are optional. You can try different techniques to see if it improves performance. \n",
    "\n",
    "Use the code cell (or multiple code cells, if necessary) to implement the first step of your project."
   ]
  },
  {
   "cell_type": "code",
   "execution_count": 1,
   "metadata": {
    "collapsed": true
   },
   "outputs": [],
   "source": [
    "### Preprocess the data here. It is required to normalize the data. Other preprocessing steps could include \n",
    "### converting to grayscale, etc.\n",
    "### Feel free to use as many code cells as needed.\n",
    "\n",
    "# CW to start with I want to keep the images in colour, because I feel there is useful information\n",
    "# encoded in that colour, e.g. the red border round speed signs.\n",
    "# Looking at the example images though, the brightness varies a lot, so I will try and normalise\n",
    "# for brightness, as well as getting the data into a near -1 to 1 range\n",
    "\n",
    "import numpy as np\n",
    "\n",
    "def normalise_one_image(colour_image_array):\n",
    "    # Quick hack to do simpler normalisation for comparison (not ultimately used):\n",
    "    # new_image = colour_image_array / 128.0\n",
    "    # new_image -= 1.0\n",
    "    # return new_image\n",
    "\n",
    "    (y_size, x_size, num_colours) = np.shape(colour_image_array)\n",
    "    new_image = np.zeros(np.shape(colour_image_array))\n",
    "    min_value = np.min(colour_image_array)\n",
    "    max_value = np.max(colour_image_array)\n",
    "    # Normalise so that darkest value is -1, brightest is +1, irrespective of colour\n",
    "    observed_value_range = float(max_value - min_value)\n",
    "    desired_min_value = -1.0\n",
    "    desired_max_value = +1.0\n",
    "    desired_range = desired_max_value - desired_min_value\n",
    "    for y_coord in range(y_size):\n",
    "        for x_coord in range(x_size):\n",
    "            scale_factor = desired_range / observed_value_range\n",
    "            for colour_idx in range(num_colours):\n",
    "                # shift point colour values so that the lowest RGB value of any pixel in any\n",
    "                # colour channel is zero\n",
    "                pixel_colour_value = float(colour_image_array[y_coord][x_coord][colour_idx])\n",
    "                pixel_colour_value -= min_value\n",
    "                # scale so the range of intensities across the whole image matches our desired range\n",
    "                pixel_colour_value *= scale_factor\n",
    "                # offset so we get values in the desired range\n",
    "                pixel_colour_value += desired_min_value\n",
    "                new_image[y_coord][x_coord][colour_idx] = pixel_colour_value\n",
    "        \n",
    "    return new_image\n",
    "\n",
    "def normalise_image_set(image_set_array):\n",
    "    new_image_set = []\n",
    "    debug_set_size_limit = 100000000 # during debugging limited to a few images to save processing time\n",
    "    count = 0\n",
    "    for image in image_set_array:\n",
    "        new_image = normalise_one_image(image)\n",
    "        new_image_set.append(new_image)\n",
    "        count += 1\n",
    "        if count >= debug_set_size_limit:\n",
    "            break\n",
    "    return new_image_set\n"
   ]
  },
  {
   "cell_type": "code",
   "execution_count": 11,
   "metadata": {},
   "outputs": [
    {
     "name": "stdout",
     "output_type": "stream",
     "text": [
      "Normalising image data...\n",
      "... normalisation complete\n",
      "Normalised data written to file\n"
     ]
    }
   ],
   "source": [
    "# Apply normalisation preprocessing to the specific training and test data\n",
    "\n",
    "print(\"Normalising image data...\")\n",
    "x_train_norm = normalise_image_set(X_train)\n",
    "x_valid_norm = normalise_image_set(X_valid)\n",
    "x_test_norm = normalise_image_set(X_test)\n",
    "print(\"... normalisation complete\")\n",
    "\n",
    "# Write it all to a file so we don't have to run normalisation again\n",
    "with open(\"normalised_data.p\", mode='wb') as f:\n",
    "    pickle.dump(x_train_norm, f)\n",
    "    pickle.dump(y_train, f)\n",
    "    pickle.dump(x_valid_norm, f)\n",
    "    pickle.dump(y_valid, f)\n",
    "    pickle.dump(x_test_norm, f)\n",
    "    pickle.dump(y_test, f)\n",
    "\n",
    "print(\"Normalised data written to file\")"
   ]
  },
  {
   "cell_type": "markdown",
   "metadata": {},
   "source": [
    "### Model Architecture"
   ]
  },
  {
   "cell_type": "markdown",
   "metadata": {},
   "source": [
    "Run from here to reload saved normalised data"
   ]
  },
  {
   "cell_type": "code",
   "execution_count": 6,
   "metadata": {
    "collapsed": true
   },
   "outputs": [],
   "source": [
    "# CW: this is basically my implementation of the previous LeNet exercise, but modified to\n",
    "# a) work with 3 colours (or indeed any number, still works with greyscale now it is a parameter) and\n",
    "# b) work with a variable convolutional layer 1 depth -- increasing this from LeNet's 6 improved performance\n",
    "#    significantly with the traffic signs, enough to exceed the project target, so that's as far as I went\n",
    "#    in experimenting with model architecture\n",
    "# c) save some tensors by name to allow retrieval during later analysis (esp logit values)\n",
    "\n",
    "def LeNet(x, num_classes, num_colours, layer1_depth):    \n",
    "    # Arguments used for tf.truncated_normal, randomly defines variables for the weights and biases for each layer\n",
    "    mu_w = 0\n",
    "    sigma_w = 0.1 # Initial weights clustered around zero reasonably tightly\n",
    "    mu_b = 0\n",
    "    sigma_b = 0.02 # I have a little bit of noise in the initial biases too, experimentally\n",
    "    \n",
    "    # TODO: Layer 1: Convolutional. Input = 32x32x[colour chans]. Output = 28x28xlayer1_depth.\n",
    "    # CW: if the output is 28x28, implies we have a 5x5 filter patch\n",
    "    layer1_weights = tf.Variable(tf.truncated_normal(shape=(5,5,num_colours,layer1_depth), mean=mu_w, stddev=sigma_w), name='layer1_weights')\n",
    "    layer1_biases = tf.Variable(tf.truncated_normal([layer1_depth], mu_b, sigma_b), name='layer1_biases')\n",
    "    layer1_strides = [1, 1, 1, 1] # i.e. no striding\n",
    "    layer1_padding = 'VALID' # hence we went down from 32 to 28\n",
    "    layer1_conv_pre_bias = tf.nn.conv2d(x, layer1_weights, strides=layer1_strides,\n",
    "                                        padding=layer1_padding, name='layer1_conv_pre_bias')\n",
    "    layer1_conv_post_bias = tf.add(layer1_conv_pre_bias,layer1_biases, name='layer1_conv_post_bias')\n",
    "\n",
    "    # TODO: Activation.\n",
    "    # CW: no direction as to function so guessing\n",
    "    layer1_activation = tf.nn.relu(layer1_conv_post_bias)\n",
    "\n",
    "    # TODO: Pooling. Input = 28x28x6. Output = 14x14x12.\n",
    "    layer1_pool_ksize = [1,2,2,1] # batch, 2x2 height/width, pool x/y only\n",
    "    layer1_pool_strides = [1, 2, 2, 1] # batch, 2x2 height/width stride, 1=depth stride\n",
    "    layer1_pool_padding = 'VALID'\n",
    "    layer1_pooled = tf.nn.max_pool(layer1_activation, layer1_pool_ksize, \n",
    "                                   layer1_pool_strides, layer1_pool_padding)\n",
    "\n",
    "    # TODO: Layer 2: Convolutional. Output = 10x10x16.\n",
    "    # CW: if the output is 10x10 from 14x14, implies we have a 5x5 filter patch\n",
    "    layer2_weights = tf.Variable(tf.truncated_normal([5,5,layer1_depth,16], mu_w, sigma_w))\n",
    "    layer2_biases = tf.Variable(tf.truncated_normal([16], mu_b, sigma_b))\n",
    "    layer2_strides = [1, 1, 1, 1] # i.e. no striding\n",
    "    layer2_padding = 'VALID' # hence we went down from 14 to 10\n",
    "    layer2_conv_pre_bias = tf.nn.conv2d(layer1_pooled, layer2_weights, strides=layer2_strides,\n",
    "                                        padding=layer2_padding)\n",
    "    layer2_conv_post_bias = layer2_conv_pre_bias + layer2_biases\n",
    "    \n",
    "    # TODO: Activation.\n",
    "    # CW: no direction as to function so guessing\n",
    "    layer2_activation = tf.nn.relu(layer2_conv_post_bias)\n",
    "\n",
    "    # TODO: Pooling. Input = 10x10x16. Output = 5x5x16.\n",
    "    layer2_pool_ksize = [1,2,2,1] # batch, 2x2 height/width, output depth pooling xy only\n",
    "    layer2_pool_strides = [1, 2, 2, 1] # batch, 2x2 stride in 1=height/depth only\n",
    "    layer2_pool_padding = 'VALID'\n",
    "    layer2_pooled = tf.nn.max_pool(layer2_activation, layer2_pool_ksize, \n",
    "                                   layer2_pool_strides, layer2_pool_padding)\n",
    "\n",
    "    # TODO: Flatten. Input = 5x5x16. Output = 400.\n",
    "    layer2_flattened = tf.contrib.layers.flatten(layer2_pooled)\n",
    "    \n",
    "    # TODO: Layer 3: Fully Connected. Input = 400. Output = 120.\n",
    "    layer3_weights = tf.Variable(tf.truncated_normal([400,120], mu_w, sigma_w))\n",
    "    layer3_biases =tf.Variable( tf.truncated_normal([120], mu_b, sigma_b))\n",
    "    layer3_pre_bias = tf.matmul(layer2_flattened,layer3_weights)\n",
    "    layer3_post_bias = layer3_pre_bias + layer3_biases\n",
    "    \n",
    "    # TODO: Activation.\n",
    "    # CW: no direction as to function so guessing\n",
    "    layer3_activation = tf.nn.relu(layer3_post_bias)\n",
    "\n",
    "    # TODO: Layer 4: Fully Connected. Input = 120. Output = 84.\n",
    "    layer4_weights = tf.Variable( tf.truncated_normal([120,84], mu_w, sigma_w))\n",
    "    layer4_biases = tf.Variable(tf.truncated_normal([84], mu_b, sigma_b))\n",
    "    layer4_pre_bias = tf.matmul(layer3_activation, layer4_weights)\n",
    "    layer4_post_bias = layer4_pre_bias + layer4_biases\n",
    "    \n",
    "    # TODO: Activation.\n",
    "    # CW: no direction as to function so guessing\n",
    "    layer4_activation = tf.nn.relu(layer4_post_bias)\n",
    "\n",
    "    # TODO: Layer 5: Fully Connected. Input = 84. Output = num_classes.\n",
    "    layer5_weights = tf.Variable(tf.truncated_normal([84,num_classes], mu_w, sigma_w))\n",
    "    layer5_biases = tf.Variable(tf.truncated_normal([num_classes], mu_b, sigma_b))\n",
    "    layer5_pre_bias = tf.matmul(layer4_activation, layer5_weights)\n",
    "    layer5_post_bias = layer5_pre_bias + layer5_biases\n",
    "\n",
    "    # I had softmax but solution used output directly\n",
    "    logits = tf.nn.softmax(layer5_post_bias, name='logits')\n",
    "    #logits = layer5_post_bias\n",
    "    \n",
    "    return logits\n"
   ]
  },
  {
   "cell_type": "markdown",
   "metadata": {},
   "source": [
    "### Train, Validate and Test the Model"
   ]
  },
  {
   "cell_type": "markdown",
   "metadata": {},
   "source": [
    "A validation set can be used to assess how well the model is performing. A low accuracy on the training and validation\n",
    "sets imply underfitting. A high accuracy on the training set but low accuracy on the validation set implies overfitting."
   ]
  },
  {
   "cell_type": "code",
   "execution_count": 1,
   "metadata": {
    "collapsed": true
   },
   "outputs": [],
   "source": [
    "# This is required by both training and final testing cells\n",
    "def evaluate(sess, accuracy_operation, X_data, y_data):\n",
    "    num_examples = len(X_data)\n",
    "    total_accuracy = 0\n",
    "    #sess = tf.get_default_session()\n",
    "    for offset in range(0, num_examples, BATCH_SIZE):\n",
    "        batch_x, batch_y = X_data[offset:offset+BATCH_SIZE], y_data[offset:offset+BATCH_SIZE]\n",
    "        accuracy = sess.run(accuracy_operation, feed_dict={x: batch_x, y: batch_y})\n",
    "        total_accuracy += (accuracy * len(batch_x))\n",
    "    return total_accuracy / num_examples"
   ]
  },
  {
   "cell_type": "code",
   "execution_count": 8,
   "metadata": {},
   "outputs": [
    {
     "name": "stdout",
     "output_type": "stream",
     "text": [
      "Retrieving normalised data from file...\n",
      "... data loaded.\n",
      "num_classes = 43\n",
      "Training with EPOCHS=700 BATCH_SIZE=256 rate=<dynamic> num_colours=3 layer1 depth=24\n",
      "\n",
      "Epochs\tValidation Accuracy\n",
      "1\t0.372109\n"
     ]
    },
    {
     "name": "stderr",
     "output_type": "stream",
     "text": [
      "1\t0.372109\n"
     ]
    },
    {
     "name": "stdout",
     "output_type": "stream",
     "text": [
      "2\t0.484807\n"
     ]
    },
    {
     "name": "stderr",
     "output_type": "stream",
     "text": [
      "2\t0.484807\n"
     ]
    },
    {
     "name": "stdout",
     "output_type": "stream",
     "text": [
      "3\t0.495918\n"
     ]
    },
    {
     "name": "stderr",
     "output_type": "stream",
     "text": [
      "3\t0.495918\n"
     ]
    },
    {
     "name": "stdout",
     "output_type": "stream",
     "text": [
      "4\t0.500454\n"
     ]
    },
    {
     "name": "stderr",
     "output_type": "stream",
     "text": [
      "4\t0.500454\n"
     ]
    },
    {
     "name": "stdout",
     "output_type": "stream",
     "text": [
      "5\t0.497959\n"
     ]
    },
    {
     "name": "stderr",
     "output_type": "stream",
     "text": [
      "5\t0.497959\n"
     ]
    },
    {
     "name": "stdout",
     "output_type": "stream",
     "text": [
      "6\t0.498186\n"
     ]
    },
    {
     "name": "stderr",
     "output_type": "stream",
     "text": [
      "6\t0.498186\n"
     ]
    },
    {
     "name": "stdout",
     "output_type": "stream",
     "text": [
      "7\t0.501814\n"
     ]
    },
    {
     "name": "stderr",
     "output_type": "stream",
     "text": [
      "7\t0.501814\n"
     ]
    },
    {
     "name": "stdout",
     "output_type": "stream",
     "text": [
      "8\t0.502494\n"
     ]
    },
    {
     "name": "stderr",
     "output_type": "stream",
     "text": [
      "8\t0.502494\n"
     ]
    },
    {
     "name": "stdout",
     "output_type": "stream",
     "text": [
      "9\t0.502494\n"
     ]
    },
    {
     "name": "stderr",
     "output_type": "stream",
     "text": [
      "9\t0.502494\n"
     ]
    },
    {
     "name": "stdout",
     "output_type": "stream",
     "text": [
      "10\t0.502041\n"
     ]
    },
    {
     "name": "stderr",
     "output_type": "stream",
     "text": [
      "10\t0.502041\n"
     ]
    },
    {
     "name": "stdout",
     "output_type": "stream",
     "text": [
      "11\t0.504308\n"
     ]
    },
    {
     "name": "stderr",
     "output_type": "stream",
     "text": [
      "11\t0.504308\n"
     ]
    },
    {
     "name": "stdout",
     "output_type": "stream",
     "text": [
      "12\t0.535147\n"
     ]
    },
    {
     "name": "stderr",
     "output_type": "stream",
     "text": [
      "12\t0.535147\n"
     ]
    },
    {
     "name": "stdout",
     "output_type": "stream",
     "text": [
      "13\t0.533107\n"
     ]
    },
    {
     "name": "stderr",
     "output_type": "stream",
     "text": [
      "13\t0.533107\n"
     ]
    },
    {
     "name": "stdout",
     "output_type": "stream",
     "text": [
      "14\t0.533787\n"
     ]
    },
    {
     "name": "stderr",
     "output_type": "stream",
     "text": [
      "14\t0.533787\n"
     ]
    },
    {
     "name": "stdout",
     "output_type": "stream",
     "text": [
      "15\t0.536054\n"
     ]
    },
    {
     "name": "stderr",
     "output_type": "stream",
     "text": [
      "15\t0.536054\n"
     ]
    },
    {
     "name": "stdout",
     "output_type": "stream",
     "text": [
      "16\t0.536961\n"
     ]
    },
    {
     "name": "stderr",
     "output_type": "stream",
     "text": [
      "16\t0.536961\n"
     ]
    },
    {
     "name": "stdout",
     "output_type": "stream",
     "text": [
      "17\t0.536054\n"
     ]
    },
    {
     "name": "stderr",
     "output_type": "stream",
     "text": [
      "17\t0.536054\n"
     ]
    },
    {
     "name": "stdout",
     "output_type": "stream",
     "text": [
      "18\t0.553741\n"
     ]
    },
    {
     "name": "stderr",
     "output_type": "stream",
     "text": [
      "18\t0.553741\n"
     ]
    },
    {
     "name": "stdout",
     "output_type": "stream",
     "text": [
      "19\t0.555782\n"
     ]
    },
    {
     "name": "stderr",
     "output_type": "stream",
     "text": [
      "19\t0.555782\n"
     ]
    },
    {
     "name": "stdout",
     "output_type": "stream",
     "text": [
      "20\t0.555782\n"
     ]
    },
    {
     "name": "stderr",
     "output_type": "stream",
     "text": [
      "20\t0.555782\n"
     ]
    },
    {
     "name": "stdout",
     "output_type": "stream",
     "text": [
      "21\t0.556236\n"
     ]
    },
    {
     "name": "stderr",
     "output_type": "stream",
     "text": [
      "21\t0.556236\n"
     ]
    },
    {
     "name": "stdout",
     "output_type": "stream",
     "text": [
      "22\t0.557143\n"
     ]
    },
    {
     "name": "stderr",
     "output_type": "stream",
     "text": [
      "22\t0.557143\n"
     ]
    },
    {
     "name": "stdout",
     "output_type": "stream",
     "text": [
      "23\t0.556236\n"
     ]
    },
    {
     "name": "stderr",
     "output_type": "stream",
     "text": [
      "23\t0.556236\n"
     ]
    },
    {
     "name": "stdout",
     "output_type": "stream",
     "text": [
      "24\t0.569841\n"
     ]
    },
    {
     "name": "stderr",
     "output_type": "stream",
     "text": [
      "24\t0.569841\n"
     ]
    },
    {
     "name": "stdout",
     "output_type": "stream",
     "text": [
      "25\t0.582993\n"
     ]
    },
    {
     "name": "stderr",
     "output_type": "stream",
     "text": [
      "25\t0.582993\n"
     ]
    },
    {
     "name": "stdout",
     "output_type": "stream",
     "text": [
      "26\t0.585261\n"
     ]
    },
    {
     "name": "stderr",
     "output_type": "stream",
     "text": [
      "26\t0.585261\n"
     ]
    },
    {
     "name": "stdout",
     "output_type": "stream",
     "text": [
      "27\t0.587302\n"
     ]
    },
    {
     "name": "stderr",
     "output_type": "stream",
     "text": [
      "27\t0.587302\n"
     ]
    },
    {
     "name": "stdout",
     "output_type": "stream",
     "text": [
      "28\t0.611791\n"
     ]
    },
    {
     "name": "stderr",
     "output_type": "stream",
     "text": [
      "28\t0.611791\n"
     ]
    },
    {
     "name": "stdout",
     "output_type": "stream",
     "text": [
      "29\t0.623129\n"
     ]
    },
    {
     "name": "stderr",
     "output_type": "stream",
     "text": [
      "29\t0.623129\n"
     ]
    },
    {
     "name": "stdout",
     "output_type": "stream",
     "text": [
      "30\t0.620181\n"
     ]
    },
    {
     "name": "stderr",
     "output_type": "stream",
     "text": [
      "30\t0.620181\n"
     ]
    },
    {
     "name": "stdout",
     "output_type": "stream",
     "text": [
      "31\t0.625170\n"
     ]
    },
    {
     "name": "stderr",
     "output_type": "stream",
     "text": [
      "31\t0.625170\n"
     ]
    },
    {
     "name": "stdout",
     "output_type": "stream",
     "text": [
      "32\t0.649206\n"
     ]
    },
    {
     "name": "stderr",
     "output_type": "stream",
     "text": [
      "32\t0.649206\n"
     ]
    },
    {
     "name": "stdout",
     "output_type": "stream",
     "text": [
      "33\t0.674150\n"
     ]
    },
    {
     "name": "stderr",
     "output_type": "stream",
     "text": [
      "33\t0.674150\n"
     ]
    },
    {
     "name": "stdout",
     "output_type": "stream",
     "text": [
      "34\t0.670295\n"
     ]
    },
    {
     "name": "stderr",
     "output_type": "stream",
     "text": [
      "34\t0.670295\n"
     ]
    },
    {
     "name": "stdout",
     "output_type": "stream",
     "text": [
      "35\t0.674376\n"
     ]
    },
    {
     "name": "stderr",
     "output_type": "stream",
     "text": [
      "35\t0.674376\n"
     ]
    },
    {
     "name": "stdout",
     "output_type": "stream",
     "text": [
      "36\t0.676644\n"
     ]
    },
    {
     "name": "stderr",
     "output_type": "stream",
     "text": [
      "36\t0.676644\n"
     ]
    },
    {
     "name": "stdout",
     "output_type": "stream",
     "text": [
      "37\t0.677324\n"
     ]
    },
    {
     "name": "stderr",
     "output_type": "stream",
     "text": [
      "37\t0.677324\n"
     ]
    },
    {
     "name": "stdout",
     "output_type": "stream",
     "text": [
      "38\t0.693878\n"
     ]
    },
    {
     "name": "stderr",
     "output_type": "stream",
     "text": [
      "38\t0.693878\n"
     ]
    },
    {
     "name": "stdout",
     "output_type": "stream",
     "text": [
      "39\t0.697732\n"
     ]
    },
    {
     "name": "stderr",
     "output_type": "stream",
     "text": [
      "39\t0.697732\n"
     ]
    },
    {
     "name": "stdout",
     "output_type": "stream",
     "text": [
      "40\t0.698866\n"
     ]
    },
    {
     "name": "stderr",
     "output_type": "stream",
     "text": [
      "40\t0.698866\n"
     ]
    },
    {
     "name": "stdout",
     "output_type": "stream",
     "text": [
      "41\t0.698413\n"
     ]
    },
    {
     "name": "stderr",
     "output_type": "stream",
     "text": [
      "41\t0.698413\n"
     ]
    },
    {
     "name": "stdout",
     "output_type": "stream",
     "text": [
      "42\t0.700000\n"
     ]
    },
    {
     "name": "stderr",
     "output_type": "stream",
     "text": [
      "42\t0.700000\n"
     ]
    },
    {
     "name": "stdout",
     "output_type": "stream",
     "text": [
      "43\t0.709977\n"
     ]
    },
    {
     "name": "stderr",
     "output_type": "stream",
     "text": [
      "43\t0.709977\n"
     ]
    },
    {
     "name": "stdout",
     "output_type": "stream",
     "text": [
      "44\t0.730159\n"
     ]
    },
    {
     "name": "stderr",
     "output_type": "stream",
     "text": [
      "44\t0.730159\n"
     ]
    },
    {
     "name": "stdout",
     "output_type": "stream",
     "text": [
      "45\t0.732200\n"
     ]
    },
    {
     "name": "stderr",
     "output_type": "stream",
     "text": [
      "45\t0.732200\n"
     ]
    },
    {
     "name": "stdout",
     "output_type": "stream",
     "text": [
      "46\t0.734240\n"
     ]
    },
    {
     "name": "stderr",
     "output_type": "stream",
     "text": [
      "46\t0.734240\n"
     ]
    },
    {
     "name": "stdout",
     "output_type": "stream",
     "text": [
      "47\t0.734694\n"
     ]
    },
    {
     "name": "stderr",
     "output_type": "stream",
     "text": [
      "47\t0.734694\n"
     ]
    },
    {
     "name": "stdout",
     "output_type": "stream",
     "text": [
      "48\t0.734921\n"
     ]
    },
    {
     "name": "stderr",
     "output_type": "stream",
     "text": [
      "48\t0.734921\n"
     ]
    },
    {
     "name": "stdout",
     "output_type": "stream",
     "text": [
      "49\t0.745805\n"
     ]
    },
    {
     "name": "stderr",
     "output_type": "stream",
     "text": [
      "49\t0.745805\n"
     ]
    },
    {
     "name": "stdout",
     "output_type": "stream",
     "text": [
      "50\t0.742857\n"
     ]
    },
    {
     "name": "stderr",
     "output_type": "stream",
     "text": [
      "50\t0.742857\n"
     ]
    },
    {
     "name": "stdout",
     "output_type": "stream",
     "text": [
      "51\t0.752608\n"
     ]
    },
    {
     "name": "stderr",
     "output_type": "stream",
     "text": [
      "51\t0.752608\n"
     ]
    },
    {
     "name": "stdout",
     "output_type": "stream",
     "text": [
      "52\t0.757143\n"
     ]
    },
    {
     "name": "stderr",
     "output_type": "stream",
     "text": [
      "52\t0.757143\n"
     ]
    },
    {
     "name": "stdout",
     "output_type": "stream",
     "text": [
      "53\t0.758957\n"
     ]
    },
    {
     "name": "stderr",
     "output_type": "stream",
     "text": [
      "53\t0.758957\n"
     ]
    },
    {
     "name": "stdout",
     "output_type": "stream",
     "text": [
      "54\t0.761678\n"
     ]
    },
    {
     "name": "stderr",
     "output_type": "stream",
     "text": [
      "54\t0.761678\n"
     ]
    },
    {
     "name": "stdout",
     "output_type": "stream",
     "text": [
      "55\t0.765760\n"
     ]
    },
    {
     "name": "stderr",
     "output_type": "stream",
     "text": [
      "55\t0.765760\n"
     ]
    },
    {
     "name": "stdout",
     "output_type": "stream",
     "text": [
      "56\t0.765306\n"
     ]
    },
    {
     "name": "stderr",
     "output_type": "stream",
     "text": [
      "56\t0.765306\n"
     ]
    },
    {
     "name": "stdout",
     "output_type": "stream",
     "text": [
      "57\t0.764399\n"
     ]
    },
    {
     "name": "stderr",
     "output_type": "stream",
     "text": [
      "57\t0.764399\n"
     ]
    },
    {
     "name": "stdout",
     "output_type": "stream",
     "text": [
      "58\t0.766213\n"
     ]
    },
    {
     "name": "stderr",
     "output_type": "stream",
     "text": [
      "58\t0.766213\n"
     ]
    },
    {
     "name": "stdout",
     "output_type": "stream",
     "text": [
      "59\t0.766667\n"
     ]
    },
    {
     "name": "stderr",
     "output_type": "stream",
     "text": [
      "59\t0.766667\n"
     ]
    },
    {
     "name": "stdout",
     "output_type": "stream",
     "text": [
      "60\t0.768027\n"
     ]
    },
    {
     "name": "stderr",
     "output_type": "stream",
     "text": [
      "60\t0.768027\n"
     ]
    },
    {
     "name": "stdout",
     "output_type": "stream",
     "text": [
      "61\t0.771429\n"
     ]
    },
    {
     "name": "stderr",
     "output_type": "stream",
     "text": [
      "61\t0.771429\n"
     ]
    },
    {
     "name": "stdout",
     "output_type": "stream",
     "text": [
      "62\t0.797052\n"
     ]
    },
    {
     "name": "stderr",
     "output_type": "stream",
     "text": [
      "62\t0.797052\n"
     ]
    },
    {
     "name": "stdout",
     "output_type": "stream",
     "text": [
      "63\t0.801814\n"
     ]
    },
    {
     "name": "stderr",
     "output_type": "stream",
     "text": [
      "63\t0.801814\n"
     ]
    },
    {
     "name": "stdout",
     "output_type": "stream",
     "text": [
      "64\t0.800000\n"
     ]
    },
    {
     "name": "stderr",
     "output_type": "stream",
     "text": [
      "64\t0.800000\n"
     ]
    },
    {
     "name": "stdout",
     "output_type": "stream",
     "text": [
      "65\t0.800227\n"
     ]
    },
    {
     "name": "stderr",
     "output_type": "stream",
     "text": [
      "65\t0.800227\n"
     ]
    },
    {
     "name": "stdout",
     "output_type": "stream",
     "text": [
      "66\t0.802041\n"
     ]
    },
    {
     "name": "stderr",
     "output_type": "stream",
     "text": [
      "66\t0.802041\n"
     ]
    },
    {
     "name": "stdout",
     "output_type": "stream",
     "text": [
      "67\t0.801814\n"
     ]
    },
    {
     "name": "stderr",
     "output_type": "stream",
     "text": [
      "67\t0.801814\n"
     ]
    },
    {
     "name": "stdout",
     "output_type": "stream",
     "text": [
      "68\t0.800907\n"
     ]
    },
    {
     "name": "stderr",
     "output_type": "stream",
     "text": [
      "68\t0.800907\n"
     ]
    },
    {
     "name": "stdout",
     "output_type": "stream",
     "text": [
      "69\t0.834240\n"
     ]
    },
    {
     "name": "stderr",
     "output_type": "stream",
     "text": [
      "69\t0.834240\n"
     ]
    },
    {
     "name": "stdout",
     "output_type": "stream",
     "text": [
      "70\t0.835374\n"
     ]
    },
    {
     "name": "stderr",
     "output_type": "stream",
     "text": [
      "70\t0.835374\n"
     ]
    },
    {
     "name": "stdout",
     "output_type": "stream",
     "text": [
      "71\t0.835828\n"
     ]
    },
    {
     "name": "stderr",
     "output_type": "stream",
     "text": [
      "71\t0.835828\n"
     ]
    },
    {
     "name": "stdout",
     "output_type": "stream",
     "text": [
      "72\t0.836281\n"
     ]
    },
    {
     "name": "stderr",
     "output_type": "stream",
     "text": [
      "72\t0.836281\n"
     ]
    },
    {
     "name": "stdout",
     "output_type": "stream",
     "text": [
      "73\t0.841270\n"
     ]
    },
    {
     "name": "stderr",
     "output_type": "stream",
     "text": [
      "73\t0.841270\n"
     ]
    },
    {
     "name": "stdout",
     "output_type": "stream",
     "text": [
      "74\t0.844898\n"
     ]
    },
    {
     "name": "stderr",
     "output_type": "stream",
     "text": [
      "74\t0.844898\n"
     ]
    },
    {
     "name": "stdout",
     "output_type": "stream",
     "text": [
      "75\t0.844444\n"
     ]
    },
    {
     "name": "stderr",
     "output_type": "stream",
     "text": [
      "75\t0.844444\n"
     ]
    },
    {
     "name": "stdout",
     "output_type": "stream",
     "text": [
      "76\t0.846259\n"
     ]
    },
    {
     "name": "stderr",
     "output_type": "stream",
     "text": [
      "76\t0.846259\n"
     ]
    },
    {
     "name": "stdout",
     "output_type": "stream",
     "text": [
      "77\t0.844671\n"
     ]
    },
    {
     "name": "stderr",
     "output_type": "stream",
     "text": [
      "77\t0.844671\n"
     ]
    },
    {
     "name": "stdout",
     "output_type": "stream",
     "text": [
      "78\t0.845125\n"
     ]
    },
    {
     "name": "stderr",
     "output_type": "stream",
     "text": [
      "78\t0.845125\n"
     ]
    },
    {
     "name": "stdout",
     "output_type": "stream",
     "text": [
      "79\t0.872789\n"
     ]
    },
    {
     "name": "stderr",
     "output_type": "stream",
     "text": [
      "79\t0.872789\n"
     ]
    },
    {
     "name": "stdout",
     "output_type": "stream",
     "text": [
      "80\t0.869615\n"
     ]
    },
    {
     "name": "stderr",
     "output_type": "stream",
     "text": [
      "80\t0.869615\n"
     ]
    },
    {
     "name": "stdout",
     "output_type": "stream",
     "text": [
      "81\t0.878458\n"
     ]
    },
    {
     "name": "stderr",
     "output_type": "stream",
     "text": [
      "81\t0.878458\n"
     ]
    },
    {
     "name": "stdout",
     "output_type": "stream",
     "text": [
      "82\t0.877551\n"
     ]
    },
    {
     "name": "stderr",
     "output_type": "stream",
     "text": [
      "82\t0.877551\n"
     ]
    },
    {
     "name": "stdout",
     "output_type": "stream",
     "text": [
      "83\t0.879365\n"
     ]
    },
    {
     "name": "stderr",
     "output_type": "stream",
     "text": [
      "83\t0.879365\n"
     ]
    },
    {
     "name": "stdout",
     "output_type": "stream",
     "text": [
      "84\t0.882086\n"
     ]
    },
    {
     "name": "stderr",
     "output_type": "stream",
     "text": [
      "84\t0.882086\n"
     ]
    },
    {
     "name": "stdout",
     "output_type": "stream",
     "text": [
      "85\t0.880272\n"
     ]
    },
    {
     "name": "stderr",
     "output_type": "stream",
     "text": [
      "85\t0.880272\n"
     ]
    },
    {
     "name": "stdout",
     "output_type": "stream",
     "text": [
      "86\t0.881179\n"
     ]
    },
    {
     "name": "stderr",
     "output_type": "stream",
     "text": [
      "86\t0.881179\n"
     ]
    },
    {
     "name": "stdout",
     "output_type": "stream",
     "text": [
      "87\t0.880045\n"
     ]
    },
    {
     "name": "stderr",
     "output_type": "stream",
     "text": [
      "87\t0.880045\n"
     ]
    },
    {
     "name": "stdout",
     "output_type": "stream",
     "text": [
      "88\t0.880272\n"
     ]
    },
    {
     "name": "stderr",
     "output_type": "stream",
     "text": [
      "88\t0.880272\n"
     ]
    },
    {
     "name": "stdout",
     "output_type": "stream",
     "text": [
      "89\t0.880499\n"
     ]
    },
    {
     "name": "stderr",
     "output_type": "stream",
     "text": [
      "89\t0.880499\n"
     ]
    },
    {
     "name": "stdout",
     "output_type": "stream",
     "text": [
      "90\t0.880726\n"
     ]
    },
    {
     "name": "stderr",
     "output_type": "stream",
     "text": [
      "90\t0.880726\n"
     ]
    },
    {
     "name": "stdout",
     "output_type": "stream",
     "text": [
      "91\t0.879819\n"
     ]
    },
    {
     "name": "stderr",
     "output_type": "stream",
     "text": [
      "91\t0.879819\n"
     ]
    },
    {
     "name": "stdout",
     "output_type": "stream",
     "text": [
      "92\t0.881179\n"
     ]
    },
    {
     "name": "stderr",
     "output_type": "stream",
     "text": [
      "92\t0.881179\n"
     ]
    },
    {
     "name": "stdout",
     "output_type": "stream",
     "text": [
      "93\t0.881406\n"
     ]
    },
    {
     "name": "stderr",
     "output_type": "stream",
     "text": [
      "93\t0.881406\n"
     ]
    },
    {
     "name": "stdout",
     "output_type": "stream",
     "text": [
      "94\t0.881179\n"
     ]
    },
    {
     "name": "stderr",
     "output_type": "stream",
     "text": [
      "94\t0.881179\n"
     ]
    },
    {
     "name": "stdout",
     "output_type": "stream",
     "text": [
      "95\t0.880726\n"
     ]
    },
    {
     "name": "stderr",
     "output_type": "stream",
     "text": [
      "95\t0.880726\n"
     ]
    },
    {
     "name": "stdout",
     "output_type": "stream",
     "text": [
      "96\t0.880952\n"
     ]
    },
    {
     "name": "stderr",
     "output_type": "stream",
     "text": [
      "96\t0.880952\n"
     ]
    },
    {
     "name": "stdout",
     "output_type": "stream",
     "text": [
      "97\t0.881406\n"
     ]
    },
    {
     "name": "stderr",
     "output_type": "stream",
     "text": [
      "97\t0.881406\n"
     ]
    },
    {
     "name": "stdout",
     "output_type": "stream",
     "text": [
      "98\t0.881406\n"
     ]
    },
    {
     "name": "stderr",
     "output_type": "stream",
     "text": [
      "98\t0.881406\n"
     ]
    },
    {
     "name": "stdout",
     "output_type": "stream",
     "text": [
      "99\t0.881406\n"
     ]
    },
    {
     "name": "stderr",
     "output_type": "stream",
     "text": [
      "99\t0.881406\n"
     ]
    },
    {
     "name": "stdout",
     "output_type": "stream",
     "text": [
      "100\t0.880726\n"
     ]
    },
    {
     "name": "stderr",
     "output_type": "stream",
     "text": [
      "100\t0.880726\n"
     ]
    },
    {
     "name": "stdout",
     "output_type": "stream",
     "text": [
      "101\t0.880726\n"
     ]
    },
    {
     "name": "stderr",
     "output_type": "stream",
     "text": [
      "101\t0.880726\n"
     ]
    },
    {
     "name": "stdout",
     "output_type": "stream",
     "text": [
      "102\t0.880499\n"
     ]
    },
    {
     "name": "stderr",
     "output_type": "stream",
     "text": [
      "102\t0.880499\n"
     ]
    },
    {
     "name": "stdout",
     "output_type": "stream",
     "text": [
      "103\t0.878685\n"
     ]
    },
    {
     "name": "stderr",
     "output_type": "stream",
     "text": [
      "103\t0.878685\n"
     ]
    },
    {
     "name": "stdout",
     "output_type": "stream",
     "text": [
      "104\t0.854875\n"
     ]
    },
    {
     "name": "stderr",
     "output_type": "stream",
     "text": [
      "104\t0.854875\n"
     ]
    },
    {
     "name": "stdout",
     "output_type": "stream",
     "text": [
      "105\t0.870295\n"
     ]
    },
    {
     "name": "stderr",
     "output_type": "stream",
     "text": [
      "105\t0.870295\n"
     ]
    },
    {
     "name": "stdout",
     "output_type": "stream",
     "text": [
      "106\t0.881859\n"
     ]
    },
    {
     "name": "stderr",
     "output_type": "stream",
     "text": [
      "106\t0.881859\n"
     ]
    },
    {
     "name": "stdout",
     "output_type": "stream",
     "text": [
      "107\t0.882766\n"
     ]
    },
    {
     "name": "stderr",
     "output_type": "stream",
     "text": [
      "107\t0.882766\n"
     ]
    },
    {
     "name": "stdout",
     "output_type": "stream",
     "text": [
      "108\t0.883673\n"
     ]
    },
    {
     "name": "stderr",
     "output_type": "stream",
     "text": [
      "108\t0.883673\n"
     ]
    },
    {
     "name": "stdout",
     "output_type": "stream",
     "text": [
      "109\t0.883447\n"
     ]
    },
    {
     "name": "stderr",
     "output_type": "stream",
     "text": [
      "109\t0.883447\n"
     ]
    },
    {
     "name": "stdout",
     "output_type": "stream",
     "text": [
      "110\t0.882993\n"
     ]
    },
    {
     "name": "stderr",
     "output_type": "stream",
     "text": [
      "110\t0.882993\n"
     ]
    },
    {
     "name": "stdout",
     "output_type": "stream",
     "text": [
      "111\t0.883673\n"
     ]
    },
    {
     "name": "stderr",
     "output_type": "stream",
     "text": [
      "111\t0.883673\n"
     ]
    },
    {
     "name": "stdout",
     "output_type": "stream",
     "text": [
      "112\t0.882766\n"
     ]
    },
    {
     "name": "stderr",
     "output_type": "stream",
     "text": [
      "112\t0.882766\n"
     ]
    },
    {
     "name": "stdout",
     "output_type": "stream",
     "text": [
      "113\t0.882766\n"
     ]
    },
    {
     "name": "stderr",
     "output_type": "stream",
     "text": [
      "113\t0.882766\n"
     ]
    },
    {
     "name": "stdout",
     "output_type": "stream",
     "text": [
      "114\t0.882766\n"
     ]
    },
    {
     "name": "stderr",
     "output_type": "stream",
     "text": [
      "114\t0.882766\n"
     ]
    },
    {
     "name": "stdout",
     "output_type": "stream",
     "text": [
      "115\t0.880952\n"
     ]
    },
    {
     "name": "stderr",
     "output_type": "stream",
     "text": [
      "115\t0.880952\n"
     ]
    },
    {
     "name": "stdout",
     "output_type": "stream",
     "text": [
      "116\t0.881859\n"
     ]
    },
    {
     "name": "stderr",
     "output_type": "stream",
     "text": [
      "116\t0.881859\n"
     ]
    },
    {
     "name": "stdout",
     "output_type": "stream",
     "text": [
      "117\t0.882086\n"
     ]
    },
    {
     "name": "stderr",
     "output_type": "stream",
     "text": [
      "117\t0.882086\n"
     ]
    },
    {
     "name": "stdout",
     "output_type": "stream",
     "text": [
      "118\t0.881633\n"
     ]
    },
    {
     "name": "stderr",
     "output_type": "stream",
     "text": [
      "118\t0.881633\n"
     ]
    },
    {
     "name": "stdout",
     "output_type": "stream",
     "text": [
      "119\t0.881859\n"
     ]
    },
    {
     "name": "stderr",
     "output_type": "stream",
     "text": [
      "119\t0.881859\n"
     ]
    },
    {
     "name": "stdout",
     "output_type": "stream",
     "text": [
      "120\t0.881859\n"
     ]
    },
    {
     "name": "stderr",
     "output_type": "stream",
     "text": [
      "120\t0.881859\n"
     ]
    },
    {
     "name": "stdout",
     "output_type": "stream",
     "text": [
      "121\t0.881633\n"
     ]
    },
    {
     "name": "stderr",
     "output_type": "stream",
     "text": [
      "121\t0.881633\n"
     ]
    },
    {
     "name": "stdout",
     "output_type": "stream",
     "text": [
      "122\t0.882313\n"
     ]
    },
    {
     "name": "stderr",
     "output_type": "stream",
     "text": [
      "122\t0.882313\n"
     ]
    },
    {
     "name": "stdout",
     "output_type": "stream",
     "text": [
      "123\t0.881859\n"
     ]
    },
    {
     "name": "stderr",
     "output_type": "stream",
     "text": [
      "123\t0.881859\n"
     ]
    },
    {
     "name": "stdout",
     "output_type": "stream",
     "text": [
      "124\t0.882540\n"
     ]
    },
    {
     "name": "stderr",
     "output_type": "stream",
     "text": [
      "124\t0.882540\n"
     ]
    },
    {
     "name": "stdout",
     "output_type": "stream",
     "text": [
      "125\t0.877551\n"
     ]
    },
    {
     "name": "stderr",
     "output_type": "stream",
     "text": [
      "125\t0.877551\n"
     ]
    },
    {
     "name": "stdout",
     "output_type": "stream",
     "text": [
      "126\t0.874603\n"
     ]
    },
    {
     "name": "stderr",
     "output_type": "stream",
     "text": [
      "126\t0.874603\n"
     ]
    },
    {
     "name": "stdout",
     "output_type": "stream",
     "text": [
      "127\t0.880726\n"
     ]
    },
    {
     "name": "stderr",
     "output_type": "stream",
     "text": [
      "127\t0.880726\n"
     ]
    },
    {
     "name": "stdout",
     "output_type": "stream",
     "text": [
      "128\t0.878231\n"
     ]
    },
    {
     "name": "stderr",
     "output_type": "stream",
     "text": [
      "128\t0.878231\n"
     ]
    },
    {
     "name": "stdout",
     "output_type": "stream",
     "text": [
      "129\t0.881406\n"
     ]
    },
    {
     "name": "stderr",
     "output_type": "stream",
     "text": [
      "129\t0.881406\n"
     ]
    },
    {
     "name": "stdout",
     "output_type": "stream",
     "text": [
      "130\t0.880499\n"
     ]
    },
    {
     "name": "stderr",
     "output_type": "stream",
     "text": [
      "130\t0.880499\n"
     ]
    },
    {
     "name": "stdout",
     "output_type": "stream",
     "text": [
      "131\t0.884127\n"
     ]
    },
    {
     "name": "stderr",
     "output_type": "stream",
     "text": [
      "131\t0.884127\n"
     ]
    },
    {
     "name": "stdout",
     "output_type": "stream",
     "text": [
      "132\t0.882540\n"
     ]
    },
    {
     "name": "stderr",
     "output_type": "stream",
     "text": [
      "132\t0.882540\n"
     ]
    },
    {
     "name": "stdout",
     "output_type": "stream",
     "text": [
      "133\t0.883673\n"
     ]
    },
    {
     "name": "stderr",
     "output_type": "stream",
     "text": [
      "133\t0.883673\n"
     ]
    },
    {
     "name": "stdout",
     "output_type": "stream",
     "text": [
      "134\t0.883673\n"
     ]
    },
    {
     "name": "stderr",
     "output_type": "stream",
     "text": [
      "134\t0.883673\n"
     ]
    },
    {
     "name": "stdout",
     "output_type": "stream",
     "text": [
      "135\t0.883673\n"
     ]
    },
    {
     "name": "stderr",
     "output_type": "stream",
     "text": [
      "135\t0.883673\n"
     ]
    },
    {
     "name": "stdout",
     "output_type": "stream",
     "text": [
      "136\t0.882993\n"
     ]
    },
    {
     "name": "stderr",
     "output_type": "stream",
     "text": [
      "136\t0.882993\n"
     ]
    },
    {
     "name": "stdout",
     "output_type": "stream",
     "text": [
      "137\t0.883220\n"
     ]
    },
    {
     "name": "stderr",
     "output_type": "stream",
     "text": [
      "137\t0.883220\n"
     ]
    },
    {
     "name": "stdout",
     "output_type": "stream",
     "text": [
      "138\t0.884127\n"
     ]
    },
    {
     "name": "stderr",
     "output_type": "stream",
     "text": [
      "138\t0.884127\n"
     ]
    },
    {
     "name": "stdout",
     "output_type": "stream",
     "text": [
      "139\t0.883673\n"
     ]
    },
    {
     "name": "stderr",
     "output_type": "stream",
     "text": [
      "139\t0.883673\n"
     ]
    },
    {
     "name": "stdout",
     "output_type": "stream",
     "text": [
      "140\t0.883447\n"
     ]
    },
    {
     "name": "stderr",
     "output_type": "stream",
     "text": [
      "140\t0.883447\n"
     ]
    },
    {
     "name": "stdout",
     "output_type": "stream",
     "text": [
      "141\t0.882766\n"
     ]
    },
    {
     "name": "stderr",
     "output_type": "stream",
     "text": [
      "141\t0.882766\n"
     ]
    },
    {
     "name": "stdout",
     "output_type": "stream",
     "text": [
      "142\t0.883220\n"
     ]
    },
    {
     "name": "stderr",
     "output_type": "stream",
     "text": [
      "142\t0.883220\n"
     ]
    },
    {
     "name": "stdout",
     "output_type": "stream",
     "text": [
      "143\t0.882993\n"
     ]
    },
    {
     "name": "stderr",
     "output_type": "stream",
     "text": [
      "143\t0.882993\n"
     ]
    },
    {
     "name": "stdout",
     "output_type": "stream",
     "text": [
      "144\t0.882313\n"
     ]
    },
    {
     "name": "stderr",
     "output_type": "stream",
     "text": [
      "144\t0.882313\n"
     ]
    },
    {
     "name": "stdout",
     "output_type": "stream",
     "text": [
      "145\t0.882993\n"
     ]
    },
    {
     "name": "stderr",
     "output_type": "stream",
     "text": [
      "145\t0.882993\n"
     ]
    },
    {
     "name": "stdout",
     "output_type": "stream",
     "text": [
      "146\t0.882540\n"
     ]
    },
    {
     "name": "stderr",
     "output_type": "stream",
     "text": [
      "146\t0.882540\n"
     ]
    },
    {
     "name": "stdout",
     "output_type": "stream",
     "text": [
      "147\t0.882540\n"
     ]
    },
    {
     "name": "stderr",
     "output_type": "stream",
     "text": [
      "147\t0.882540\n"
     ]
    },
    {
     "name": "stdout",
     "output_type": "stream",
     "text": [
      "148\t0.881859\n"
     ]
    },
    {
     "name": "stderr",
     "output_type": "stream",
     "text": [
      "148\t0.881859\n"
     ]
    },
    {
     "name": "stdout",
     "output_type": "stream",
     "text": [
      "149\t0.882766\n"
     ]
    },
    {
     "name": "stderr",
     "output_type": "stream",
     "text": [
      "149\t0.882766\n"
     ]
    },
    {
     "name": "stdout",
     "output_type": "stream",
     "text": [
      "150\t0.882540\n"
     ]
    },
    {
     "name": "stderr",
     "output_type": "stream",
     "text": [
      "150\t0.882540\n"
     ]
    },
    {
     "name": "stdout",
     "output_type": "stream",
     "text": [
      "151\t0.882993\n"
     ]
    },
    {
     "name": "stderr",
     "output_type": "stream",
     "text": [
      "151\t0.882993\n"
     ]
    },
    {
     "name": "stdout",
     "output_type": "stream",
     "text": [
      "152\t0.882313\n"
     ]
    },
    {
     "name": "stderr",
     "output_type": "stream",
     "text": [
      "152\t0.882313\n"
     ]
    },
    {
     "name": "stdout",
     "output_type": "stream",
     "text": [
      "153\t0.882313\n"
     ]
    },
    {
     "name": "stderr",
     "output_type": "stream",
     "text": [
      "153\t0.882313\n"
     ]
    },
    {
     "name": "stdout",
     "output_type": "stream",
     "text": [
      "154\t0.869161\n"
     ]
    },
    {
     "name": "stderr",
     "output_type": "stream",
     "text": [
      "154\t0.869161\n"
     ]
    },
    {
     "name": "stdout",
     "output_type": "stream",
     "text": [
      "155\t0.882766\n"
     ]
    },
    {
     "name": "stderr",
     "output_type": "stream",
     "text": [
      "155\t0.882766\n"
     ]
    },
    {
     "name": "stdout",
     "output_type": "stream",
     "text": [
      "156\t0.887755\n"
     ]
    },
    {
     "name": "stderr",
     "output_type": "stream",
     "text": [
      "156\t0.887755\n"
     ]
    },
    {
     "name": "stdout",
     "output_type": "stream",
     "text": [
      "157\t0.887755\n"
     ]
    },
    {
     "name": "stderr",
     "output_type": "stream",
     "text": [
      "157\t0.887755\n"
     ]
    },
    {
     "name": "stdout",
     "output_type": "stream",
     "text": [
      "158\t0.888435\n"
     ]
    },
    {
     "name": "stderr",
     "output_type": "stream",
     "text": [
      "158\t0.888435\n"
     ]
    },
    {
     "name": "stdout",
     "output_type": "stream",
     "text": [
      "159\t0.888662\n"
     ]
    },
    {
     "name": "stderr",
     "output_type": "stream",
     "text": [
      "159\t0.888662\n"
     ]
    },
    {
     "name": "stdout",
     "output_type": "stream",
     "text": [
      "160\t0.888889\n"
     ]
    },
    {
     "name": "stderr",
     "output_type": "stream",
     "text": [
      "160\t0.888889\n"
     ]
    },
    {
     "name": "stdout",
     "output_type": "stream",
     "text": [
      "161\t0.888662\n"
     ]
    },
    {
     "name": "stderr",
     "output_type": "stream",
     "text": [
      "161\t0.888662\n"
     ]
    },
    {
     "name": "stdout",
     "output_type": "stream",
     "text": [
      "162\t0.888662\n"
     ]
    },
    {
     "name": "stderr",
     "output_type": "stream",
     "text": [
      "162\t0.888662\n"
     ]
    },
    {
     "name": "stdout",
     "output_type": "stream",
     "text": [
      "163\t0.888889\n"
     ]
    },
    {
     "name": "stderr",
     "output_type": "stream",
     "text": [
      "163\t0.888889\n"
     ]
    },
    {
     "name": "stdout",
     "output_type": "stream",
     "text": [
      "164\t0.889116\n"
     ]
    },
    {
     "name": "stderr",
     "output_type": "stream",
     "text": [
      "164\t0.889116\n"
     ]
    },
    {
     "name": "stdout",
     "output_type": "stream",
     "text": [
      "165\t0.889569\n"
     ]
    },
    {
     "name": "stderr",
     "output_type": "stream",
     "text": [
      "165\t0.889569\n"
     ]
    },
    {
     "name": "stdout",
     "output_type": "stream",
     "text": [
      "166\t0.886395\n"
     ]
    },
    {
     "name": "stderr",
     "output_type": "stream",
     "text": [
      "166\t0.886395\n"
     ]
    },
    {
     "name": "stdout",
     "output_type": "stream",
     "text": [
      "167\t0.891610\n"
     ]
    },
    {
     "name": "stderr",
     "output_type": "stream",
     "text": [
      "167\t0.891610\n"
     ]
    },
    {
     "name": "stdout",
     "output_type": "stream",
     "text": [
      "168\t0.891610\n"
     ]
    },
    {
     "name": "stderr",
     "output_type": "stream",
     "text": [
      "168\t0.891610\n"
     ]
    },
    {
     "name": "stdout",
     "output_type": "stream",
     "text": [
      "169\t0.895692\n"
     ]
    },
    {
     "name": "stderr",
     "output_type": "stream",
     "text": [
      "169\t0.895692\n"
     ]
    },
    {
     "name": "stdout",
     "output_type": "stream",
     "text": [
      "170\t0.906576\n"
     ]
    },
    {
     "name": "stderr",
     "output_type": "stream",
     "text": [
      "170\t0.906576\n"
     ]
    },
    {
     "name": "stdout",
     "output_type": "stream",
     "text": [
      "171\t0.908617\n"
     ]
    },
    {
     "name": "stderr",
     "output_type": "stream",
     "text": [
      "171\t0.908617\n"
     ]
    },
    {
     "name": "stdout",
     "output_type": "stream",
     "text": [
      "172\t0.908163\n"
     ]
    },
    {
     "name": "stderr",
     "output_type": "stream",
     "text": [
      "172\t0.908163\n"
     ]
    },
    {
     "name": "stdout",
     "output_type": "stream",
     "text": [
      "173\t0.909524\n"
     ]
    },
    {
     "name": "stderr",
     "output_type": "stream",
     "text": [
      "173\t0.909524\n"
     ]
    },
    {
     "name": "stdout",
     "output_type": "stream",
     "text": [
      "174\t0.909751\n"
     ]
    },
    {
     "name": "stderr",
     "output_type": "stream",
     "text": [
      "174\t0.909751\n"
     ]
    },
    {
     "name": "stdout",
     "output_type": "stream",
     "text": [
      "175\t0.908617\n"
     ]
    },
    {
     "name": "stderr",
     "output_type": "stream",
     "text": [
      "175\t0.908617\n"
     ]
    },
    {
     "name": "stdout",
     "output_type": "stream",
     "text": [
      "176\t0.909524\n"
     ]
    },
    {
     "name": "stderr",
     "output_type": "stream",
     "text": [
      "176\t0.909524\n"
     ]
    },
    {
     "name": "stdout",
     "output_type": "stream",
     "text": [
      "177\t0.909524\n"
     ]
    },
    {
     "name": "stderr",
     "output_type": "stream",
     "text": [
      "177\t0.909524\n"
     ]
    },
    {
     "name": "stdout",
     "output_type": "stream",
     "text": [
      "178\t0.909070\n"
     ]
    },
    {
     "name": "stderr",
     "output_type": "stream",
     "text": [
      "178\t0.909070\n"
     ]
    },
    {
     "name": "stdout",
     "output_type": "stream",
     "text": [
      "179\t0.909524\n"
     ]
    },
    {
     "name": "stderr",
     "output_type": "stream",
     "text": [
      "179\t0.909524\n"
     ]
    },
    {
     "name": "stdout",
     "output_type": "stream",
     "text": [
      "180\t0.910204\n"
     ]
    },
    {
     "name": "stderr",
     "output_type": "stream",
     "text": [
      "180\t0.910204\n"
     ]
    },
    {
     "name": "stdout",
     "output_type": "stream",
     "text": [
      "181\t0.912698\n"
     ]
    },
    {
     "name": "stderr",
     "output_type": "stream",
     "text": [
      "181\t0.912698\n"
     ]
    },
    {
     "name": "stdout",
     "output_type": "stream",
     "text": [
      "182\t0.909977\n"
     ]
    },
    {
     "name": "stderr",
     "output_type": "stream",
     "text": [
      "182\t0.909977\n"
     ]
    },
    {
     "name": "stdout",
     "output_type": "stream",
     "text": [
      "183\t0.915873\n"
     ]
    },
    {
     "name": "stderr",
     "output_type": "stream",
     "text": [
      "183\t0.915873\n"
     ]
    },
    {
     "name": "stdout",
     "output_type": "stream",
     "text": [
      "184\t0.915193\n"
     ]
    },
    {
     "name": "stderr",
     "output_type": "stream",
     "text": [
      "184\t0.915193\n"
     ]
    },
    {
     "name": "stdout",
     "output_type": "stream",
     "text": [
      "185\t0.918821\n"
     ]
    },
    {
     "name": "stderr",
     "output_type": "stream",
     "text": [
      "185\t0.918821\n"
     ]
    },
    {
     "name": "stdout",
     "output_type": "stream",
     "text": [
      "186\t0.918821\n"
     ]
    },
    {
     "name": "stderr",
     "output_type": "stream",
     "text": [
      "186\t0.918821\n"
     ]
    },
    {
     "name": "stdout",
     "output_type": "stream",
     "text": [
      "187\t0.917914\n"
     ]
    },
    {
     "name": "stderr",
     "output_type": "stream",
     "text": [
      "187\t0.917914\n"
     ]
    },
    {
     "name": "stdout",
     "output_type": "stream",
     "text": [
      "188\t0.917914\n"
     ]
    },
    {
     "name": "stderr",
     "output_type": "stream",
     "text": [
      "188\t0.917914\n"
     ]
    },
    {
     "name": "stdout",
     "output_type": "stream",
     "text": [
      "189\t0.918141\n"
     ]
    },
    {
     "name": "stderr",
     "output_type": "stream",
     "text": [
      "189\t0.918141\n"
     ]
    },
    {
     "name": "stdout",
     "output_type": "stream",
     "text": [
      "190\t0.918141\n"
     ]
    },
    {
     "name": "stderr",
     "output_type": "stream",
     "text": [
      "190\t0.918141\n"
     ]
    },
    {
     "name": "stdout",
     "output_type": "stream",
     "text": [
      "191\t0.918821\n"
     ]
    },
    {
     "name": "stderr",
     "output_type": "stream",
     "text": [
      "191\t0.918821\n"
     ]
    },
    {
     "name": "stdout",
     "output_type": "stream",
     "text": [
      "192\t0.918821\n"
     ]
    },
    {
     "name": "stderr",
     "output_type": "stream",
     "text": [
      "192\t0.918821\n"
     ]
    },
    {
     "name": "stdout",
     "output_type": "stream",
     "text": [
      "193\t0.917914\n"
     ]
    },
    {
     "name": "stderr",
     "output_type": "stream",
     "text": [
      "193\t0.917914\n"
     ]
    },
    {
     "name": "stdout",
     "output_type": "stream",
     "text": [
      "194\t0.918367\n"
     ]
    },
    {
     "name": "stderr",
     "output_type": "stream",
     "text": [
      "194\t0.918367\n"
     ]
    },
    {
     "name": "stdout",
     "output_type": "stream",
     "text": [
      "195\t0.917234\n"
     ]
    },
    {
     "name": "stderr",
     "output_type": "stream",
     "text": [
      "195\t0.917234\n"
     ]
    },
    {
     "name": "stdout",
     "output_type": "stream",
     "text": [
      "196\t0.917914\n"
     ]
    },
    {
     "name": "stderr",
     "output_type": "stream",
     "text": [
      "196\t0.917914\n"
     ]
    },
    {
     "name": "stdout",
     "output_type": "stream",
     "text": [
      "197\t0.918141\n"
     ]
    },
    {
     "name": "stderr",
     "output_type": "stream",
     "text": [
      "197\t0.918141\n"
     ]
    },
    {
     "name": "stdout",
     "output_type": "stream",
     "text": [
      "198\t0.918367\n"
     ]
    },
    {
     "name": "stderr",
     "output_type": "stream",
     "text": [
      "198\t0.918367\n"
     ]
    },
    {
     "name": "stdout",
     "output_type": "stream",
     "text": [
      "199\t0.918141\n"
     ]
    },
    {
     "name": "stderr",
     "output_type": "stream",
     "text": [
      "199\t0.918141\n"
     ]
    },
    {
     "name": "stdout",
     "output_type": "stream",
     "text": [
      "200\t0.917914\n"
     ]
    },
    {
     "name": "stderr",
     "output_type": "stream",
     "text": [
      "200\t0.917914\n"
     ]
    },
    {
     "name": "stdout",
     "output_type": "stream",
     "text": [
      "201\t0.918141\n"
     ]
    },
    {
     "name": "stderr",
     "output_type": "stream",
     "text": [
      "201\t0.918141\n"
     ]
    },
    {
     "name": "stdout",
     "output_type": "stream",
     "text": [
      "202\t0.917914\n"
     ]
    },
    {
     "name": "stderr",
     "output_type": "stream",
     "text": [
      "202\t0.917914\n"
     ]
    },
    {
     "name": "stdout",
     "output_type": "stream",
     "text": [
      "203\t0.918594\n"
     ]
    },
    {
     "name": "stderr",
     "output_type": "stream",
     "text": [
      "203\t0.918594\n"
     ]
    },
    {
     "name": "stdout",
     "output_type": "stream",
     "text": [
      "204\t0.918821\n"
     ]
    },
    {
     "name": "stderr",
     "output_type": "stream",
     "text": [
      "204\t0.918821\n"
     ]
    },
    {
     "name": "stdout",
     "output_type": "stream",
     "text": [
      "205\t0.917687\n"
     ]
    },
    {
     "name": "stderr",
     "output_type": "stream",
     "text": [
      "205\t0.917687\n"
     ]
    },
    {
     "name": "stdout",
     "output_type": "stream",
     "text": [
      "206\t0.917914\n"
     ]
    },
    {
     "name": "stderr",
     "output_type": "stream",
     "text": [
      "206\t0.917914\n"
     ]
    },
    {
     "name": "stdout",
     "output_type": "stream",
     "text": [
      "207\t0.918367\n"
     ]
    },
    {
     "name": "stderr",
     "output_type": "stream",
     "text": [
      "207\t0.918367\n"
     ]
    },
    {
     "name": "stdout",
     "output_type": "stream",
     "text": [
      "208\t0.918367\n"
     ]
    },
    {
     "name": "stderr",
     "output_type": "stream",
     "text": [
      "208\t0.918367\n"
     ]
    },
    {
     "name": "stdout",
     "output_type": "stream",
     "text": [
      "209\t0.918141\n"
     ]
    },
    {
     "name": "stderr",
     "output_type": "stream",
     "text": [
      "209\t0.918141\n"
     ]
    },
    {
     "name": "stdout",
     "output_type": "stream",
     "text": [
      "210\t0.918141\n"
     ]
    },
    {
     "name": "stderr",
     "output_type": "stream",
     "text": [
      "210\t0.918141\n"
     ]
    },
    {
     "name": "stdout",
     "output_type": "stream",
     "text": [
      "211\t0.918594\n"
     ]
    },
    {
     "name": "stderr",
     "output_type": "stream",
     "text": [
      "211\t0.918594\n"
     ]
    },
    {
     "name": "stdout",
     "output_type": "stream",
     "text": [
      "212\t0.918367\n"
     ]
    },
    {
     "name": "stderr",
     "output_type": "stream",
     "text": [
      "212\t0.918367\n"
     ]
    },
    {
     "name": "stdout",
     "output_type": "stream",
     "text": [
      "213\t0.917914\n"
     ]
    },
    {
     "name": "stderr",
     "output_type": "stream",
     "text": [
      "213\t0.917914\n"
     ]
    },
    {
     "name": "stdout",
     "output_type": "stream",
     "text": [
      "214\t0.918141\n"
     ]
    },
    {
     "name": "stderr",
     "output_type": "stream",
     "text": [
      "214\t0.918141\n"
     ]
    },
    {
     "name": "stdout",
     "output_type": "stream",
     "text": [
      "215\t0.918141\n"
     ]
    },
    {
     "name": "stderr",
     "output_type": "stream",
     "text": [
      "215\t0.918141\n"
     ]
    },
    {
     "name": "stdout",
     "output_type": "stream",
     "text": [
      "216\t0.918141\n"
     ]
    },
    {
     "name": "stderr",
     "output_type": "stream",
     "text": [
      "216\t0.918141\n"
     ]
    },
    {
     "name": "stdout",
     "output_type": "stream",
     "text": [
      "217\t0.918367\n"
     ]
    },
    {
     "name": "stderr",
     "output_type": "stream",
     "text": [
      "217\t0.918367\n"
     ]
    },
    {
     "name": "stdout",
     "output_type": "stream",
     "text": [
      "218\t0.917914\n"
     ]
    },
    {
     "name": "stderr",
     "output_type": "stream",
     "text": [
      "218\t0.917914\n"
     ]
    },
    {
     "name": "stdout",
     "output_type": "stream",
     "text": [
      "219\t0.918141\n"
     ]
    },
    {
     "name": "stderr",
     "output_type": "stream",
     "text": [
      "219\t0.918141\n"
     ]
    },
    {
     "name": "stdout",
     "output_type": "stream",
     "text": [
      "220\t0.917460\n"
     ]
    },
    {
     "name": "stderr",
     "output_type": "stream",
     "text": [
      "220\t0.917460\n"
     ]
    },
    {
     "name": "stdout",
     "output_type": "stream",
     "text": [
      "221\t0.916780\n"
     ]
    },
    {
     "name": "stderr",
     "output_type": "stream",
     "text": [
      "221\t0.916780\n"
     ]
    },
    {
     "name": "stdout",
     "output_type": "stream",
     "text": [
      "222\t0.917460\n"
     ]
    },
    {
     "name": "stderr",
     "output_type": "stream",
     "text": [
      "222\t0.917460\n"
     ]
    },
    {
     "name": "stdout",
     "output_type": "stream",
     "text": [
      "223\t0.917460\n"
     ]
    },
    {
     "name": "stderr",
     "output_type": "stream",
     "text": [
      "223\t0.917460\n"
     ]
    },
    {
     "name": "stdout",
     "output_type": "stream",
     "text": [
      "224\t0.916780\n"
     ]
    },
    {
     "name": "stderr",
     "output_type": "stream",
     "text": [
      "224\t0.916780\n"
     ]
    },
    {
     "name": "stdout",
     "output_type": "stream",
     "text": [
      "225\t0.916327\n"
     ]
    },
    {
     "name": "stderr",
     "output_type": "stream",
     "text": [
      "225\t0.916327\n"
     ]
    },
    {
     "name": "stdout",
     "output_type": "stream",
     "text": [
      "226\t0.916100\n"
     ]
    },
    {
     "name": "stderr",
     "output_type": "stream",
     "text": [
      "226\t0.916100\n"
     ]
    },
    {
     "name": "stdout",
     "output_type": "stream",
     "text": [
      "227\t0.915646\n"
     ]
    },
    {
     "name": "stderr",
     "output_type": "stream",
     "text": [
      "227\t0.915646\n"
     ]
    },
    {
     "name": "stdout",
     "output_type": "stream",
     "text": [
      "228\t0.915646\n"
     ]
    },
    {
     "name": "stderr",
     "output_type": "stream",
     "text": [
      "228\t0.915646\n"
     ]
    },
    {
     "name": "stdout",
     "output_type": "stream",
     "text": [
      "229\t0.916100\n"
     ]
    },
    {
     "name": "stderr",
     "output_type": "stream",
     "text": [
      "229\t0.916100\n"
     ]
    },
    {
     "name": "stdout",
     "output_type": "stream",
     "text": [
      "230\t0.916100\n"
     ]
    },
    {
     "name": "stderr",
     "output_type": "stream",
     "text": [
      "230\t0.916100\n"
     ]
    },
    {
     "name": "stdout",
     "output_type": "stream",
     "text": [
      "231\t0.916553\n"
     ]
    },
    {
     "name": "stderr",
     "output_type": "stream",
     "text": [
      "231\t0.916553\n"
     ]
    },
    {
     "name": "stdout",
     "output_type": "stream",
     "text": [
      "232\t0.917007\n"
     ]
    },
    {
     "name": "stderr",
     "output_type": "stream",
     "text": [
      "232\t0.917007\n"
     ]
    },
    {
     "name": "stdout",
     "output_type": "stream",
     "text": [
      "233\t0.917007\n"
     ]
    },
    {
     "name": "stderr",
     "output_type": "stream",
     "text": [
      "233\t0.917007\n"
     ]
    },
    {
     "name": "stdout",
     "output_type": "stream",
     "text": [
      "234\t0.916327\n"
     ]
    },
    {
     "name": "stderr",
     "output_type": "stream",
     "text": [
      "234\t0.916327\n"
     ]
    },
    {
     "name": "stdout",
     "output_type": "stream",
     "text": [
      "235\t0.916553\n"
     ]
    },
    {
     "name": "stderr",
     "output_type": "stream",
     "text": [
      "235\t0.916553\n"
     ]
    },
    {
     "name": "stdout",
     "output_type": "stream",
     "text": [
      "236\t0.916780\n"
     ]
    },
    {
     "name": "stderr",
     "output_type": "stream",
     "text": [
      "236\t0.916780\n"
     ]
    },
    {
     "name": "stdout",
     "output_type": "stream",
     "text": [
      "237\t0.917914\n"
     ]
    },
    {
     "name": "stderr",
     "output_type": "stream",
     "text": [
      "237\t0.917914\n"
     ]
    },
    {
     "name": "stdout",
     "output_type": "stream",
     "text": [
      "238\t0.915646\n"
     ]
    },
    {
     "name": "stderr",
     "output_type": "stream",
     "text": [
      "238\t0.915646\n"
     ]
    },
    {
     "name": "stdout",
     "output_type": "stream",
     "text": [
      "239\t0.914059\n"
     ]
    },
    {
     "name": "stderr",
     "output_type": "stream",
     "text": [
      "239\t0.914059\n"
     ]
    },
    {
     "name": "stdout",
     "output_type": "stream",
     "text": [
      "240\t0.925397\n"
     ]
    },
    {
     "name": "stderr",
     "output_type": "stream",
     "text": [
      "240\t0.925397\n"
     ]
    },
    {
     "name": "stdout",
     "output_type": "stream",
     "text": [
      "241\t0.923810\n"
     ]
    },
    {
     "name": "stderr",
     "output_type": "stream",
     "text": [
      "241\t0.923810\n"
     ]
    },
    {
     "name": "stdout",
     "output_type": "stream",
     "text": [
      "242\t0.924490\n"
     ]
    },
    {
     "name": "stderr",
     "output_type": "stream",
     "text": [
      "242\t0.924490\n"
     ]
    },
    {
     "name": "stdout",
     "output_type": "stream",
     "text": [
      "243\t0.924943\n"
     ]
    },
    {
     "name": "stderr",
     "output_type": "stream",
     "text": [
      "243\t0.924943\n"
     ]
    },
    {
     "name": "stdout",
     "output_type": "stream",
     "text": [
      "244\t0.925624\n"
     ]
    },
    {
     "name": "stderr",
     "output_type": "stream",
     "text": [
      "244\t0.925624\n"
     ]
    },
    {
     "name": "stdout",
     "output_type": "stream",
     "text": [
      "245\t0.926077\n"
     ]
    },
    {
     "name": "stderr",
     "output_type": "stream",
     "text": [
      "245\t0.926077\n"
     ]
    },
    {
     "name": "stdout",
     "output_type": "stream",
     "text": [
      "246\t0.925850\n"
     ]
    },
    {
     "name": "stderr",
     "output_type": "stream",
     "text": [
      "246\t0.925850\n"
     ]
    },
    {
     "name": "stdout",
     "output_type": "stream",
     "text": [
      "247\t0.925397\n"
     ]
    },
    {
     "name": "stderr",
     "output_type": "stream",
     "text": [
      "247\t0.925397\n"
     ]
    },
    {
     "name": "stdout",
     "output_type": "stream",
     "text": [
      "248\t0.925624\n"
     ]
    },
    {
     "name": "stderr",
     "output_type": "stream",
     "text": [
      "248\t0.925624\n"
     ]
    },
    {
     "name": "stdout",
     "output_type": "stream",
     "text": [
      "249\t0.925397\n"
     ]
    },
    {
     "name": "stderr",
     "output_type": "stream",
     "text": [
      "249\t0.925397\n"
     ]
    },
    {
     "name": "stdout",
     "output_type": "stream",
     "text": [
      "250\t0.925624\n"
     ]
    },
    {
     "name": "stderr",
     "output_type": "stream",
     "text": [
      "250\t0.925624\n"
     ]
    },
    {
     "name": "stdout",
     "output_type": "stream",
     "text": [
      "251\t0.927211\n"
     ]
    },
    {
     "name": "stderr",
     "output_type": "stream",
     "text": [
      "251\t0.927211\n"
     ]
    },
    {
     "name": "stdout",
     "output_type": "stream",
     "text": [
      "252\t0.929705\n"
     ]
    },
    {
     "name": "stderr",
     "output_type": "stream",
     "text": [
      "252\t0.929705\n"
     ]
    },
    {
     "name": "stdout",
     "output_type": "stream",
     "text": [
      "253\t0.929932\n"
     ]
    },
    {
     "name": "stderr",
     "output_type": "stream",
     "text": [
      "253\t0.929932\n"
     ]
    },
    {
     "name": "stdout",
     "output_type": "stream",
     "text": [
      "254\t0.930612\n"
     ]
    },
    {
     "name": "stderr",
     "output_type": "stream",
     "text": [
      "254\t0.930612\n"
     ]
    },
    {
     "name": "stdout",
     "output_type": "stream",
     "text": [
      "255\t0.930612\n"
     ]
    },
    {
     "name": "stderr",
     "output_type": "stream",
     "text": [
      "255\t0.930612\n"
     ]
    },
    {
     "name": "stdout",
     "output_type": "stream",
     "text": [
      "256\t0.930612\n"
     ]
    },
    {
     "name": "stderr",
     "output_type": "stream",
     "text": [
      "256\t0.930612\n"
     ]
    },
    {
     "name": "stdout",
     "output_type": "stream",
     "text": [
      "257\t0.930839\n"
     ]
    },
    {
     "name": "stderr",
     "output_type": "stream",
     "text": [
      "257\t0.930839\n"
     ]
    },
    {
     "name": "stdout",
     "output_type": "stream",
     "text": [
      "258\t0.931066\n"
     ]
    },
    {
     "name": "stderr",
     "output_type": "stream",
     "text": [
      "258\t0.931066\n"
     ]
    },
    {
     "name": "stdout",
     "output_type": "stream",
     "text": [
      "259\t0.930839\n"
     ]
    },
    {
     "name": "stderr",
     "output_type": "stream",
     "text": [
      "259\t0.930839\n"
     ]
    },
    {
     "name": "stdout",
     "output_type": "stream",
     "text": [
      "260\t0.930385\n"
     ]
    },
    {
     "name": "stderr",
     "output_type": "stream",
     "text": [
      "260\t0.930385\n"
     ]
    },
    {
     "name": "stdout",
     "output_type": "stream",
     "text": [
      "261\t0.930839\n"
     ]
    },
    {
     "name": "stderr",
     "output_type": "stream",
     "text": [
      "261\t0.930839\n"
     ]
    },
    {
     "name": "stdout",
     "output_type": "stream",
     "text": [
      "262\t0.930612\n"
     ]
    },
    {
     "name": "stderr",
     "output_type": "stream",
     "text": [
      "262\t0.930612\n"
     ]
    },
    {
     "name": "stdout",
     "output_type": "stream",
     "text": [
      "263\t0.930612\n"
     ]
    },
    {
     "name": "stderr",
     "output_type": "stream",
     "text": [
      "263\t0.930612\n"
     ]
    },
    {
     "name": "stdout",
     "output_type": "stream",
     "text": [
      "264\t0.931066\n"
     ]
    },
    {
     "name": "stderr",
     "output_type": "stream",
     "text": [
      "264\t0.931066\n"
     ]
    },
    {
     "name": "stdout",
     "output_type": "stream",
     "text": [
      "265\t0.930385\n"
     ]
    },
    {
     "name": "stderr",
     "output_type": "stream",
     "text": [
      "265\t0.930385\n"
     ]
    },
    {
     "name": "stdout",
     "output_type": "stream",
     "text": [
      "266\t0.929932\n"
     ]
    },
    {
     "name": "stderr",
     "output_type": "stream",
     "text": [
      "266\t0.929932\n"
     ]
    },
    {
     "name": "stdout",
     "output_type": "stream",
     "text": [
      "267\t0.930385\n"
     ]
    },
    {
     "name": "stderr",
     "output_type": "stream",
     "text": [
      "267\t0.930385\n"
     ]
    },
    {
     "name": "stdout",
     "output_type": "stream",
     "text": [
      "268\t0.930159\n"
     ]
    },
    {
     "name": "stderr",
     "output_type": "stream",
     "text": [
      "268\t0.930159\n"
     ]
    },
    {
     "name": "stdout",
     "output_type": "stream",
     "text": [
      "269\t0.930385\n"
     ]
    },
    {
     "name": "stderr",
     "output_type": "stream",
     "text": [
      "269\t0.930385\n"
     ]
    },
    {
     "name": "stdout",
     "output_type": "stream",
     "text": [
      "270\t0.929932\n"
     ]
    },
    {
     "name": "stderr",
     "output_type": "stream",
     "text": [
      "270\t0.929932\n"
     ]
    },
    {
     "name": "stdout",
     "output_type": "stream",
     "text": [
      "271\t0.930159\n"
     ]
    },
    {
     "name": "stderr",
     "output_type": "stream",
     "text": [
      "271\t0.930159\n"
     ]
    },
    {
     "name": "stdout",
     "output_type": "stream",
     "text": [
      "272\t0.930385\n"
     ]
    },
    {
     "name": "stderr",
     "output_type": "stream",
     "text": [
      "272\t0.930385\n"
     ]
    },
    {
     "name": "stdout",
     "output_type": "stream",
     "text": [
      "273\t0.930159\n"
     ]
    },
    {
     "name": "stderr",
     "output_type": "stream",
     "text": [
      "273\t0.930159\n"
     ]
    },
    {
     "name": "stdout",
     "output_type": "stream",
     "text": [
      "274\t0.930612\n"
     ]
    },
    {
     "name": "stderr",
     "output_type": "stream",
     "text": [
      "274\t0.930612\n"
     ]
    },
    {
     "name": "stdout",
     "output_type": "stream",
     "text": [
      "275\t0.930612\n"
     ]
    },
    {
     "name": "stderr",
     "output_type": "stream",
     "text": [
      "275\t0.930612\n"
     ]
    },
    {
     "name": "stdout",
     "output_type": "stream",
     "text": [
      "276\t0.930385\n"
     ]
    },
    {
     "name": "stderr",
     "output_type": "stream",
     "text": [
      "276\t0.930385\n"
     ]
    },
    {
     "name": "stdout",
     "output_type": "stream",
     "text": [
      "277\t0.930385\n"
     ]
    },
    {
     "name": "stderr",
     "output_type": "stream",
     "text": [
      "277\t0.930385\n"
     ]
    },
    {
     "name": "stdout",
     "output_type": "stream",
     "text": [
      "278\t0.937188\n"
     ]
    },
    {
     "name": "stderr",
     "output_type": "stream",
     "text": [
      "278\t0.937188\n"
     ]
    },
    {
     "name": "stdout",
     "output_type": "stream",
     "text": [
      "279\t0.930612\n"
     ]
    },
    {
     "name": "stderr",
     "output_type": "stream",
     "text": [
      "279\t0.930612\n"
     ]
    },
    {
     "name": "stdout",
     "output_type": "stream",
     "text": [
      "280\t0.935828\n"
     ]
    },
    {
     "name": "stderr",
     "output_type": "stream",
     "text": [
      "280\t0.935828\n"
     ]
    },
    {
     "name": "stdout",
     "output_type": "stream",
     "text": [
      "281\t0.936508\n"
     ]
    },
    {
     "name": "stderr",
     "output_type": "stream",
     "text": [
      "281\t0.936508\n"
     ]
    },
    {
     "name": "stdout",
     "output_type": "stream",
     "text": [
      "282\t0.937188\n"
     ]
    },
    {
     "name": "stderr",
     "output_type": "stream",
     "text": [
      "282\t0.937188\n"
     ]
    },
    {
     "name": "stdout",
     "output_type": "stream",
     "text": [
      "283\t0.937642\n"
     ]
    },
    {
     "name": "stderr",
     "output_type": "stream",
     "text": [
      "283\t0.937642\n"
     ]
    },
    {
     "name": "stdout",
     "output_type": "stream",
     "text": [
      "284\t0.937415\n"
     ]
    },
    {
     "name": "stderr",
     "output_type": "stream",
     "text": [
      "284\t0.937415\n"
     ]
    },
    {
     "name": "stdout",
     "output_type": "stream",
     "text": [
      "285\t0.937642\n"
     ]
    },
    {
     "name": "stderr",
     "output_type": "stream",
     "text": [
      "285\t0.937642\n"
     ]
    },
    {
     "name": "stdout",
     "output_type": "stream",
     "text": [
      "286\t0.938549\n"
     ]
    },
    {
     "name": "stderr",
     "output_type": "stream",
     "text": [
      "286\t0.938549\n"
     ]
    },
    {
     "name": "stdout",
     "output_type": "stream",
     "text": [
      "287\t0.938322\n"
     ]
    },
    {
     "name": "stderr",
     "output_type": "stream",
     "text": [
      "287\t0.938322\n"
     ]
    },
    {
     "name": "stdout",
     "output_type": "stream",
     "text": [
      "288\t0.938322\n"
     ]
    },
    {
     "name": "stderr",
     "output_type": "stream",
     "text": [
      "288\t0.938322\n"
     ]
    },
    {
     "name": "stdout",
     "output_type": "stream",
     "text": [
      "289\t0.938322\n"
     ]
    },
    {
     "name": "stderr",
     "output_type": "stream",
     "text": [
      "289\t0.938322\n"
     ]
    },
    {
     "name": "stdout",
     "output_type": "stream",
     "text": [
      "290\t0.938549\n"
     ]
    },
    {
     "name": "stderr",
     "output_type": "stream",
     "text": [
      "290\t0.938549\n"
     ]
    },
    {
     "name": "stdout",
     "output_type": "stream",
     "text": [
      "291\t0.938776\n"
     ]
    },
    {
     "name": "stderr",
     "output_type": "stream",
     "text": [
      "291\t0.938776\n"
     ]
    },
    {
     "name": "stdout",
     "output_type": "stream",
     "text": [
      "292\t0.939002\n"
     ]
    },
    {
     "name": "stderr",
     "output_type": "stream",
     "text": [
      "292\t0.939002\n"
     ]
    },
    {
     "name": "stdout",
     "output_type": "stream",
     "text": [
      "293\t0.939456\n"
     ]
    },
    {
     "name": "stderr",
     "output_type": "stream",
     "text": [
      "293\t0.939456\n"
     ]
    },
    {
     "name": "stdout",
     "output_type": "stream",
     "text": [
      "294\t0.939683\n"
     ]
    },
    {
     "name": "stderr",
     "output_type": "stream",
     "text": [
      "294\t0.939683\n"
     ]
    },
    {
     "name": "stdout",
     "output_type": "stream",
     "text": [
      "295\t0.939909\n"
     ]
    },
    {
     "name": "stderr",
     "output_type": "stream",
     "text": [
      "295\t0.939909\n"
     ]
    },
    {
     "name": "stdout",
     "output_type": "stream",
     "text": [
      "296\t0.939456\n"
     ]
    },
    {
     "name": "stderr",
     "output_type": "stream",
     "text": [
      "296\t0.939456\n"
     ]
    },
    {
     "name": "stdout",
     "output_type": "stream",
     "text": [
      "297\t0.939683\n"
     ]
    },
    {
     "name": "stderr",
     "output_type": "stream",
     "text": [
      "297\t0.939683\n"
     ]
    },
    {
     "name": "stdout",
     "output_type": "stream",
     "text": [
      "298\t0.939456\n"
     ]
    },
    {
     "name": "stderr",
     "output_type": "stream",
     "text": [
      "298\t0.939456\n"
     ]
    },
    {
     "name": "stdout",
     "output_type": "stream",
     "text": [
      "299\t0.939456\n"
     ]
    },
    {
     "name": "stderr",
     "output_type": "stream",
     "text": [
      "299\t0.939456\n"
     ]
    },
    {
     "name": "stdout",
     "output_type": "stream",
     "text": [
      "300\t0.939683\n"
     ]
    },
    {
     "name": "stderr",
     "output_type": "stream",
     "text": [
      "300\t0.939683\n"
     ]
    },
    {
     "name": "stdout",
     "output_type": "stream",
     "text": [
      "301\t0.939683\n"
     ]
    },
    {
     "name": "stderr",
     "output_type": "stream",
     "text": [
      "301\t0.939683\n"
     ]
    },
    {
     "name": "stdout",
     "output_type": "stream",
     "text": [
      "302\t0.939683\n"
     ]
    },
    {
     "name": "stderr",
     "output_type": "stream",
     "text": [
      "302\t0.939683\n"
     ]
    },
    {
     "name": "stdout",
     "output_type": "stream",
     "text": [
      "303\t0.939683\n"
     ]
    },
    {
     "name": "stderr",
     "output_type": "stream",
     "text": [
      "303\t0.939683\n"
     ]
    },
    {
     "name": "stdout",
     "output_type": "stream",
     "text": [
      "304\t0.939909\n"
     ]
    },
    {
     "name": "stderr",
     "output_type": "stream",
     "text": [
      "304\t0.939909\n"
     ]
    },
    {
     "name": "stdout",
     "output_type": "stream",
     "text": [
      "305\t0.940136\n"
     ]
    },
    {
     "name": "stderr",
     "output_type": "stream",
     "text": [
      "305\t0.940136\n"
     ]
    },
    {
     "name": "stdout",
     "output_type": "stream",
     "text": [
      "306\t0.939229\n"
     ]
    },
    {
     "name": "stderr",
     "output_type": "stream",
     "text": [
      "306\t0.939229\n"
     ]
    },
    {
     "name": "stdout",
     "output_type": "stream",
     "text": [
      "307\t0.940136\n"
     ]
    },
    {
     "name": "stderr",
     "output_type": "stream",
     "text": [
      "307\t0.940136\n"
     ]
    },
    {
     "name": "stdout",
     "output_type": "stream",
     "text": [
      "308\t0.939909\n"
     ]
    },
    {
     "name": "stderr",
     "output_type": "stream",
     "text": [
      "308\t0.939909\n"
     ]
    },
    {
     "name": "stdout",
     "output_type": "stream",
     "text": [
      "309\t0.940136\n"
     ]
    },
    {
     "name": "stderr",
     "output_type": "stream",
     "text": [
      "309\t0.940136\n"
     ]
    },
    {
     "name": "stdout",
     "output_type": "stream",
     "text": [
      "310\t0.940363\n"
     ]
    },
    {
     "name": "stderr",
     "output_type": "stream",
     "text": [
      "310\t0.940363\n"
     ]
    },
    {
     "name": "stdout",
     "output_type": "stream",
     "text": [
      "311\t0.939683\n"
     ]
    },
    {
     "name": "stderr",
     "output_type": "stream",
     "text": [
      "311\t0.939683\n"
     ]
    },
    {
     "name": "stdout",
     "output_type": "stream",
     "text": [
      "312\t0.940590\n"
     ]
    },
    {
     "name": "stderr",
     "output_type": "stream",
     "text": [
      "312\t0.940590\n"
     ]
    },
    {
     "name": "stdout",
     "output_type": "stream",
     "text": [
      "313\t0.940363\n"
     ]
    },
    {
     "name": "stderr",
     "output_type": "stream",
     "text": [
      "313\t0.940363\n"
     ]
    },
    {
     "name": "stdout",
     "output_type": "stream",
     "text": [
      "314\t0.940136\n"
     ]
    },
    {
     "name": "stderr",
     "output_type": "stream",
     "text": [
      "314\t0.940136\n"
     ]
    },
    {
     "name": "stdout",
     "output_type": "stream",
     "text": [
      "315\t0.939909\n"
     ]
    },
    {
     "name": "stderr",
     "output_type": "stream",
     "text": [
      "315\t0.939909\n"
     ]
    },
    {
     "name": "stdout",
     "output_type": "stream",
     "text": [
      "316\t0.939456\n"
     ]
    },
    {
     "name": "stderr",
     "output_type": "stream",
     "text": [
      "316\t0.939456\n"
     ]
    },
    {
     "name": "stdout",
     "output_type": "stream",
     "text": [
      "317\t0.939229\n"
     ]
    },
    {
     "name": "stderr",
     "output_type": "stream",
     "text": [
      "317\t0.939229\n"
     ]
    },
    {
     "name": "stdout",
     "output_type": "stream",
     "text": [
      "318\t0.940136\n"
     ]
    },
    {
     "name": "stderr",
     "output_type": "stream",
     "text": [
      "318\t0.940136\n"
     ]
    },
    {
     "name": "stdout",
     "output_type": "stream",
     "text": [
      "319\t0.940363\n"
     ]
    },
    {
     "name": "stderr",
     "output_type": "stream",
     "text": [
      "319\t0.940363\n"
     ]
    },
    {
     "name": "stdout",
     "output_type": "stream",
     "text": [
      "320\t0.939909\n"
     ]
    },
    {
     "name": "stderr",
     "output_type": "stream",
     "text": [
      "320\t0.939909\n"
     ]
    },
    {
     "name": "stdout",
     "output_type": "stream",
     "text": [
      "321\t0.940136\n"
     ]
    },
    {
     "name": "stderr",
     "output_type": "stream",
     "text": [
      "321\t0.940136\n"
     ]
    },
    {
     "name": "stdout",
     "output_type": "stream",
     "text": [
      "322\t0.940590\n"
     ]
    },
    {
     "name": "stderr",
     "output_type": "stream",
     "text": [
      "322\t0.940590\n"
     ]
    },
    {
     "name": "stdout",
     "output_type": "stream",
     "text": [
      "323\t0.940816\n"
     ]
    },
    {
     "name": "stderr",
     "output_type": "stream",
     "text": [
      "323\t0.940816\n"
     ]
    },
    {
     "name": "stdout",
     "output_type": "stream",
     "text": [
      "324\t0.941270\n"
     ]
    },
    {
     "name": "stderr",
     "output_type": "stream",
     "text": [
      "324\t0.941270\n"
     ]
    },
    {
     "name": "stdout",
     "output_type": "stream",
     "text": [
      "325\t0.940816\n"
     ]
    },
    {
     "name": "stderr",
     "output_type": "stream",
     "text": [
      "325\t0.940816\n"
     ]
    },
    {
     "name": "stdout",
     "output_type": "stream",
     "text": [
      "326\t0.940590\n"
     ]
    },
    {
     "name": "stderr",
     "output_type": "stream",
     "text": [
      "326\t0.940590\n"
     ]
    },
    {
     "name": "stdout",
     "output_type": "stream",
     "text": [
      "327\t0.941043\n"
     ]
    },
    {
     "name": "stderr",
     "output_type": "stream",
     "text": [
      "327\t0.941043\n"
     ]
    },
    {
     "name": "stdout",
     "output_type": "stream",
     "text": [
      "328\t0.940590\n"
     ]
    },
    {
     "name": "stderr",
     "output_type": "stream",
     "text": [
      "328\t0.940590\n"
     ]
    },
    {
     "name": "stdout",
     "output_type": "stream",
     "text": [
      "329\t0.940816\n"
     ]
    },
    {
     "name": "stderr",
     "output_type": "stream",
     "text": [
      "329\t0.940816\n"
     ]
    },
    {
     "name": "stdout",
     "output_type": "stream",
     "text": [
      "330\t0.940816\n"
     ]
    },
    {
     "name": "stderr",
     "output_type": "stream",
     "text": [
      "330\t0.940816\n"
     ]
    },
    {
     "name": "stdout",
     "output_type": "stream",
     "text": [
      "331\t0.941270\n"
     ]
    },
    {
     "name": "stderr",
     "output_type": "stream",
     "text": [
      "331\t0.941270\n"
     ]
    },
    {
     "name": "stdout",
     "output_type": "stream",
     "text": [
      "332\t0.939456\n"
     ]
    },
    {
     "name": "stderr",
     "output_type": "stream",
     "text": [
      "332\t0.939456\n"
     ]
    },
    {
     "name": "stdout",
     "output_type": "stream",
     "text": [
      "333\t0.939909\n"
     ]
    },
    {
     "name": "stderr",
     "output_type": "stream",
     "text": [
      "333\t0.939909\n"
     ]
    },
    {
     "name": "stdout",
     "output_type": "stream",
     "text": [
      "334\t0.935374\n"
     ]
    },
    {
     "name": "stderr",
     "output_type": "stream",
     "text": [
      "334\t0.935374\n"
     ]
    },
    {
     "name": "stdout",
     "output_type": "stream",
     "text": [
      "335\t0.933333\n"
     ]
    },
    {
     "name": "stderr",
     "output_type": "stream",
     "text": [
      "335\t0.933333\n"
     ]
    },
    {
     "name": "stdout",
     "output_type": "stream",
     "text": [
      "336\t0.934921\n"
     ]
    },
    {
     "name": "stderr",
     "output_type": "stream",
     "text": [
      "336\t0.934921\n"
     ]
    },
    {
     "name": "stdout",
     "output_type": "stream",
     "text": [
      "337\t0.937642\n"
     ]
    },
    {
     "name": "stderr",
     "output_type": "stream",
     "text": [
      "337\t0.937642\n"
     ]
    },
    {
     "name": "stdout",
     "output_type": "stream",
     "text": [
      "338\t0.937642\n"
     ]
    },
    {
     "name": "stderr",
     "output_type": "stream",
     "text": [
      "338\t0.937642\n"
     ]
    },
    {
     "name": "stdout",
     "output_type": "stream",
     "text": [
      "339\t0.937868\n"
     ]
    },
    {
     "name": "stderr",
     "output_type": "stream",
     "text": [
      "339\t0.937868\n"
     ]
    },
    {
     "name": "stdout",
     "output_type": "stream",
     "text": [
      "340\t0.938322\n"
     ]
    },
    {
     "name": "stderr",
     "output_type": "stream",
     "text": [
      "340\t0.938322\n"
     ]
    },
    {
     "name": "stdout",
     "output_type": "stream",
     "text": [
      "341\t0.937415\n"
     ]
    },
    {
     "name": "stderr",
     "output_type": "stream",
     "text": [
      "341\t0.937415\n"
     ]
    },
    {
     "name": "stdout",
     "output_type": "stream",
     "text": [
      "342\t0.938095\n"
     ]
    },
    {
     "name": "stderr",
     "output_type": "stream",
     "text": [
      "342\t0.938095\n"
     ]
    },
    {
     "name": "stdout",
     "output_type": "stream",
     "text": [
      "343\t0.938549\n"
     ]
    },
    {
     "name": "stderr",
     "output_type": "stream",
     "text": [
      "343\t0.938549\n"
     ]
    },
    {
     "name": "stdout",
     "output_type": "stream",
     "text": [
      "344\t0.938549\n"
     ]
    },
    {
     "name": "stderr",
     "output_type": "stream",
     "text": [
      "344\t0.938549\n"
     ]
    },
    {
     "name": "stdout",
     "output_type": "stream",
     "text": [
      "345\t0.938322\n"
     ]
    },
    {
     "name": "stderr",
     "output_type": "stream",
     "text": [
      "345\t0.938322\n"
     ]
    },
    {
     "name": "stdout",
     "output_type": "stream",
     "text": [
      "346\t0.938322\n"
     ]
    },
    {
     "name": "stderr",
     "output_type": "stream",
     "text": [
      "346\t0.938322\n"
     ]
    },
    {
     "name": "stdout",
     "output_type": "stream",
     "text": [
      "347\t0.938549\n"
     ]
    },
    {
     "name": "stderr",
     "output_type": "stream",
     "text": [
      "347\t0.938549\n"
     ]
    },
    {
     "name": "stdout",
     "output_type": "stream",
     "text": [
      "348\t0.938095\n"
     ]
    },
    {
     "name": "stderr",
     "output_type": "stream",
     "text": [
      "348\t0.938095\n"
     ]
    },
    {
     "name": "stdout",
     "output_type": "stream",
     "text": [
      "349\t0.937868\n"
     ]
    },
    {
     "name": "stderr",
     "output_type": "stream",
     "text": [
      "349\t0.937868\n"
     ]
    },
    {
     "name": "stdout",
     "output_type": "stream",
     "text": [
      "350\t0.938095\n"
     ]
    },
    {
     "name": "stderr",
     "output_type": "stream",
     "text": [
      "350\t0.938095\n"
     ]
    },
    {
     "name": "stdout",
     "output_type": "stream",
     "text": [
      "351\t0.938095\n"
     ]
    },
    {
     "name": "stderr",
     "output_type": "stream",
     "text": [
      "351\t0.938095\n"
     ]
    },
    {
     "name": "stdout",
     "output_type": "stream",
     "text": [
      "352\t0.938549\n"
     ]
    },
    {
     "name": "stderr",
     "output_type": "stream",
     "text": [
      "352\t0.938549\n"
     ]
    },
    {
     "name": "stdout",
     "output_type": "stream",
     "text": [
      "353\t0.938095\n"
     ]
    },
    {
     "name": "stderr",
     "output_type": "stream",
     "text": [
      "353\t0.938095\n"
     ]
    },
    {
     "name": "stdout",
     "output_type": "stream",
     "text": [
      "354\t0.938095\n"
     ]
    },
    {
     "name": "stderr",
     "output_type": "stream",
     "text": [
      "354\t0.938095\n"
     ]
    },
    {
     "name": "stdout",
     "output_type": "stream",
     "text": [
      "355\t0.938095\n"
     ]
    },
    {
     "name": "stderr",
     "output_type": "stream",
     "text": [
      "355\t0.938095\n"
     ]
    },
    {
     "name": "stdout",
     "output_type": "stream",
     "text": [
      "356\t0.938322\n"
     ]
    },
    {
     "name": "stderr",
     "output_type": "stream",
     "text": [
      "356\t0.938322\n"
     ]
    },
    {
     "name": "stdout",
     "output_type": "stream",
     "text": [
      "357\t0.937642\n"
     ]
    },
    {
     "name": "stderr",
     "output_type": "stream",
     "text": [
      "357\t0.937642\n"
     ]
    },
    {
     "name": "stdout",
     "output_type": "stream",
     "text": [
      "358\t0.937868\n"
     ]
    },
    {
     "name": "stderr",
     "output_type": "stream",
     "text": [
      "358\t0.937868\n"
     ]
    },
    {
     "name": "stdout",
     "output_type": "stream",
     "text": [
      "359\t0.937868\n"
     ]
    },
    {
     "name": "stderr",
     "output_type": "stream",
     "text": [
      "359\t0.937868\n"
     ]
    },
    {
     "name": "stdout",
     "output_type": "stream",
     "text": [
      "360\t0.938322\n"
     ]
    },
    {
     "name": "stderr",
     "output_type": "stream",
     "text": [
      "360\t0.938322\n"
     ]
    },
    {
     "name": "stdout",
     "output_type": "stream",
     "text": [
      "361\t0.938095\n"
     ]
    },
    {
     "name": "stderr",
     "output_type": "stream",
     "text": [
      "361\t0.938095\n"
     ]
    },
    {
     "name": "stdout",
     "output_type": "stream",
     "text": [
      "362\t0.937642\n"
     ]
    },
    {
     "name": "stderr",
     "output_type": "stream",
     "text": [
      "362\t0.937642\n"
     ]
    },
    {
     "name": "stdout",
     "output_type": "stream",
     "text": [
      "363\t0.937868\n"
     ]
    },
    {
     "name": "stderr",
     "output_type": "stream",
     "text": [
      "363\t0.937868\n"
     ]
    },
    {
     "name": "stdout",
     "output_type": "stream",
     "text": [
      "364\t0.934921\n"
     ]
    },
    {
     "name": "stderr",
     "output_type": "stream",
     "text": [
      "364\t0.934921\n"
     ]
    },
    {
     "name": "stdout",
     "output_type": "stream",
     "text": [
      "365\t0.937415\n"
     ]
    },
    {
     "name": "stderr",
     "output_type": "stream",
     "text": [
      "365\t0.937415\n"
     ]
    },
    {
     "name": "stdout",
     "output_type": "stream",
     "text": [
      "366\t0.936961\n"
     ]
    },
    {
     "name": "stderr",
     "output_type": "stream",
     "text": [
      "366\t0.936961\n"
     ]
    },
    {
     "name": "stdout",
     "output_type": "stream",
     "text": [
      "367\t0.936735\n"
     ]
    },
    {
     "name": "stderr",
     "output_type": "stream",
     "text": [
      "367\t0.936735\n"
     ]
    },
    {
     "name": "stdout",
     "output_type": "stream",
     "text": [
      "368\t0.936735\n"
     ]
    },
    {
     "name": "stderr",
     "output_type": "stream",
     "text": [
      "368\t0.936735\n"
     ]
    },
    {
     "name": "stdout",
     "output_type": "stream",
     "text": [
      "369\t0.937415\n"
     ]
    },
    {
     "name": "stderr",
     "output_type": "stream",
     "text": [
      "369\t0.937415\n"
     ]
    },
    {
     "name": "stdout",
     "output_type": "stream",
     "text": [
      "370\t0.936508\n"
     ]
    },
    {
     "name": "stderr",
     "output_type": "stream",
     "text": [
      "370\t0.936508\n"
     ]
    },
    {
     "name": "stdout",
     "output_type": "stream",
     "text": [
      "371\t0.936735\n"
     ]
    },
    {
     "name": "stderr",
     "output_type": "stream",
     "text": [
      "371\t0.936735\n"
     ]
    },
    {
     "name": "stdout",
     "output_type": "stream",
     "text": [
      "372\t0.936508\n"
     ]
    },
    {
     "name": "stderr",
     "output_type": "stream",
     "text": [
      "372\t0.936508\n"
     ]
    },
    {
     "name": "stdout",
     "output_type": "stream",
     "text": [
      "373\t0.936281\n"
     ]
    },
    {
     "name": "stderr",
     "output_type": "stream",
     "text": [
      "373\t0.936281\n"
     ]
    },
    {
     "name": "stdout",
     "output_type": "stream",
     "text": [
      "374\t0.937415\n"
     ]
    },
    {
     "name": "stderr",
     "output_type": "stream",
     "text": [
      "374\t0.937415\n"
     ]
    },
    {
     "name": "stdout",
     "output_type": "stream",
     "text": [
      "375\t0.936735\n"
     ]
    },
    {
     "name": "stderr",
     "output_type": "stream",
     "text": [
      "375\t0.936735\n"
     ]
    },
    {
     "name": "stdout",
     "output_type": "stream",
     "text": [
      "376\t0.937642\n"
     ]
    },
    {
     "name": "stderr",
     "output_type": "stream",
     "text": [
      "376\t0.937642\n"
     ]
    },
    {
     "name": "stdout",
     "output_type": "stream",
     "text": [
      "377\t0.937415\n"
     ]
    },
    {
     "name": "stderr",
     "output_type": "stream",
     "text": [
      "377\t0.937415\n"
     ]
    },
    {
     "name": "stdout",
     "output_type": "stream",
     "text": [
      "378\t0.936961\n"
     ]
    },
    {
     "name": "stderr",
     "output_type": "stream",
     "text": [
      "378\t0.936961\n"
     ]
    },
    {
     "name": "stdout",
     "output_type": "stream",
     "text": [
      "379\t0.937868\n"
     ]
    },
    {
     "name": "stderr",
     "output_type": "stream",
     "text": [
      "379\t0.937868\n"
     ]
    },
    {
     "name": "stdout",
     "output_type": "stream",
     "text": [
      "380\t0.937642\n"
     ]
    },
    {
     "name": "stderr",
     "output_type": "stream",
     "text": [
      "380\t0.937642\n"
     ]
    },
    {
     "name": "stdout",
     "output_type": "stream",
     "text": [
      "381\t0.937415\n"
     ]
    },
    {
     "name": "stderr",
     "output_type": "stream",
     "text": [
      "381\t0.937415\n"
     ]
    },
    {
     "name": "stdout",
     "output_type": "stream",
     "text": [
      "382\t0.938095\n"
     ]
    },
    {
     "name": "stderr",
     "output_type": "stream",
     "text": [
      "382\t0.938095\n"
     ]
    },
    {
     "name": "stdout",
     "output_type": "stream",
     "text": [
      "383\t0.938322\n"
     ]
    },
    {
     "name": "stderr",
     "output_type": "stream",
     "text": [
      "383\t0.938322\n"
     ]
    },
    {
     "name": "stdout",
     "output_type": "stream",
     "text": [
      "384\t0.938095\n"
     ]
    },
    {
     "name": "stderr",
     "output_type": "stream",
     "text": [
      "384\t0.938095\n"
     ]
    },
    {
     "name": "stdout",
     "output_type": "stream",
     "text": [
      "385\t0.938549\n"
     ]
    },
    {
     "name": "stderr",
     "output_type": "stream",
     "text": [
      "385\t0.938549\n"
     ]
    },
    {
     "name": "stdout",
     "output_type": "stream",
     "text": [
      "386\t0.939909\n"
     ]
    },
    {
     "name": "stderr",
     "output_type": "stream",
     "text": [
      "386\t0.939909\n"
     ]
    },
    {
     "name": "stdout",
     "output_type": "stream",
     "text": [
      "387\t0.938095\n"
     ]
    },
    {
     "name": "stderr",
     "output_type": "stream",
     "text": [
      "387\t0.938095\n"
     ]
    },
    {
     "name": "stdout",
     "output_type": "stream",
     "text": [
      "388\t0.939002\n"
     ]
    },
    {
     "name": "stderr",
     "output_type": "stream",
     "text": [
      "388\t0.939002\n"
     ]
    },
    {
     "name": "stdout",
     "output_type": "stream",
     "text": [
      "389\t0.939456\n"
     ]
    },
    {
     "name": "stderr",
     "output_type": "stream",
     "text": [
      "389\t0.939456\n"
     ]
    },
    {
     "name": "stdout",
     "output_type": "stream",
     "text": [
      "390\t0.939229\n"
     ]
    },
    {
     "name": "stderr",
     "output_type": "stream",
     "text": [
      "390\t0.939229\n"
     ]
    },
    {
     "name": "stdout",
     "output_type": "stream",
     "text": [
      "391\t0.940136\n"
     ]
    },
    {
     "name": "stderr",
     "output_type": "stream",
     "text": [
      "391\t0.940136\n"
     ]
    },
    {
     "name": "stdout",
     "output_type": "stream",
     "text": [
      "392\t0.939456\n"
     ]
    },
    {
     "name": "stderr",
     "output_type": "stream",
     "text": [
      "392\t0.939456\n"
     ]
    },
    {
     "name": "stdout",
     "output_type": "stream",
     "text": [
      "393\t0.940363\n"
     ]
    },
    {
     "name": "stderr",
     "output_type": "stream",
     "text": [
      "393\t0.940363\n"
     ]
    },
    {
     "name": "stdout",
     "output_type": "stream",
     "text": [
      "394\t0.939683\n"
     ]
    },
    {
     "name": "stderr",
     "output_type": "stream",
     "text": [
      "394\t0.939683\n"
     ]
    },
    {
     "name": "stdout",
     "output_type": "stream",
     "text": [
      "395\t0.939229\n"
     ]
    },
    {
     "name": "stderr",
     "output_type": "stream",
     "text": [
      "395\t0.939229\n"
     ]
    },
    {
     "name": "stdout",
     "output_type": "stream",
     "text": [
      "396\t0.938549\n"
     ]
    },
    {
     "name": "stderr",
     "output_type": "stream",
     "text": [
      "396\t0.938549\n"
     ]
    },
    {
     "name": "stdout",
     "output_type": "stream",
     "text": [
      "397\t0.940136\n"
     ]
    },
    {
     "name": "stderr",
     "output_type": "stream",
     "text": [
      "397\t0.940136\n"
     ]
    },
    {
     "name": "stdout",
     "output_type": "stream",
     "text": [
      "398\t0.940363\n"
     ]
    },
    {
     "name": "stderr",
     "output_type": "stream",
     "text": [
      "398\t0.940363\n"
     ]
    },
    {
     "name": "stdout",
     "output_type": "stream",
     "text": [
      "399\t0.939909\n"
     ]
    },
    {
     "name": "stderr",
     "output_type": "stream",
     "text": [
      "399\t0.939909\n"
     ]
    },
    {
     "name": "stdout",
     "output_type": "stream",
     "text": [
      "400\t0.939002\n"
     ]
    },
    {
     "name": "stderr",
     "output_type": "stream",
     "text": [
      "400\t0.939002\n"
     ]
    },
    {
     "name": "stdout",
     "output_type": "stream",
     "text": [
      "401\t0.939229\n"
     ]
    },
    {
     "name": "stderr",
     "output_type": "stream",
     "text": [
      "401\t0.939229\n"
     ]
    },
    {
     "name": "stdout",
     "output_type": "stream",
     "text": [
      "402\t0.939456\n"
     ]
    },
    {
     "name": "stderr",
     "output_type": "stream",
     "text": [
      "402\t0.939456\n"
     ]
    },
    {
     "name": "stdout",
     "output_type": "stream",
     "text": [
      "403\t0.939229\n"
     ]
    },
    {
     "name": "stderr",
     "output_type": "stream",
     "text": [
      "403\t0.939229\n"
     ]
    },
    {
     "name": "stdout",
     "output_type": "stream",
     "text": [
      "404\t0.939002\n"
     ]
    },
    {
     "name": "stderr",
     "output_type": "stream",
     "text": [
      "404\t0.939002\n"
     ]
    },
    {
     "name": "stdout",
     "output_type": "stream",
     "text": [
      "405\t0.939229\n"
     ]
    },
    {
     "name": "stderr",
     "output_type": "stream",
     "text": [
      "405\t0.939229\n"
     ]
    },
    {
     "name": "stdout",
     "output_type": "stream",
     "text": [
      "406\t0.938095\n"
     ]
    },
    {
     "name": "stderr",
     "output_type": "stream",
     "text": [
      "406\t0.938095\n"
     ]
    },
    {
     "name": "stdout",
     "output_type": "stream",
     "text": [
      "407\t0.938322\n"
     ]
    },
    {
     "name": "stderr",
     "output_type": "stream",
     "text": [
      "407\t0.938322\n"
     ]
    },
    {
     "name": "stdout",
     "output_type": "stream",
     "text": [
      "408\t0.939229\n"
     ]
    },
    {
     "name": "stderr",
     "output_type": "stream",
     "text": [
      "408\t0.939229\n"
     ]
    },
    {
     "name": "stdout",
     "output_type": "stream",
     "text": [
      "409\t0.940816\n"
     ]
    },
    {
     "name": "stderr",
     "output_type": "stream",
     "text": [
      "409\t0.940816\n"
     ]
    },
    {
     "name": "stdout",
     "output_type": "stream",
     "text": [
      "410\t0.935147\n"
     ]
    },
    {
     "name": "stderr",
     "output_type": "stream",
     "text": [
      "410\t0.935147\n"
     ]
    },
    {
     "name": "stdout",
     "output_type": "stream",
     "text": [
      "411\t0.934694\n"
     ]
    },
    {
     "name": "stderr",
     "output_type": "stream",
     "text": [
      "411\t0.934694\n"
     ]
    },
    {
     "name": "stdout",
     "output_type": "stream",
     "text": [
      "412\t0.936961\n"
     ]
    },
    {
     "name": "stderr",
     "output_type": "stream",
     "text": [
      "412\t0.936961\n"
     ]
    },
    {
     "name": "stdout",
     "output_type": "stream",
     "text": [
      "413\t0.936508\n"
     ]
    },
    {
     "name": "stderr",
     "output_type": "stream",
     "text": [
      "413\t0.936508\n"
     ]
    },
    {
     "name": "stdout",
     "output_type": "stream",
     "text": [
      "414\t0.937188\n"
     ]
    },
    {
     "name": "stderr",
     "output_type": "stream",
     "text": [
      "414\t0.937188\n"
     ]
    },
    {
     "name": "stdout",
     "output_type": "stream",
     "text": [
      "415\t0.936961\n"
     ]
    },
    {
     "name": "stderr",
     "output_type": "stream",
     "text": [
      "415\t0.936961\n"
     ]
    },
    {
     "name": "stdout",
     "output_type": "stream",
     "text": [
      "416\t0.937188\n"
     ]
    },
    {
     "name": "stderr",
     "output_type": "stream",
     "text": [
      "416\t0.937188\n"
     ]
    },
    {
     "name": "stdout",
     "output_type": "stream",
     "text": [
      "417\t0.936508\n"
     ]
    },
    {
     "name": "stderr",
     "output_type": "stream",
     "text": [
      "417\t0.936508\n"
     ]
    },
    {
     "name": "stdout",
     "output_type": "stream",
     "text": [
      "418\t0.936735\n"
     ]
    },
    {
     "name": "stderr",
     "output_type": "stream",
     "text": [
      "418\t0.936735\n"
     ]
    },
    {
     "name": "stdout",
     "output_type": "stream",
     "text": [
      "419\t0.936735\n"
     ]
    },
    {
     "name": "stderr",
     "output_type": "stream",
     "text": [
      "419\t0.936735\n"
     ]
    },
    {
     "name": "stdout",
     "output_type": "stream",
     "text": [
      "420\t0.936054\n"
     ]
    },
    {
     "name": "stderr",
     "output_type": "stream",
     "text": [
      "420\t0.936054\n"
     ]
    },
    {
     "name": "stdout",
     "output_type": "stream",
     "text": [
      "421\t0.936281\n"
     ]
    },
    {
     "name": "stderr",
     "output_type": "stream",
     "text": [
      "421\t0.936281\n"
     ]
    },
    {
     "name": "stdout",
     "output_type": "stream",
     "text": [
      "422\t0.936054\n"
     ]
    },
    {
     "name": "stderr",
     "output_type": "stream",
     "text": [
      "422\t0.936054\n"
     ]
    },
    {
     "name": "stdout",
     "output_type": "stream",
     "text": [
      "423\t0.936054\n"
     ]
    },
    {
     "name": "stderr",
     "output_type": "stream",
     "text": [
      "423\t0.936054\n"
     ]
    },
    {
     "name": "stdout",
     "output_type": "stream",
     "text": [
      "424\t0.935828\n"
     ]
    },
    {
     "name": "stderr",
     "output_type": "stream",
     "text": [
      "424\t0.935828\n"
     ]
    },
    {
     "name": "stdout",
     "output_type": "stream",
     "text": [
      "425\t0.936281\n"
     ]
    },
    {
     "name": "stderr",
     "output_type": "stream",
     "text": [
      "425\t0.936281\n"
     ]
    },
    {
     "name": "stdout",
     "output_type": "stream",
     "text": [
      "426\t0.936508\n"
     ]
    },
    {
     "name": "stderr",
     "output_type": "stream",
     "text": [
      "426\t0.936508\n"
     ]
    },
    {
     "name": "stdout",
     "output_type": "stream",
     "text": [
      "427\t0.936281\n"
     ]
    },
    {
     "name": "stderr",
     "output_type": "stream",
     "text": [
      "427\t0.936281\n"
     ]
    },
    {
     "name": "stdout",
     "output_type": "stream",
     "text": [
      "428\t0.935374\n"
     ]
    },
    {
     "name": "stderr",
     "output_type": "stream",
     "text": [
      "428\t0.935374\n"
     ]
    },
    {
     "name": "stdout",
     "output_type": "stream",
     "text": [
      "429\t0.935828\n"
     ]
    },
    {
     "name": "stderr",
     "output_type": "stream",
     "text": [
      "429\t0.935828\n"
     ]
    },
    {
     "name": "stdout",
     "output_type": "stream",
     "text": [
      "430\t0.935828\n"
     ]
    },
    {
     "name": "stderr",
     "output_type": "stream",
     "text": [
      "430\t0.935828\n"
     ]
    },
    {
     "name": "stdout",
     "output_type": "stream",
     "text": [
      "431\t0.935601\n"
     ]
    },
    {
     "name": "stderr",
     "output_type": "stream",
     "text": [
      "431\t0.935601\n"
     ]
    },
    {
     "name": "stdout",
     "output_type": "stream",
     "text": [
      "432\t0.935828\n"
     ]
    },
    {
     "name": "stderr",
     "output_type": "stream",
     "text": [
      "432\t0.935828\n"
     ]
    },
    {
     "name": "stdout",
     "output_type": "stream",
     "text": [
      "433\t0.936054\n"
     ]
    },
    {
     "name": "stderr",
     "output_type": "stream",
     "text": [
      "433\t0.936054\n"
     ]
    },
    {
     "name": "stdout",
     "output_type": "stream",
     "text": [
      "434\t0.936054\n"
     ]
    },
    {
     "name": "stderr",
     "output_type": "stream",
     "text": [
      "434\t0.936054\n"
     ]
    },
    {
     "name": "stdout",
     "output_type": "stream",
     "text": [
      "435\t0.936054\n"
     ]
    },
    {
     "name": "stderr",
     "output_type": "stream",
     "text": [
      "435\t0.936054\n"
     ]
    },
    {
     "name": "stdout",
     "output_type": "stream",
     "text": [
      "436\t0.935601\n"
     ]
    },
    {
     "name": "stderr",
     "output_type": "stream",
     "text": [
      "436\t0.935601\n"
     ]
    },
    {
     "name": "stdout",
     "output_type": "stream",
     "text": [
      "437\t0.934694\n"
     ]
    },
    {
     "name": "stderr",
     "output_type": "stream",
     "text": [
      "437\t0.934694\n"
     ]
    },
    {
     "name": "stdout",
     "output_type": "stream",
     "text": [
      "438\t0.934921\n"
     ]
    },
    {
     "name": "stderr",
     "output_type": "stream",
     "text": [
      "438\t0.934921\n"
     ]
    },
    {
     "name": "stdout",
     "output_type": "stream",
     "text": [
      "439\t0.940590\n"
     ]
    },
    {
     "name": "stderr",
     "output_type": "stream",
     "text": [
      "439\t0.940590\n"
     ]
    },
    {
     "name": "stdout",
     "output_type": "stream",
     "text": [
      "440\t0.941043\n"
     ]
    },
    {
     "name": "stderr",
     "output_type": "stream",
     "text": [
      "440\t0.941043\n"
     ]
    },
    {
     "name": "stdout",
     "output_type": "stream",
     "text": [
      "441\t0.941723\n"
     ]
    },
    {
     "name": "stderr",
     "output_type": "stream",
     "text": [
      "441\t0.941723\n"
     ]
    },
    {
     "name": "stdout",
     "output_type": "stream",
     "text": [
      "442\t0.941043\n"
     ]
    },
    {
     "name": "stderr",
     "output_type": "stream",
     "text": [
      "442\t0.941043\n"
     ]
    },
    {
     "name": "stdout",
     "output_type": "stream",
     "text": [
      "443\t0.941497\n"
     ]
    },
    {
     "name": "stderr",
     "output_type": "stream",
     "text": [
      "443\t0.941497\n"
     ]
    },
    {
     "name": "stdout",
     "output_type": "stream",
     "text": [
      "444\t0.941950\n"
     ]
    },
    {
     "name": "stderr",
     "output_type": "stream",
     "text": [
      "444\t0.941950\n"
     ]
    },
    {
     "name": "stdout",
     "output_type": "stream",
     "text": [
      "445\t0.941497\n"
     ]
    },
    {
     "name": "stderr",
     "output_type": "stream",
     "text": [
      "445\t0.941497\n"
     ]
    },
    {
     "name": "stdout",
     "output_type": "stream",
     "text": [
      "446\t0.940816\n"
     ]
    },
    {
     "name": "stderr",
     "output_type": "stream",
     "text": [
      "446\t0.940816\n"
     ]
    },
    {
     "name": "stdout",
     "output_type": "stream",
     "text": [
      "447\t0.941497\n"
     ]
    },
    {
     "name": "stderr",
     "output_type": "stream",
     "text": [
      "447\t0.941497\n"
     ]
    },
    {
     "name": "stdout",
     "output_type": "stream",
     "text": [
      "448\t0.940816\n"
     ]
    },
    {
     "name": "stderr",
     "output_type": "stream",
     "text": [
      "448\t0.940816\n"
     ]
    },
    {
     "name": "stdout",
     "output_type": "stream",
     "text": [
      "449\t0.941043\n"
     ]
    },
    {
     "name": "stderr",
     "output_type": "stream",
     "text": [
      "449\t0.941043\n"
     ]
    },
    {
     "name": "stdout",
     "output_type": "stream",
     "text": [
      "450\t0.941723\n"
     ]
    },
    {
     "name": "stderr",
     "output_type": "stream",
     "text": [
      "450\t0.941723\n"
     ]
    },
    {
     "name": "stdout",
     "output_type": "stream",
     "text": [
      "451\t0.941043\n"
     ]
    },
    {
     "name": "stderr",
     "output_type": "stream",
     "text": [
      "451\t0.941043\n"
     ]
    },
    {
     "name": "stdout",
     "output_type": "stream",
     "text": [
      "452\t0.941270\n"
     ]
    },
    {
     "name": "stderr",
     "output_type": "stream",
     "text": [
      "452\t0.941270\n"
     ]
    },
    {
     "name": "stdout",
     "output_type": "stream",
     "text": [
      "453\t0.940590\n"
     ]
    },
    {
     "name": "stderr",
     "output_type": "stream",
     "text": [
      "453\t0.940590\n"
     ]
    },
    {
     "name": "stdout",
     "output_type": "stream",
     "text": [
      "454\t0.940363\n"
     ]
    },
    {
     "name": "stderr",
     "output_type": "stream",
     "text": [
      "454\t0.940363\n"
     ]
    },
    {
     "name": "stdout",
     "output_type": "stream",
     "text": [
      "455\t0.940816\n"
     ]
    },
    {
     "name": "stderr",
     "output_type": "stream",
     "text": [
      "455\t0.940816\n"
     ]
    },
    {
     "name": "stdout",
     "output_type": "stream",
     "text": [
      "456\t0.940816\n"
     ]
    },
    {
     "name": "stderr",
     "output_type": "stream",
     "text": [
      "456\t0.940816\n"
     ]
    },
    {
     "name": "stdout",
     "output_type": "stream",
     "text": [
      "457\t0.941043\n"
     ]
    },
    {
     "name": "stderr",
     "output_type": "stream",
     "text": [
      "457\t0.941043\n"
     ]
    },
    {
     "name": "stdout",
     "output_type": "stream",
     "text": [
      "458\t0.940816\n"
     ]
    },
    {
     "name": "stderr",
     "output_type": "stream",
     "text": [
      "458\t0.940816\n"
     ]
    },
    {
     "name": "stdout",
     "output_type": "stream",
     "text": [
      "459\t0.940363\n"
     ]
    },
    {
     "name": "stderr",
     "output_type": "stream",
     "text": [
      "459\t0.940363\n"
     ]
    },
    {
     "name": "stdout",
     "output_type": "stream",
     "text": [
      "460\t0.941043\n"
     ]
    },
    {
     "name": "stderr",
     "output_type": "stream",
     "text": [
      "460\t0.941043\n"
     ]
    },
    {
     "name": "stdout",
     "output_type": "stream",
     "text": [
      "461\t0.940363\n"
     ]
    },
    {
     "name": "stderr",
     "output_type": "stream",
     "text": [
      "461\t0.940363\n"
     ]
    },
    {
     "name": "stdout",
     "output_type": "stream",
     "text": [
      "462\t0.940136\n"
     ]
    },
    {
     "name": "stderr",
     "output_type": "stream",
     "text": [
      "462\t0.940136\n"
     ]
    },
    {
     "name": "stdout",
     "output_type": "stream",
     "text": [
      "463\t0.939683\n"
     ]
    },
    {
     "name": "stderr",
     "output_type": "stream",
     "text": [
      "463\t0.939683\n"
     ]
    },
    {
     "name": "stdout",
     "output_type": "stream",
     "text": [
      "464\t0.940363\n"
     ]
    },
    {
     "name": "stderr",
     "output_type": "stream",
     "text": [
      "464\t0.940363\n"
     ]
    },
    {
     "name": "stdout",
     "output_type": "stream",
     "text": [
      "465\t0.939909\n"
     ]
    },
    {
     "name": "stderr",
     "output_type": "stream",
     "text": [
      "465\t0.939909\n"
     ]
    },
    {
     "name": "stdout",
     "output_type": "stream",
     "text": [
      "466\t0.940363\n"
     ]
    },
    {
     "name": "stderr",
     "output_type": "stream",
     "text": [
      "466\t0.940363\n"
     ]
    },
    {
     "name": "stdout",
     "output_type": "stream",
     "text": [
      "467\t0.939909\n"
     ]
    },
    {
     "name": "stderr",
     "output_type": "stream",
     "text": [
      "467\t0.939909\n"
     ]
    },
    {
     "name": "stdout",
     "output_type": "stream",
     "text": [
      "468\t0.940590\n"
     ]
    },
    {
     "name": "stderr",
     "output_type": "stream",
     "text": [
      "468\t0.940590\n"
     ]
    },
    {
     "name": "stdout",
     "output_type": "stream",
     "text": [
      "469\t0.940136\n"
     ]
    },
    {
     "name": "stderr",
     "output_type": "stream",
     "text": [
      "469\t0.940136\n"
     ]
    },
    {
     "name": "stdout",
     "output_type": "stream",
     "text": [
      "470\t0.940590\n"
     ]
    },
    {
     "name": "stderr",
     "output_type": "stream",
     "text": [
      "470\t0.940590\n"
     ]
    },
    {
     "name": "stdout",
     "output_type": "stream",
     "text": [
      "471\t0.940136\n"
     ]
    },
    {
     "name": "stderr",
     "output_type": "stream",
     "text": [
      "471\t0.940136\n"
     ]
    },
    {
     "name": "stdout",
     "output_type": "stream",
     "text": [
      "472\t0.940136\n"
     ]
    },
    {
     "name": "stderr",
     "output_type": "stream",
     "text": [
      "472\t0.940136\n"
     ]
    },
    {
     "name": "stdout",
     "output_type": "stream",
     "text": [
      "473\t0.940136\n"
     ]
    },
    {
     "name": "stderr",
     "output_type": "stream",
     "text": [
      "473\t0.940136\n"
     ]
    },
    {
     "name": "stdout",
     "output_type": "stream",
     "text": [
      "474\t0.940363\n"
     ]
    },
    {
     "name": "stderr",
     "output_type": "stream",
     "text": [
      "474\t0.940363\n"
     ]
    },
    {
     "name": "stdout",
     "output_type": "stream",
     "text": [
      "475\t0.940136\n"
     ]
    },
    {
     "name": "stderr",
     "output_type": "stream",
     "text": [
      "475\t0.940136\n"
     ]
    },
    {
     "name": "stdout",
     "output_type": "stream",
     "text": [
      "476\t0.940590\n"
     ]
    },
    {
     "name": "stderr",
     "output_type": "stream",
     "text": [
      "476\t0.940590\n"
     ]
    },
    {
     "name": "stdout",
     "output_type": "stream",
     "text": [
      "477\t0.939909\n"
     ]
    },
    {
     "name": "stderr",
     "output_type": "stream",
     "text": [
      "477\t0.939909\n"
     ]
    },
    {
     "name": "stdout",
     "output_type": "stream",
     "text": [
      "478\t0.940136\n"
     ]
    },
    {
     "name": "stderr",
     "output_type": "stream",
     "text": [
      "478\t0.940136\n"
     ]
    },
    {
     "name": "stdout",
     "output_type": "stream",
     "text": [
      "479\t0.940363\n"
     ]
    },
    {
     "name": "stderr",
     "output_type": "stream",
     "text": [
      "479\t0.940363\n"
     ]
    },
    {
     "name": "stdout",
     "output_type": "stream",
     "text": [
      "480\t0.940590\n"
     ]
    },
    {
     "name": "stderr",
     "output_type": "stream",
     "text": [
      "480\t0.940590\n"
     ]
    },
    {
     "name": "stdout",
     "output_type": "stream",
     "text": [
      "481\t0.940816\n"
     ]
    },
    {
     "name": "stderr",
     "output_type": "stream",
     "text": [
      "481\t0.940816\n"
     ]
    },
    {
     "name": "stdout",
     "output_type": "stream",
     "text": [
      "482\t0.940363\n"
     ]
    },
    {
     "name": "stderr",
     "output_type": "stream",
     "text": [
      "482\t0.940363\n"
     ]
    },
    {
     "name": "stdout",
     "output_type": "stream",
     "text": [
      "483\t0.940590\n"
     ]
    },
    {
     "name": "stderr",
     "output_type": "stream",
     "text": [
      "483\t0.940590\n"
     ]
    },
    {
     "name": "stdout",
     "output_type": "stream",
     "text": [
      "484\t0.941270\n"
     ]
    },
    {
     "name": "stderr",
     "output_type": "stream",
     "text": [
      "484\t0.941270\n"
     ]
    },
    {
     "name": "stdout",
     "output_type": "stream",
     "text": [
      "485\t0.939909\n"
     ]
    },
    {
     "name": "stderr",
     "output_type": "stream",
     "text": [
      "485\t0.939909\n"
     ]
    },
    {
     "name": "stdout",
     "output_type": "stream",
     "text": [
      "486\t0.940363\n"
     ]
    },
    {
     "name": "stderr",
     "output_type": "stream",
     "text": [
      "486\t0.940363\n"
     ]
    },
    {
     "name": "stdout",
     "output_type": "stream",
     "text": [
      "487\t0.940590\n"
     ]
    },
    {
     "name": "stderr",
     "output_type": "stream",
     "text": [
      "487\t0.940590\n"
     ]
    },
    {
     "name": "stdout",
     "output_type": "stream",
     "text": [
      "488\t0.941723\n"
     ]
    },
    {
     "name": "stderr",
     "output_type": "stream",
     "text": [
      "488\t0.941723\n"
     ]
    },
    {
     "name": "stdout",
     "output_type": "stream",
     "text": [
      "489\t0.940590\n"
     ]
    },
    {
     "name": "stderr",
     "output_type": "stream",
     "text": [
      "489\t0.940590\n"
     ]
    },
    {
     "name": "stdout",
     "output_type": "stream",
     "text": [
      "490\t0.940590\n"
     ]
    },
    {
     "name": "stderr",
     "output_type": "stream",
     "text": [
      "490\t0.940590\n"
     ]
    },
    {
     "name": "stdout",
     "output_type": "stream",
     "text": [
      "491\t0.941497\n"
     ]
    },
    {
     "name": "stderr",
     "output_type": "stream",
     "text": [
      "491\t0.941497\n"
     ]
    },
    {
     "name": "stdout",
     "output_type": "stream",
     "text": [
      "492\t0.940363\n"
     ]
    },
    {
     "name": "stderr",
     "output_type": "stream",
     "text": [
      "492\t0.940363\n"
     ]
    },
    {
     "name": "stdout",
     "output_type": "stream",
     "text": [
      "493\t0.940136\n"
     ]
    },
    {
     "name": "stderr",
     "output_type": "stream",
     "text": [
      "493\t0.940136\n"
     ]
    },
    {
     "name": "stdout",
     "output_type": "stream",
     "text": [
      "494\t0.939002\n"
     ]
    },
    {
     "name": "stderr",
     "output_type": "stream",
     "text": [
      "494\t0.939002\n"
     ]
    },
    {
     "name": "stdout",
     "output_type": "stream",
     "text": [
      "495\t0.939229\n"
     ]
    },
    {
     "name": "stderr",
     "output_type": "stream",
     "text": [
      "495\t0.939229\n"
     ]
    },
    {
     "name": "stdout",
     "output_type": "stream",
     "text": [
      "496\t0.941043\n"
     ]
    },
    {
     "name": "stderr",
     "output_type": "stream",
     "text": [
      "496\t0.941043\n"
     ]
    },
    {
     "name": "stdout",
     "output_type": "stream",
     "text": [
      "497\t0.940363\n"
     ]
    },
    {
     "name": "stderr",
     "output_type": "stream",
     "text": [
      "497\t0.940363\n"
     ]
    },
    {
     "name": "stdout",
     "output_type": "stream",
     "text": [
      "498\t0.939909\n"
     ]
    },
    {
     "name": "stderr",
     "output_type": "stream",
     "text": [
      "498\t0.939909\n"
     ]
    },
    {
     "name": "stdout",
     "output_type": "stream",
     "text": [
      "499\t0.940363\n"
     ]
    },
    {
     "name": "stderr",
     "output_type": "stream",
     "text": [
      "499\t0.940363\n"
     ]
    },
    {
     "name": "stdout",
     "output_type": "stream",
     "text": [
      "500\t0.941723\n"
     ]
    },
    {
     "name": "stderr",
     "output_type": "stream",
     "text": [
      "500\t0.941723\n"
     ]
    },
    {
     "name": "stdout",
     "output_type": "stream",
     "text": [
      "501\t0.941270\n"
     ]
    },
    {
     "name": "stderr",
     "output_type": "stream",
     "text": [
      "501\t0.941270\n"
     ]
    },
    {
     "name": "stdout",
     "output_type": "stream",
     "text": [
      "502\t0.941497\n"
     ]
    },
    {
     "name": "stderr",
     "output_type": "stream",
     "text": [
      "502\t0.941497\n"
     ]
    },
    {
     "name": "stdout",
     "output_type": "stream",
     "text": [
      "503\t0.943084\n"
     ]
    },
    {
     "name": "stderr",
     "output_type": "stream",
     "text": [
      "503\t0.943084\n"
     ]
    },
    {
     "name": "stdout",
     "output_type": "stream",
     "text": [
      "504\t0.941043\n"
     ]
    },
    {
     "name": "stderr",
     "output_type": "stream",
     "text": [
      "504\t0.941043\n"
     ]
    },
    {
     "name": "stdout",
     "output_type": "stream",
     "text": [
      "505\t0.940590\n"
     ]
    },
    {
     "name": "stderr",
     "output_type": "stream",
     "text": [
      "505\t0.940590\n"
     ]
    },
    {
     "name": "stdout",
     "output_type": "stream",
     "text": [
      "506\t0.941270\n"
     ]
    },
    {
     "name": "stderr",
     "output_type": "stream",
     "text": [
      "506\t0.941270\n"
     ]
    },
    {
     "name": "stdout",
     "output_type": "stream",
     "text": [
      "507\t0.940590\n"
     ]
    },
    {
     "name": "stderr",
     "output_type": "stream",
     "text": [
      "507\t0.940590\n"
     ]
    },
    {
     "name": "stdout",
     "output_type": "stream",
     "text": [
      "508\t0.941270\n"
     ]
    },
    {
     "name": "stderr",
     "output_type": "stream",
     "text": [
      "508\t0.941270\n"
     ]
    },
    {
     "name": "stdout",
     "output_type": "stream",
     "text": [
      "509\t0.942857\n"
     ]
    },
    {
     "name": "stderr",
     "output_type": "stream",
     "text": [
      "509\t0.942857\n"
     ]
    },
    {
     "name": "stdout",
     "output_type": "stream",
     "text": [
      "510\t0.938322\n"
     ]
    },
    {
     "name": "stderr",
     "output_type": "stream",
     "text": [
      "510\t0.938322\n"
     ]
    },
    {
     "name": "stdout",
     "output_type": "stream",
     "text": [
      "511\t0.945125\n"
     ]
    },
    {
     "name": "stderr",
     "output_type": "stream",
     "text": [
      "511\t0.945125\n"
     ]
    },
    {
     "name": "stdout",
     "output_type": "stream",
     "text": [
      "512\t0.945805\n"
     ]
    },
    {
     "name": "stderr",
     "output_type": "stream",
     "text": [
      "512\t0.945805\n"
     ]
    },
    {
     "name": "stdout",
     "output_type": "stream",
     "text": [
      "513\t0.944898\n"
     ]
    },
    {
     "name": "stderr",
     "output_type": "stream",
     "text": [
      "513\t0.944898\n"
     ]
    },
    {
     "name": "stdout",
     "output_type": "stream",
     "text": [
      "514\t0.944444\n"
     ]
    },
    {
     "name": "stderr",
     "output_type": "stream",
     "text": [
      "514\t0.944444\n"
     ]
    },
    {
     "name": "stdout",
     "output_type": "stream",
     "text": [
      "515\t0.944671\n"
     ]
    },
    {
     "name": "stderr",
     "output_type": "stream",
     "text": [
      "515\t0.944671\n"
     ]
    },
    {
     "name": "stdout",
     "output_type": "stream",
     "text": [
      "516\t0.944444\n"
     ]
    },
    {
     "name": "stderr",
     "output_type": "stream",
     "text": [
      "516\t0.944444\n"
     ]
    },
    {
     "name": "stdout",
     "output_type": "stream",
     "text": [
      "517\t0.943084\n"
     ]
    },
    {
     "name": "stderr",
     "output_type": "stream",
     "text": [
      "517\t0.943084\n"
     ]
    },
    {
     "name": "stdout",
     "output_type": "stream",
     "text": [
      "518\t0.943311\n"
     ]
    },
    {
     "name": "stderr",
     "output_type": "stream",
     "text": [
      "518\t0.943311\n"
     ]
    },
    {
     "name": "stdout",
     "output_type": "stream",
     "text": [
      "519\t0.944218\n"
     ]
    },
    {
     "name": "stderr",
     "output_type": "stream",
     "text": [
      "519\t0.944218\n"
     ]
    },
    {
     "name": "stdout",
     "output_type": "stream",
     "text": [
      "520\t0.943311\n"
     ]
    },
    {
     "name": "stderr",
     "output_type": "stream",
     "text": [
      "520\t0.943311\n"
     ]
    },
    {
     "name": "stdout",
     "output_type": "stream",
     "text": [
      "521\t0.943311\n"
     ]
    },
    {
     "name": "stderr",
     "output_type": "stream",
     "text": [
      "521\t0.943311\n"
     ]
    },
    {
     "name": "stdout",
     "output_type": "stream",
     "text": [
      "522\t0.943537\n"
     ]
    },
    {
     "name": "stderr",
     "output_type": "stream",
     "text": [
      "522\t0.943537\n"
     ]
    },
    {
     "name": "stdout",
     "output_type": "stream",
     "text": [
      "523\t0.943764\n"
     ]
    },
    {
     "name": "stderr",
     "output_type": "stream",
     "text": [
      "523\t0.943764\n"
     ]
    },
    {
     "name": "stdout",
     "output_type": "stream",
     "text": [
      "524\t0.943537\n"
     ]
    },
    {
     "name": "stderr",
     "output_type": "stream",
     "text": [
      "524\t0.943537\n"
     ]
    },
    {
     "name": "stdout",
     "output_type": "stream",
     "text": [
      "525\t0.943991\n"
     ]
    },
    {
     "name": "stderr",
     "output_type": "stream",
     "text": [
      "525\t0.943991\n"
     ]
    },
    {
     "name": "stdout",
     "output_type": "stream",
     "text": [
      "526\t0.943764\n"
     ]
    },
    {
     "name": "stderr",
     "output_type": "stream",
     "text": [
      "526\t0.943764\n"
     ]
    },
    {
     "name": "stdout",
     "output_type": "stream",
     "text": [
      "527\t0.943764\n"
     ]
    },
    {
     "name": "stderr",
     "output_type": "stream",
     "text": [
      "527\t0.943764\n"
     ]
    },
    {
     "name": "stdout",
     "output_type": "stream",
     "text": [
      "528\t0.944444\n"
     ]
    },
    {
     "name": "stderr",
     "output_type": "stream",
     "text": [
      "528\t0.944444\n"
     ]
    },
    {
     "name": "stdout",
     "output_type": "stream",
     "text": [
      "529\t0.944444\n"
     ]
    },
    {
     "name": "stderr",
     "output_type": "stream",
     "text": [
      "529\t0.944444\n"
     ]
    },
    {
     "name": "stdout",
     "output_type": "stream",
     "text": [
      "530\t0.944218\n"
     ]
    },
    {
     "name": "stderr",
     "output_type": "stream",
     "text": [
      "530\t0.944218\n"
     ]
    },
    {
     "name": "stdout",
     "output_type": "stream",
     "text": [
      "531\t0.943991\n"
     ]
    },
    {
     "name": "stderr",
     "output_type": "stream",
     "text": [
      "531\t0.943991\n"
     ]
    },
    {
     "name": "stdout",
     "output_type": "stream",
     "text": [
      "532\t0.944671\n"
     ]
    },
    {
     "name": "stderr",
     "output_type": "stream",
     "text": [
      "532\t0.944671\n"
     ]
    },
    {
     "name": "stdout",
     "output_type": "stream",
     "text": [
      "533\t0.944444\n"
     ]
    },
    {
     "name": "stderr",
     "output_type": "stream",
     "text": [
      "533\t0.944444\n"
     ]
    },
    {
     "name": "stdout",
     "output_type": "stream",
     "text": [
      "534\t0.944898\n"
     ]
    },
    {
     "name": "stderr",
     "output_type": "stream",
     "text": [
      "534\t0.944898\n"
     ]
    },
    {
     "name": "stdout",
     "output_type": "stream",
     "text": [
      "535\t0.945351\n"
     ]
    },
    {
     "name": "stderr",
     "output_type": "stream",
     "text": [
      "535\t0.945351\n"
     ]
    },
    {
     "name": "stdout",
     "output_type": "stream",
     "text": [
      "536\t0.944671\n"
     ]
    },
    {
     "name": "stderr",
     "output_type": "stream",
     "text": [
      "536\t0.944671\n"
     ]
    },
    {
     "name": "stdout",
     "output_type": "stream",
     "text": [
      "537\t0.943764\n"
     ]
    },
    {
     "name": "stderr",
     "output_type": "stream",
     "text": [
      "537\t0.943764\n"
     ]
    },
    {
     "name": "stdout",
     "output_type": "stream",
     "text": [
      "538\t0.945125\n"
     ]
    },
    {
     "name": "stderr",
     "output_type": "stream",
     "text": [
      "538\t0.945125\n"
     ]
    },
    {
     "name": "stdout",
     "output_type": "stream",
     "text": [
      "539\t0.945351\n"
     ]
    },
    {
     "name": "stderr",
     "output_type": "stream",
     "text": [
      "539\t0.945351\n"
     ]
    },
    {
     "name": "stdout",
     "output_type": "stream",
     "text": [
      "540\t0.944444\n"
     ]
    },
    {
     "name": "stderr",
     "output_type": "stream",
     "text": [
      "540\t0.944444\n"
     ]
    },
    {
     "name": "stdout",
     "output_type": "stream",
     "text": [
      "541\t0.944898\n"
     ]
    },
    {
     "name": "stderr",
     "output_type": "stream",
     "text": [
      "541\t0.944898\n"
     ]
    },
    {
     "name": "stdout",
     "output_type": "stream",
     "text": [
      "542\t0.945125\n"
     ]
    },
    {
     "name": "stderr",
     "output_type": "stream",
     "text": [
      "542\t0.945125\n"
     ]
    },
    {
     "name": "stdout",
     "output_type": "stream",
     "text": [
      "543\t0.944218\n"
     ]
    },
    {
     "name": "stderr",
     "output_type": "stream",
     "text": [
      "543\t0.944218\n"
     ]
    },
    {
     "name": "stdout",
     "output_type": "stream",
     "text": [
      "544\t0.943991\n"
     ]
    },
    {
     "name": "stderr",
     "output_type": "stream",
     "text": [
      "544\t0.943991\n"
     ]
    },
    {
     "name": "stdout",
     "output_type": "stream",
     "text": [
      "545\t0.944898\n"
     ]
    },
    {
     "name": "stderr",
     "output_type": "stream",
     "text": [
      "545\t0.944898\n"
     ]
    },
    {
     "name": "stdout",
     "output_type": "stream",
     "text": [
      "546\t0.944671\n"
     ]
    },
    {
     "name": "stderr",
     "output_type": "stream",
     "text": [
      "546\t0.944671\n"
     ]
    },
    {
     "name": "stdout",
     "output_type": "stream",
     "text": [
      "547\t0.943991\n"
     ]
    },
    {
     "name": "stderr",
     "output_type": "stream",
     "text": [
      "547\t0.943991\n"
     ]
    },
    {
     "name": "stdout",
     "output_type": "stream",
     "text": [
      "548\t0.943084\n"
     ]
    },
    {
     "name": "stderr",
     "output_type": "stream",
     "text": [
      "548\t0.943084\n"
     ]
    },
    {
     "name": "stdout",
     "output_type": "stream",
     "text": [
      "549\t0.944444\n"
     ]
    },
    {
     "name": "stderr",
     "output_type": "stream",
     "text": [
      "549\t0.944444\n"
     ]
    },
    {
     "name": "stdout",
     "output_type": "stream",
     "text": [
      "550\t0.944218\n"
     ]
    },
    {
     "name": "stderr",
     "output_type": "stream",
     "text": [
      "550\t0.944218\n"
     ]
    },
    {
     "name": "stdout",
     "output_type": "stream",
     "text": [
      "551\t0.943537\n"
     ]
    },
    {
     "name": "stderr",
     "output_type": "stream",
     "text": [
      "551\t0.943537\n"
     ]
    },
    {
     "name": "stdout",
     "output_type": "stream",
     "text": [
      "552\t0.943084\n"
     ]
    },
    {
     "name": "stderr",
     "output_type": "stream",
     "text": [
      "552\t0.943084\n"
     ]
    },
    {
     "name": "stdout",
     "output_type": "stream",
     "text": [
      "553\t0.942404\n"
     ]
    },
    {
     "name": "stderr",
     "output_type": "stream",
     "text": [
      "553\t0.942404\n"
     ]
    },
    {
     "name": "stdout",
     "output_type": "stream",
     "text": [
      "554\t0.943084\n"
     ]
    },
    {
     "name": "stderr",
     "output_type": "stream",
     "text": [
      "554\t0.943084\n"
     ]
    },
    {
     "name": "stdout",
     "output_type": "stream",
     "text": [
      "555\t0.943311\n"
     ]
    },
    {
     "name": "stderr",
     "output_type": "stream",
     "text": [
      "555\t0.943311\n"
     ]
    },
    {
     "name": "stdout",
     "output_type": "stream",
     "text": [
      "556\t0.943764\n"
     ]
    },
    {
     "name": "stderr",
     "output_type": "stream",
     "text": [
      "556\t0.943764\n"
     ]
    },
    {
     "name": "stdout",
     "output_type": "stream",
     "text": [
      "557\t0.944444\n"
     ]
    },
    {
     "name": "stderr",
     "output_type": "stream",
     "text": [
      "557\t0.944444\n"
     ]
    },
    {
     "name": "stdout",
     "output_type": "stream",
     "text": [
      "558\t0.944444\n"
     ]
    },
    {
     "name": "stderr",
     "output_type": "stream",
     "text": [
      "558\t0.944444\n"
     ]
    },
    {
     "name": "stdout",
     "output_type": "stream",
     "text": [
      "559\t0.943537\n"
     ]
    },
    {
     "name": "stderr",
     "output_type": "stream",
     "text": [
      "559\t0.943537\n"
     ]
    },
    {
     "name": "stdout",
     "output_type": "stream",
     "text": [
      "560\t0.943991\n"
     ]
    },
    {
     "name": "stderr",
     "output_type": "stream",
     "text": [
      "560\t0.943991\n"
     ]
    },
    {
     "name": "stdout",
     "output_type": "stream",
     "text": [
      "561\t0.942630\n"
     ]
    },
    {
     "name": "stderr",
     "output_type": "stream",
     "text": [
      "561\t0.942630\n"
     ]
    },
    {
     "name": "stdout",
     "output_type": "stream",
     "text": [
      "562\t0.943311\n"
     ]
    },
    {
     "name": "stderr",
     "output_type": "stream",
     "text": [
      "562\t0.943311\n"
     ]
    },
    {
     "name": "stdout",
     "output_type": "stream",
     "text": [
      "563\t0.941043\n"
     ]
    },
    {
     "name": "stderr",
     "output_type": "stream",
     "text": [
      "563\t0.941043\n"
     ]
    },
    {
     "name": "stdout",
     "output_type": "stream",
     "text": [
      "564\t0.944218\n"
     ]
    },
    {
     "name": "stderr",
     "output_type": "stream",
     "text": [
      "564\t0.944218\n"
     ]
    },
    {
     "name": "stdout",
     "output_type": "stream",
     "text": [
      "565\t0.944671\n"
     ]
    },
    {
     "name": "stderr",
     "output_type": "stream",
     "text": [
      "565\t0.944671\n"
     ]
    },
    {
     "name": "stdout",
     "output_type": "stream",
     "text": [
      "566\t0.944218\n"
     ]
    },
    {
     "name": "stderr",
     "output_type": "stream",
     "text": [
      "566\t0.944218\n"
     ]
    },
    {
     "name": "stdout",
     "output_type": "stream",
     "text": [
      "567\t0.942630\n"
     ]
    },
    {
     "name": "stderr",
     "output_type": "stream",
     "text": [
      "567\t0.942630\n"
     ]
    },
    {
     "name": "stdout",
     "output_type": "stream",
     "text": [
      "568\t0.941950\n"
     ]
    },
    {
     "name": "stderr",
     "output_type": "stream",
     "text": [
      "568\t0.941950\n"
     ]
    },
    {
     "name": "stdout",
     "output_type": "stream",
     "text": [
      "569\t0.942404\n"
     ]
    },
    {
     "name": "stderr",
     "output_type": "stream",
     "text": [
      "569\t0.942404\n"
     ]
    },
    {
     "name": "stdout",
     "output_type": "stream",
     "text": [
      "570\t0.942177\n"
     ]
    },
    {
     "name": "stderr",
     "output_type": "stream",
     "text": [
      "570\t0.942177\n"
     ]
    },
    {
     "name": "stdout",
     "output_type": "stream",
     "text": [
      "571\t0.942630\n"
     ]
    },
    {
     "name": "stderr",
     "output_type": "stream",
     "text": [
      "571\t0.942630\n"
     ]
    },
    {
     "name": "stdout",
     "output_type": "stream",
     "text": [
      "572\t0.940136\n"
     ]
    },
    {
     "name": "stderr",
     "output_type": "stream",
     "text": [
      "572\t0.940136\n"
     ]
    },
    {
     "name": "stdout",
     "output_type": "stream",
     "text": [
      "573\t0.942404\n"
     ]
    },
    {
     "name": "stderr",
     "output_type": "stream",
     "text": [
      "573\t0.942404\n"
     ]
    },
    {
     "name": "stdout",
     "output_type": "stream",
     "text": [
      "574\t0.943764\n"
     ]
    },
    {
     "name": "stderr",
     "output_type": "stream",
     "text": [
      "574\t0.943764\n"
     ]
    },
    {
     "name": "stdout",
     "output_type": "stream",
     "text": [
      "575\t0.943084\n"
     ]
    },
    {
     "name": "stderr",
     "output_type": "stream",
     "text": [
      "575\t0.943084\n"
     ]
    },
    {
     "name": "stdout",
     "output_type": "stream",
     "text": [
      "576\t0.944444\n"
     ]
    },
    {
     "name": "stderr",
     "output_type": "stream",
     "text": [
      "576\t0.944444\n"
     ]
    },
    {
     "name": "stdout",
     "output_type": "stream",
     "text": [
      "577\t0.943537\n"
     ]
    },
    {
     "name": "stderr",
     "output_type": "stream",
     "text": [
      "577\t0.943537\n"
     ]
    },
    {
     "name": "stdout",
     "output_type": "stream",
     "text": [
      "578\t0.946939\n"
     ]
    },
    {
     "name": "stderr",
     "output_type": "stream",
     "text": [
      "578\t0.946939\n"
     ]
    },
    {
     "name": "stdout",
     "output_type": "stream",
     "text": [
      "579\t0.946939\n"
     ]
    },
    {
     "name": "stderr",
     "output_type": "stream",
     "text": [
      "579\t0.946939\n"
     ]
    },
    {
     "name": "stdout",
     "output_type": "stream",
     "text": [
      "580\t0.948299\n"
     ]
    },
    {
     "name": "stderr",
     "output_type": "stream",
     "text": [
      "580\t0.948299\n"
     ]
    },
    {
     "name": "stdout",
     "output_type": "stream",
     "text": [
      "581\t0.948299\n"
     ]
    },
    {
     "name": "stderr",
     "output_type": "stream",
     "text": [
      "581\t0.948299\n"
     ]
    },
    {
     "name": "stdout",
     "output_type": "stream",
     "text": [
      "582\t0.949433\n"
     ]
    },
    {
     "name": "stderr",
     "output_type": "stream",
     "text": [
      "582\t0.949433\n"
     ]
    },
    {
     "name": "stdout",
     "output_type": "stream",
     "text": [
      "583\t0.949206\n"
     ]
    },
    {
     "name": "stderr",
     "output_type": "stream",
     "text": [
      "583\t0.949206\n"
     ]
    },
    {
     "name": "stdout",
     "output_type": "stream",
     "text": [
      "584\t0.949206\n"
     ]
    },
    {
     "name": "stderr",
     "output_type": "stream",
     "text": [
      "584\t0.949206\n"
     ]
    },
    {
     "name": "stdout",
     "output_type": "stream",
     "text": [
      "585\t0.949433\n"
     ]
    },
    {
     "name": "stderr",
     "output_type": "stream",
     "text": [
      "585\t0.949433\n"
     ]
    },
    {
     "name": "stdout",
     "output_type": "stream",
     "text": [
      "586\t0.948980\n"
     ]
    },
    {
     "name": "stderr",
     "output_type": "stream",
     "text": [
      "586\t0.948980\n"
     ]
    },
    {
     "name": "stdout",
     "output_type": "stream",
     "text": [
      "587\t0.948753\n"
     ]
    },
    {
     "name": "stderr",
     "output_type": "stream",
     "text": [
      "587\t0.948753\n"
     ]
    },
    {
     "name": "stdout",
     "output_type": "stream",
     "text": [
      "588\t0.948980\n"
     ]
    },
    {
     "name": "stderr",
     "output_type": "stream",
     "text": [
      "588\t0.948980\n"
     ]
    },
    {
     "name": "stdout",
     "output_type": "stream",
     "text": [
      "589\t0.948753\n"
     ]
    },
    {
     "name": "stderr",
     "output_type": "stream",
     "text": [
      "589\t0.948753\n"
     ]
    },
    {
     "name": "stdout",
     "output_type": "stream",
     "text": [
      "590\t0.948980\n"
     ]
    },
    {
     "name": "stderr",
     "output_type": "stream",
     "text": [
      "590\t0.948980\n"
     ]
    },
    {
     "name": "stdout",
     "output_type": "stream",
     "text": [
      "591\t0.948753\n"
     ]
    },
    {
     "name": "stderr",
     "output_type": "stream",
     "text": [
      "591\t0.948753\n"
     ]
    },
    {
     "name": "stdout",
     "output_type": "stream",
     "text": [
      "592\t0.949660\n"
     ]
    },
    {
     "name": "stderr",
     "output_type": "stream",
     "text": [
      "592\t0.949660\n"
     ]
    },
    {
     "name": "stdout",
     "output_type": "stream",
     "text": [
      "593\t0.949206\n"
     ]
    },
    {
     "name": "stderr",
     "output_type": "stream",
     "text": [
      "593\t0.949206\n"
     ]
    },
    {
     "name": "stdout",
     "output_type": "stream",
     "text": [
      "594\t0.949887\n"
     ]
    },
    {
     "name": "stderr",
     "output_type": "stream",
     "text": [
      "594\t0.949887\n"
     ]
    },
    {
     "name": "stdout",
     "output_type": "stream",
     "text": [
      "595\t0.949206\n"
     ]
    },
    {
     "name": "stderr",
     "output_type": "stream",
     "text": [
      "595\t0.949206\n"
     ]
    },
    {
     "name": "stdout",
     "output_type": "stream",
     "text": [
      "596\t0.949433\n"
     ]
    },
    {
     "name": "stderr",
     "output_type": "stream",
     "text": [
      "596\t0.949433\n"
     ]
    },
    {
     "name": "stdout",
     "output_type": "stream",
     "text": [
      "597\t0.949206\n"
     ]
    },
    {
     "name": "stderr",
     "output_type": "stream",
     "text": [
      "597\t0.949206\n"
     ]
    },
    {
     "name": "stdout",
     "output_type": "stream",
     "text": [
      "598\t0.949433\n"
     ]
    },
    {
     "name": "stderr",
     "output_type": "stream",
     "text": [
      "598\t0.949433\n"
     ]
    },
    {
     "name": "stdout",
     "output_type": "stream",
     "text": [
      "599\t0.949887\n"
     ]
    },
    {
     "name": "stderr",
     "output_type": "stream",
     "text": [
      "599\t0.949887\n"
     ]
    },
    {
     "name": "stdout",
     "output_type": "stream",
     "text": [
      "600\t0.950340\n"
     ]
    },
    {
     "name": "stderr",
     "output_type": "stream",
     "text": [
      "600\t0.950340\n"
     ]
    },
    {
     "name": "stdout",
     "output_type": "stream",
     "text": [
      "601\t0.949206\n"
     ]
    },
    {
     "name": "stderr",
     "output_type": "stream",
     "text": [
      "601\t0.949206\n"
     ]
    },
    {
     "name": "stdout",
     "output_type": "stream",
     "text": [
      "602\t0.949206\n"
     ]
    },
    {
     "name": "stderr",
     "output_type": "stream",
     "text": [
      "602\t0.949206\n"
     ]
    },
    {
     "name": "stdout",
     "output_type": "stream",
     "text": [
      "603\t0.949433\n"
     ]
    },
    {
     "name": "stderr",
     "output_type": "stream",
     "text": [
      "603\t0.949433\n"
     ]
    },
    {
     "name": "stdout",
     "output_type": "stream",
     "text": [
      "604\t0.949433\n"
     ]
    },
    {
     "name": "stderr",
     "output_type": "stream",
     "text": [
      "604\t0.949433\n"
     ]
    },
    {
     "name": "stdout",
     "output_type": "stream",
     "text": [
      "605\t0.949887\n"
     ]
    },
    {
     "name": "stderr",
     "output_type": "stream",
     "text": [
      "605\t0.949887\n"
     ]
    },
    {
     "name": "stdout",
     "output_type": "stream",
     "text": [
      "606\t0.948980\n"
     ]
    },
    {
     "name": "stderr",
     "output_type": "stream",
     "text": [
      "606\t0.948980\n"
     ]
    },
    {
     "name": "stdout",
     "output_type": "stream",
     "text": [
      "607\t0.948980\n"
     ]
    },
    {
     "name": "stderr",
     "output_type": "stream",
     "text": [
      "607\t0.948980\n"
     ]
    },
    {
     "name": "stdout",
     "output_type": "stream",
     "text": [
      "608\t0.948980\n"
     ]
    },
    {
     "name": "stderr",
     "output_type": "stream",
     "text": [
      "608\t0.948980\n"
     ]
    },
    {
     "name": "stdout",
     "output_type": "stream",
     "text": [
      "609\t0.948980\n"
     ]
    },
    {
     "name": "stderr",
     "output_type": "stream",
     "text": [
      "609\t0.948980\n"
     ]
    },
    {
     "name": "stdout",
     "output_type": "stream",
     "text": [
      "610\t0.948753\n"
     ]
    },
    {
     "name": "stderr",
     "output_type": "stream",
     "text": [
      "610\t0.948753\n"
     ]
    },
    {
     "name": "stdout",
     "output_type": "stream",
     "text": [
      "611\t0.949206\n"
     ]
    },
    {
     "name": "stderr",
     "output_type": "stream",
     "text": [
      "611\t0.949206\n"
     ]
    },
    {
     "name": "stdout",
     "output_type": "stream",
     "text": [
      "612\t0.949206\n"
     ]
    },
    {
     "name": "stderr",
     "output_type": "stream",
     "text": [
      "612\t0.949206\n"
     ]
    },
    {
     "name": "stdout",
     "output_type": "stream",
     "text": [
      "613\t0.949433\n"
     ]
    },
    {
     "name": "stderr",
     "output_type": "stream",
     "text": [
      "613\t0.949433\n"
     ]
    },
    {
     "name": "stdout",
     "output_type": "stream",
     "text": [
      "614\t0.948980\n"
     ]
    },
    {
     "name": "stderr",
     "output_type": "stream",
     "text": [
      "614\t0.948980\n"
     ]
    },
    {
     "name": "stdout",
     "output_type": "stream",
     "text": [
      "615\t0.948753\n"
     ]
    },
    {
     "name": "stderr",
     "output_type": "stream",
     "text": [
      "615\t0.948753\n"
     ]
    },
    {
     "name": "stdout",
     "output_type": "stream",
     "text": [
      "616\t0.948980\n"
     ]
    },
    {
     "name": "stderr",
     "output_type": "stream",
     "text": [
      "616\t0.948980\n"
     ]
    },
    {
     "name": "stdout",
     "output_type": "stream",
     "text": [
      "617\t0.947846\n"
     ]
    },
    {
     "name": "stderr",
     "output_type": "stream",
     "text": [
      "617\t0.947846\n"
     ]
    },
    {
     "name": "stdout",
     "output_type": "stream",
     "text": [
      "618\t0.948526\n"
     ]
    },
    {
     "name": "stderr",
     "output_type": "stream",
     "text": [
      "618\t0.948526\n"
     ]
    },
    {
     "name": "stdout",
     "output_type": "stream",
     "text": [
      "619\t0.948753\n"
     ]
    },
    {
     "name": "stderr",
     "output_type": "stream",
     "text": [
      "619\t0.948753\n"
     ]
    },
    {
     "name": "stdout",
     "output_type": "stream",
     "text": [
      "620\t0.948299\n"
     ]
    },
    {
     "name": "stderr",
     "output_type": "stream",
     "text": [
      "620\t0.948299\n"
     ]
    },
    {
     "name": "stdout",
     "output_type": "stream",
     "text": [
      "621\t0.948753\n"
     ]
    },
    {
     "name": "stderr",
     "output_type": "stream",
     "text": [
      "621\t0.948753\n"
     ]
    },
    {
     "name": "stdout",
     "output_type": "stream",
     "text": [
      "622\t0.948980\n"
     ]
    },
    {
     "name": "stderr",
     "output_type": "stream",
     "text": [
      "622\t0.948980\n"
     ]
    },
    {
     "name": "stdout",
     "output_type": "stream",
     "text": [
      "623\t0.950567\n"
     ]
    },
    {
     "name": "stderr",
     "output_type": "stream",
     "text": [
      "623\t0.950567\n"
     ]
    },
    {
     "name": "stdout",
     "output_type": "stream",
     "text": [
      "624\t0.950113\n"
     ]
    },
    {
     "name": "stderr",
     "output_type": "stream",
     "text": [
      "624\t0.950113\n"
     ]
    },
    {
     "name": "stdout",
     "output_type": "stream",
     "text": [
      "625\t0.949433\n"
     ]
    },
    {
     "name": "stderr",
     "output_type": "stream",
     "text": [
      "625\t0.949433\n"
     ]
    },
    {
     "name": "stdout",
     "output_type": "stream",
     "text": [
      "626\t0.948980\n"
     ]
    },
    {
     "name": "stderr",
     "output_type": "stream",
     "text": [
      "626\t0.948980\n"
     ]
    },
    {
     "name": "stdout",
     "output_type": "stream",
     "text": [
      "627\t0.948753\n"
     ]
    },
    {
     "name": "stderr",
     "output_type": "stream",
     "text": [
      "627\t0.948753\n"
     ]
    },
    {
     "name": "stdout",
     "output_type": "stream",
     "text": [
      "628\t0.948299\n"
     ]
    },
    {
     "name": "stderr",
     "output_type": "stream",
     "text": [
      "628\t0.948299\n"
     ]
    },
    {
     "name": "stdout",
     "output_type": "stream",
     "text": [
      "629\t0.948526\n"
     ]
    },
    {
     "name": "stderr",
     "output_type": "stream",
     "text": [
      "629\t0.948526\n"
     ]
    },
    {
     "name": "stdout",
     "output_type": "stream",
     "text": [
      "630\t0.948299\n"
     ]
    },
    {
     "name": "stderr",
     "output_type": "stream",
     "text": [
      "630\t0.948299\n"
     ]
    },
    {
     "name": "stdout",
     "output_type": "stream",
     "text": [
      "631\t0.947846\n"
     ]
    },
    {
     "name": "stderr",
     "output_type": "stream",
     "text": [
      "631\t0.947846\n"
     ]
    },
    {
     "name": "stdout",
     "output_type": "stream",
     "text": [
      "632\t0.947166\n"
     ]
    },
    {
     "name": "stderr",
     "output_type": "stream",
     "text": [
      "632\t0.947166\n"
     ]
    },
    {
     "name": "stdout",
     "output_type": "stream",
     "text": [
      "633\t0.948526\n"
     ]
    },
    {
     "name": "stderr",
     "output_type": "stream",
     "text": [
      "633\t0.948526\n"
     ]
    },
    {
     "name": "stdout",
     "output_type": "stream",
     "text": [
      "634\t0.947846\n"
     ]
    },
    {
     "name": "stderr",
     "output_type": "stream",
     "text": [
      "634\t0.947846\n"
     ]
    },
    {
     "name": "stdout",
     "output_type": "stream",
     "text": [
      "635\t0.948299\n"
     ]
    },
    {
     "name": "stderr",
     "output_type": "stream",
     "text": [
      "635\t0.948299\n"
     ]
    },
    {
     "name": "stdout",
     "output_type": "stream",
     "text": [
      "636\t0.948073\n"
     ]
    },
    {
     "name": "stderr",
     "output_type": "stream",
     "text": [
      "636\t0.948073\n"
     ]
    },
    {
     "name": "stdout",
     "output_type": "stream",
     "text": [
      "637\t0.948073\n"
     ]
    },
    {
     "name": "stderr",
     "output_type": "stream",
     "text": [
      "637\t0.948073\n"
     ]
    },
    {
     "name": "stdout",
     "output_type": "stream",
     "text": [
      "638\t0.948073\n"
     ]
    },
    {
     "name": "stderr",
     "output_type": "stream",
     "text": [
      "638\t0.948073\n"
     ]
    },
    {
     "name": "stdout",
     "output_type": "stream",
     "text": [
      "639\t0.948980\n"
     ]
    },
    {
     "name": "stderr",
     "output_type": "stream",
     "text": [
      "639\t0.948980\n"
     ]
    },
    {
     "name": "stdout",
     "output_type": "stream",
     "text": [
      "640\t0.948299\n"
     ]
    },
    {
     "name": "stderr",
     "output_type": "stream",
     "text": [
      "640\t0.948299\n"
     ]
    },
    {
     "name": "stdout",
     "output_type": "stream",
     "text": [
      "641\t0.948753\n"
     ]
    },
    {
     "name": "stderr",
     "output_type": "stream",
     "text": [
      "641\t0.948753\n"
     ]
    },
    {
     "name": "stdout",
     "output_type": "stream",
     "text": [
      "642\t0.946485\n"
     ]
    },
    {
     "name": "stderr",
     "output_type": "stream",
     "text": [
      "642\t0.946485\n"
     ]
    },
    {
     "name": "stdout",
     "output_type": "stream",
     "text": [
      "643\t0.946259\n"
     ]
    },
    {
     "name": "stderr",
     "output_type": "stream",
     "text": [
      "643\t0.946259\n"
     ]
    },
    {
     "name": "stdout",
     "output_type": "stream",
     "text": [
      "644\t0.946712\n"
     ]
    },
    {
     "name": "stderr",
     "output_type": "stream",
     "text": [
      "644\t0.946712\n"
     ]
    },
    {
     "name": "stdout",
     "output_type": "stream",
     "text": [
      "645\t0.946712\n"
     ]
    },
    {
     "name": "stderr",
     "output_type": "stream",
     "text": [
      "645\t0.946712\n"
     ]
    },
    {
     "name": "stdout",
     "output_type": "stream",
     "text": [
      "646\t0.946939\n"
     ]
    },
    {
     "name": "stderr",
     "output_type": "stream",
     "text": [
      "646\t0.946939\n"
     ]
    },
    {
     "name": "stdout",
     "output_type": "stream",
     "text": [
      "647\t0.947392\n"
     ]
    },
    {
     "name": "stderr",
     "output_type": "stream",
     "text": [
      "647\t0.947392\n"
     ]
    },
    {
     "name": "stdout",
     "output_type": "stream",
     "text": [
      "648\t0.947846\n"
     ]
    },
    {
     "name": "stderr",
     "output_type": "stream",
     "text": [
      "648\t0.947846\n"
     ]
    },
    {
     "name": "stdout",
     "output_type": "stream",
     "text": [
      "649\t0.947166\n"
     ]
    },
    {
     "name": "stderr",
     "output_type": "stream",
     "text": [
      "649\t0.947166\n"
     ]
    },
    {
     "name": "stdout",
     "output_type": "stream",
     "text": [
      "650\t0.948073\n"
     ]
    },
    {
     "name": "stderr",
     "output_type": "stream",
     "text": [
      "650\t0.948073\n"
     ]
    },
    {
     "name": "stdout",
     "output_type": "stream",
     "text": [
      "651\t0.945125\n"
     ]
    },
    {
     "name": "stderr",
     "output_type": "stream",
     "text": [
      "651\t0.945125\n"
     ]
    },
    {
     "name": "stdout",
     "output_type": "stream",
     "text": [
      "652\t0.943764\n"
     ]
    },
    {
     "name": "stderr",
     "output_type": "stream",
     "text": [
      "652\t0.943764\n"
     ]
    },
    {
     "name": "stdout",
     "output_type": "stream",
     "text": [
      "653\t0.944898\n"
     ]
    },
    {
     "name": "stderr",
     "output_type": "stream",
     "text": [
      "653\t0.944898\n"
     ]
    },
    {
     "name": "stdout",
     "output_type": "stream",
     "text": [
      "654\t0.944671\n"
     ]
    },
    {
     "name": "stderr",
     "output_type": "stream",
     "text": [
      "654\t0.944671\n"
     ]
    },
    {
     "name": "stdout",
     "output_type": "stream",
     "text": [
      "655\t0.945805\n"
     ]
    },
    {
     "name": "stderr",
     "output_type": "stream",
     "text": [
      "655\t0.945805\n"
     ]
    },
    {
     "name": "stdout",
     "output_type": "stream",
     "text": [
      "656\t0.946032\n"
     ]
    },
    {
     "name": "stderr",
     "output_type": "stream",
     "text": [
      "656\t0.946032\n"
     ]
    },
    {
     "name": "stdout",
     "output_type": "stream",
     "text": [
      "657\t0.945351\n"
     ]
    },
    {
     "name": "stderr",
     "output_type": "stream",
     "text": [
      "657\t0.945351\n"
     ]
    },
    {
     "name": "stdout",
     "output_type": "stream",
     "text": [
      "658\t0.946032\n"
     ]
    },
    {
     "name": "stderr",
     "output_type": "stream",
     "text": [
      "658\t0.946032\n"
     ]
    },
    {
     "name": "stdout",
     "output_type": "stream",
     "text": [
      "659\t0.945805\n"
     ]
    },
    {
     "name": "stderr",
     "output_type": "stream",
     "text": [
      "659\t0.945805\n"
     ]
    },
    {
     "name": "stdout",
     "output_type": "stream",
     "text": [
      "660\t0.946485\n"
     ]
    },
    {
     "name": "stderr",
     "output_type": "stream",
     "text": [
      "660\t0.946485\n"
     ]
    },
    {
     "name": "stdout",
     "output_type": "stream",
     "text": [
      "661\t0.945578\n"
     ]
    },
    {
     "name": "stderr",
     "output_type": "stream",
     "text": [
      "661\t0.945578\n"
     ]
    },
    {
     "name": "stdout",
     "output_type": "stream",
     "text": [
      "662\t0.946032\n"
     ]
    },
    {
     "name": "stderr",
     "output_type": "stream",
     "text": [
      "662\t0.946032\n"
     ]
    },
    {
     "name": "stdout",
     "output_type": "stream",
     "text": [
      "663\t0.946485\n"
     ]
    },
    {
     "name": "stderr",
     "output_type": "stream",
     "text": [
      "663\t0.946485\n"
     ]
    },
    {
     "name": "stdout",
     "output_type": "stream",
     "text": [
      "664\t0.946485\n"
     ]
    },
    {
     "name": "stderr",
     "output_type": "stream",
     "text": [
      "664\t0.946485\n"
     ]
    },
    {
     "name": "stdout",
     "output_type": "stream",
     "text": [
      "665\t0.946485\n"
     ]
    },
    {
     "name": "stderr",
     "output_type": "stream",
     "text": [
      "665\t0.946485\n"
     ]
    },
    {
     "name": "stdout",
     "output_type": "stream",
     "text": [
      "666\t0.946939\n"
     ]
    },
    {
     "name": "stderr",
     "output_type": "stream",
     "text": [
      "666\t0.946939\n"
     ]
    },
    {
     "name": "stdout",
     "output_type": "stream",
     "text": [
      "667\t0.946259\n"
     ]
    },
    {
     "name": "stderr",
     "output_type": "stream",
     "text": [
      "667\t0.946259\n"
     ]
    },
    {
     "name": "stdout",
     "output_type": "stream",
     "text": [
      "668\t0.946485\n"
     ]
    },
    {
     "name": "stderr",
     "output_type": "stream",
     "text": [
      "668\t0.946485\n"
     ]
    },
    {
     "name": "stdout",
     "output_type": "stream",
     "text": [
      "669\t0.946485\n"
     ]
    },
    {
     "name": "stderr",
     "output_type": "stream",
     "text": [
      "669\t0.946485\n"
     ]
    },
    {
     "name": "stdout",
     "output_type": "stream",
     "text": [
      "670\t0.946485\n"
     ]
    },
    {
     "name": "stderr",
     "output_type": "stream",
     "text": [
      "670\t0.946485\n"
     ]
    },
    {
     "name": "stdout",
     "output_type": "stream",
     "text": [
      "671\t0.946712\n"
     ]
    },
    {
     "name": "stderr",
     "output_type": "stream",
     "text": [
      "671\t0.946712\n"
     ]
    },
    {
     "name": "stdout",
     "output_type": "stream",
     "text": [
      "672\t0.946485\n"
     ]
    },
    {
     "name": "stderr",
     "output_type": "stream",
     "text": [
      "672\t0.946485\n"
     ]
    },
    {
     "name": "stdout",
     "output_type": "stream",
     "text": [
      "673\t0.946032\n"
     ]
    },
    {
     "name": "stderr",
     "output_type": "stream",
     "text": [
      "673\t0.946032\n"
     ]
    },
    {
     "name": "stdout",
     "output_type": "stream",
     "text": [
      "674\t0.945351\n"
     ]
    },
    {
     "name": "stderr",
     "output_type": "stream",
     "text": [
      "674\t0.945351\n"
     ]
    },
    {
     "name": "stdout",
     "output_type": "stream",
     "text": [
      "675\t0.945805\n"
     ]
    },
    {
     "name": "stderr",
     "output_type": "stream",
     "text": [
      "675\t0.945805\n"
     ]
    },
    {
     "name": "stdout",
     "output_type": "stream",
     "text": [
      "676\t0.945578\n"
     ]
    },
    {
     "name": "stderr",
     "output_type": "stream",
     "text": [
      "676\t0.945578\n"
     ]
    },
    {
     "name": "stdout",
     "output_type": "stream",
     "text": [
      "677\t0.945351\n"
     ]
    },
    {
     "name": "stderr",
     "output_type": "stream",
     "text": [
      "677\t0.945351\n"
     ]
    },
    {
     "name": "stdout",
     "output_type": "stream",
     "text": [
      "678\t0.946939\n"
     ]
    },
    {
     "name": "stderr",
     "output_type": "stream",
     "text": [
      "678\t0.946939\n"
     ]
    },
    {
     "name": "stdout",
     "output_type": "stream",
     "text": [
      "679\t0.945578\n"
     ]
    },
    {
     "name": "stderr",
     "output_type": "stream",
     "text": [
      "679\t0.945578\n"
     ]
    },
    {
     "name": "stdout",
     "output_type": "stream",
     "text": [
      "680\t0.946032\n"
     ]
    },
    {
     "name": "stderr",
     "output_type": "stream",
     "text": [
      "680\t0.946032\n"
     ]
    },
    {
     "name": "stdout",
     "output_type": "stream",
     "text": [
      "681\t0.946712\n"
     ]
    },
    {
     "name": "stderr",
     "output_type": "stream",
     "text": [
      "681\t0.946712\n"
     ]
    },
    {
     "name": "stdout",
     "output_type": "stream",
     "text": [
      "682\t0.946032\n"
     ]
    },
    {
     "name": "stderr",
     "output_type": "stream",
     "text": [
      "682\t0.946032\n"
     ]
    },
    {
     "name": "stdout",
     "output_type": "stream",
     "text": [
      "683\t0.945578\n"
     ]
    },
    {
     "name": "stderr",
     "output_type": "stream",
     "text": [
      "683\t0.945578\n"
     ]
    },
    {
     "name": "stdout",
     "output_type": "stream",
     "text": [
      "684\t0.945125\n"
     ]
    },
    {
     "name": "stderr",
     "output_type": "stream",
     "text": [
      "684\t0.945125\n"
     ]
    },
    {
     "name": "stdout",
     "output_type": "stream",
     "text": [
      "685\t0.944671\n"
     ]
    },
    {
     "name": "stderr",
     "output_type": "stream",
     "text": [
      "685\t0.944671\n"
     ]
    },
    {
     "name": "stdout",
     "output_type": "stream",
     "text": [
      "686\t0.946485\n"
     ]
    },
    {
     "name": "stderr",
     "output_type": "stream",
     "text": [
      "686\t0.946485\n"
     ]
    },
    {
     "name": "stdout",
     "output_type": "stream",
     "text": [
      "687\t0.945578\n"
     ]
    },
    {
     "name": "stderr",
     "output_type": "stream",
     "text": [
      "687\t0.945578\n"
     ]
    },
    {
     "name": "stdout",
     "output_type": "stream",
     "text": [
      "688\t0.944898\n"
     ]
    },
    {
     "name": "stderr",
     "output_type": "stream",
     "text": [
      "688\t0.944898\n"
     ]
    },
    {
     "name": "stdout",
     "output_type": "stream",
     "text": [
      "689\t0.945125\n"
     ]
    },
    {
     "name": "stderr",
     "output_type": "stream",
     "text": [
      "689\t0.945125\n"
     ]
    },
    {
     "name": "stdout",
     "output_type": "stream",
     "text": [
      "690\t0.945578\n"
     ]
    },
    {
     "name": "stderr",
     "output_type": "stream",
     "text": [
      "690\t0.945578\n"
     ]
    },
    {
     "name": "stdout",
     "output_type": "stream",
     "text": [
      "691\t0.944898\n"
     ]
    },
    {
     "name": "stderr",
     "output_type": "stream",
     "text": [
      "691\t0.944898\n"
     ]
    },
    {
     "name": "stdout",
     "output_type": "stream",
     "text": [
      "692\t0.946939\n"
     ]
    },
    {
     "name": "stderr",
     "output_type": "stream",
     "text": [
      "692\t0.946939\n"
     ]
    },
    {
     "name": "stdout",
     "output_type": "stream",
     "text": [
      "693\t0.945351\n"
     ]
    },
    {
     "name": "stderr",
     "output_type": "stream",
     "text": [
      "693\t0.945351\n"
     ]
    },
    {
     "name": "stdout",
     "output_type": "stream",
     "text": [
      "694\t0.945805\n"
     ]
    },
    {
     "name": "stderr",
     "output_type": "stream",
     "text": [
      "694\t0.945805\n"
     ]
    },
    {
     "name": "stdout",
     "output_type": "stream",
     "text": [
      "695\t0.944898\n"
     ]
    },
    {
     "name": "stderr",
     "output_type": "stream",
     "text": [
      "695\t0.944898\n"
     ]
    },
    {
     "name": "stdout",
     "output_type": "stream",
     "text": [
      "696\t0.945125\n"
     ]
    },
    {
     "name": "stderr",
     "output_type": "stream",
     "text": [
      "696\t0.945125\n"
     ]
    },
    {
     "name": "stdout",
     "output_type": "stream",
     "text": [
      "697\t0.946485\n"
     ]
    },
    {
     "name": "stderr",
     "output_type": "stream",
     "text": [
      "697\t0.946485\n"
     ]
    },
    {
     "name": "stdout",
     "output_type": "stream",
     "text": [
      "698\t0.946939\n"
     ]
    },
    {
     "name": "stderr",
     "output_type": "stream",
     "text": [
      "698\t0.946939\n"
     ]
    },
    {
     "name": "stdout",
     "output_type": "stream",
     "text": [
      "699\t0.946032\n"
     ]
    },
    {
     "name": "stderr",
     "output_type": "stream",
     "text": [
      "699\t0.946032\n"
     ]
    },
    {
     "name": "stdout",
     "output_type": "stream",
     "text": [
      "700\t0.940590\n"
     ]
    },
    {
     "name": "stderr",
     "output_type": "stream",
     "text": [
      "700\t0.940590\n"
     ]
    },
    {
     "name": "stdout",
     "output_type": "stream",
     "text": [
      "Model saved as traffic_sign_classifier_model-E700-B256-R0.000125-C3-L1D24\n"
     ]
    }
   ],
   "source": [
    "### Train your model here.\n",
    "import numpy as np\n",
    "\n",
    "def debug_to_gray(x):\n",
    "    \"For some experiments converted colour image to greyscale\"\n",
    "    gray_array = []\n",
    "    for i in range(len(x)):\n",
    "        rgb_image = x[i]\n",
    "        gray_image = np.dot(rgb_image, [0.299,0.587,0.114]).reshape((32,32,1))\n",
    "        x[i] = gray_image\n",
    "        gray_array.append(gray_image)\n",
    "    return gray_array\n",
    "        \n",
    "def debug_limit_classes(x_set, y_set, max_classes):\n",
    "    \"Restrict to a smaller number of classes to make training easier during debugging\"\n",
    "    limited_x = []\n",
    "    limited_y = []\n",
    "    for x,y in zip(x_set, y_set):\n",
    "        if y < max_classes:\n",
    "            limited_x.append(x)\n",
    "            limited_y.append(y)\n",
    "    return limited_x, limited_y\n",
    "\n",
    "\n",
    "# Start by loading previously normalised data\n",
    "import pickle\n",
    "\n",
    "print(\"Retrieving normalised data from file...\")\n",
    "with open(\"normalised_data.p\", mode='rb') as f:\n",
    "    x_train_norm = pickle.load(f)\n",
    "    y_train      = pickle.load(f)\n",
    "    x_valid_norm = pickle.load(f)\n",
    "    y_valid      = pickle.load(f)\n",
    "    x_test_norm  = pickle.load(f)\n",
    "    y_test       = pickle.load(f)\n",
    "print(\"... data loaded.\")\n",
    "\n",
    "##############################################\n",
    "#  Hyperparameters\n",
    "num_colours = 3  # 1 greyscale, 3 colour\n",
    "EPOCHS = 700\n",
    "BATCH_SIZE = 256\n",
    "# rate = 0.0003 # now experimenting with dynamic learning rate\n",
    "layer1_depth=24 # LeNet was 6, experimenting\n",
    "##############################################\n",
    "\n",
    "if num_colours < 3:\n",
    "    x_train_norm = debug_to_gray(x_train_norm)\n",
    "    x_valid_norm = debug_to_gray(x_valid_norm)\n",
    "    x_test_norm = debug_to_gray(x_test_norm)\n",
    "\n",
    "# During debug experiments, cut down number of classes to reduce dataset size\n",
    "#debug_limit_max_classes = 5\n",
    "#x_train_norm, y_train = debug_limit_classes(x_train_norm, y_train, debug_limit_max_classes)\n",
    "#x_valid_norm, y_valid = debug_limit_classes(x_valid_norm, y_valid, debug_limit_max_classes)\n",
    "#x_test_norm, y_test = debug_limit_classes(x_test_norm, y_test, debug_limit_max_classes)\n",
    "\n",
    "# shuffle as per LeNet exercise\n",
    "from sklearn.utils import shuffle\n",
    "x_train, y_train = shuffle(x_train_norm, y_train)\n",
    "\n",
    "# Find range of class label numbers so we can map them to a one-hot vector;\n",
    "# in the initial data analysis, we already checked that all of the labels\n",
    "# occur in the training set\n",
    "y_min = np.min(y_train)\n",
    "y_max = np.max(y_train)\n",
    "num_classes = y_max - y_min + 1\n",
    "print(\"num_classes = \" + str(num_classes))\n",
    "\n",
    "\n",
    "import tensorflow as tf\n",
    "import sys\n",
    "\n",
    "#CW define placeholders for input training data\n",
    "x = tf.placeholder(tf.float32, (None, 32, 32, num_colours), name='x')\n",
    "y = tf.placeholder(tf.int32, (None), name='y')\n",
    "\n",
    "# Now using dynamic learning rate -- start relatively quick, progressively slow down for better convergence\n",
    "dynamic_rate = tf.placeholder(tf.float32, (None), name='dynamic_rate')\n",
    "\n",
    "#CW map output class numbers to one-hot encoded vector\n",
    "one_hot_y = tf.one_hot(y, num_classes, name='one_hot_y')\n",
    "\n",
    "# Training pipeline from LeNet lab\n",
    "logits = LeNet(x, num_classes, num_colours, layer1_depth)\n",
    "\n",
    "cross_entropy = tf.nn.softmax_cross_entropy_with_logits(labels=one_hot_y, logits=logits, name='cross_entropy')\n",
    "loss_operation = tf.reduce_mean(cross_entropy, name='loss_operation')\n",
    "optimizer = tf.train.AdamOptimizer(learning_rate = dynamic_rate, name='optimizer')\n",
    "training_operation = optimizer.minimize(loss_operation, name='training_operation')\n",
    "\n",
    "# evaluation from LeNet\n",
    "correct_prediction = tf.equal(tf.argmax(logits, 1), tf.argmax(one_hot_y, 1), name='correct_prediction')\n",
    "accuracy_operation = tf.reduce_mean(tf.cast(correct_prediction, tf.float32), name='accuracy_operation')\n",
    "saver = tf.train.Saver()\n",
    "\n",
    "\n",
    "### Calculate and report the accuracy on the training and validation set.\n",
    "\n",
    "with tf.Session() as sess:\n",
    "    sess.run(tf.global_variables_initializer())\n",
    "    num_examples = len(x_train)\n",
    "    \n",
    "    print(\"Training with EPOCHS=%d BATCH_SIZE=%d rate=<dynamic> num_colours=%d layer1 depth=%d\" % (EPOCHS, BATCH_SIZE, num_colours, layer1_depth))\n",
    "    print()\n",
    "    # tab-delimited file headings for easy Excel import\n",
    "    print(\"Epochs\\tValidation Accuracy\")\n",
    "\n",
    "    for epoch_idx in range(EPOCHS):\n",
    "        x_train, y_train = shuffle(x_train, y_train)\n",
    "        for offset in range(0, num_examples, BATCH_SIZE):\n",
    "            end = offset + BATCH_SIZE\n",
    "            batch_x, batch_y = x_train[offset:end], y_train[offset:end]\n",
    "            rate = 0.1 / (epoch_idx + 100) # start fast, slow down to get better ultimate convergence\n",
    "            (to, lo, ohy) = sess.run((training_operation, logits, one_hot_y), feed_dict={x: batch_x, y: batch_y, dynamic_rate: rate})\n",
    "            # logits and one-hot y were also extracted there for debugging\n",
    "            \n",
    "        validation_accuracy = evaluate(sess, accuracy_operation, x_valid_norm, y_valid)\n",
    "        # Output results in tab-delimited format to make import into Excel easier\n",
    "        report_str = \"%d\\t%f\" % ((epoch_idx+1), validation_accuracy)\n",
    "        # writing to stdout (so I could redirect to file for import into Excel when running on command line)\n",
    "        # and stderr (so I could see progress at the same time)\n",
    "        print(report_str)\n",
    "        sys.stderr.write(report_str + \"\\n\")\n",
    "        \n",
    "    # Encode hyperparameters in model filename so we can keep resulting model from different experiments\n",
    "    # and then go back and use best one in final testing\n",
    "    save_filename = 'traffic_sign_classifier_model-E%d-B%d-R%f-C%d-L1D%d' % (EPOCHS, BATCH_SIZE, rate, num_colours, layer1_depth)\n",
    "    saver.save(sess, './' + save_filename)\n",
    "    print(\"Model saved as \" + save_filename)"
   ]
  },
  {
   "cell_type": "code",
   "execution_count": 4,
   "metadata": {},
   "outputs": [
    {
     "name": "stdout",
     "output_type": "stream",
     "text": [
      "Retrieving normalised data from file...\n",
      "... data loaded.\n",
      "INFO:tensorflow:Restoring parameters from traffic_sign_classifier_model-E1000-B256-R0.000091-C3-L1D24\n",
      "Test Accuracy = 0.935\n"
     ]
    }
   ],
   "source": [
    "### Once a final model architecture is selected, \n",
    "### the accuracy on the test set should be calculated and reported as well.\n",
    "### Feel free to use as many code cells as needed.\n",
    "\n",
    "# Had huge problems with TensorFlow save/restore not working correctly here in Jupyter notebook, but\n",
    "# working fine when identical code executed as a standalone script on the command line. Sometimes worked\n",
    "# just once after kernel restart; also tried this reset command to clear all variables/func defs but\n",
    "# didn't seem to help. Never really solved it.\n",
    "# %reset -f\n",
    "\n",
    "# Start by loading previously normalised data\n",
    "import pickle\n",
    "\n",
    "print(\"Retrieving normalised data from file...\")\n",
    "with open(\"normalised_data.p\", mode='rb') as f:\n",
    "    x_train_norm = pickle.load(f)\n",
    "    y_train      = pickle.load(f)\n",
    "    x_valid_norm = pickle.load(f)\n",
    "    y_valid      = pickle.load(f)\n",
    "    x_test_norm  = pickle.load(f)\n",
    "    y_test       = pickle.load(f)\n",
    "print(\"... data loaded.\")\n",
    "\n",
    "import tensorflow as tf\n",
    "\n",
    "# Started with evaluation section code fragment from LeNet lab\n",
    "\n",
    "# Using best run-time parameters from previous experiments\n",
    "num_colours = 3 # therefore no conversion to greyscale needed\n",
    "layer1_depth = 24 # was not very sensitive to this so long as >>6 as per LeNet\n",
    "num_classes = 43 # slight cheat to avoid restructuring and rerunning previous code above\n",
    "BATCH_SIZE = 256 # should not have any effect on testing, we are not training any more\n",
    "\n",
    "\n",
    "\n",
    "\n",
    "new_graph = tf.Graph()\n",
    "with tf.Session(graph=new_graph) as sess:\n",
    "\n",
    "    # https://stackoverflow.com/questions/33759623/tensorflow-how-to-save-restore-a-model\n",
    "    # Restore the best model obtained during experiments\n",
    "    # reload debug: traffic_sign_classifier_model-E1-B256-R0.001000-C3-L1D24\n",
    "    # best: traffic_sign_classifier_model-E1000-B256-R0.000091-C3-L1D24\n",
    "    # later rerun: traffic_sign_classifier_model-E700-B256-R0.000125-C3-L1D24\n",
    "    model_name = 'traffic_sign_classifier_model-E700-B256-R0.000125-C3-L1D24'\n",
    "    saver = tf.train.import_meta_graph(model_name + '.meta')\n",
    "    saver.restore(sess, model_name)\n",
    "\n",
    "    graph = tf.get_default_graph()\n",
    "    x = graph.get_tensor_by_name(\"x:0\")\n",
    "    y = graph.get_tensor_by_name(\"y:0\")\n",
    "    accuracy_operation = graph.get_tensor_by_name(\"accuracy_operation:0\")\n",
    "    test_accuracy = evaluate(sess, accuracy_operation, x_test_norm, y_test)\n",
    "    print(\"Test Accuracy = {:.3f}\".format(test_accuracy))"
   ]
  },
  {
   "cell_type": "markdown",
   "metadata": {},
   "source": [
    "---\n",
    "\n",
    "## Step 3: Test a Model on New Images\n",
    "\n",
    "To give yourself more insight into how your model is working, download at least five pictures of German traffic signs from the web and use your model to predict the traffic sign type.\n",
    "\n",
    "You may find `signnames.csv` useful as it contains mappings from the class id (integer) to the actual sign name."
   ]
  },
  {
   "cell_type": "markdown",
   "metadata": {},
   "source": [
    "### Load and Output the Images"
   ]
  },
  {
   "cell_type": "code",
   "execution_count": 2,
   "metadata": {},
   "outputs": [
    {
     "name": "stdout",
     "output_type": "stream",
     "text": [
      "Loading internet test images from disk...\n",
      "... 6 images loaded.\n",
      "43 class descriptions loaded\n"
     ]
    }
   ],
   "source": [
    "### Load the images and plot them here.\n",
    "### Feel free to use as many code cells as needed.\n",
    "\n",
    "import os\n",
    "import matplotlib.image as mpimg\n",
    "\n",
    "# Read in all images from here:\n",
    "images_input_dir = \"./signs_from_internet\"\n",
    "\n",
    "# Iterate over images, processing each one\n",
    "image_filenames = os.listdir(images_input_dir)\n",
    "internet_images = []\n",
    "correct_internet_classes = []\n",
    "internet_filenames = []\n",
    "\n",
    "print (\"Loading internet test images from disk...\")\n",
    "for image_filename in image_filenames:\n",
    "    \n",
    "    if image_filename.lower().endswith(\".jpg\"):\n",
    "        # Read image from disk\n",
    "        internet_filenames.append(image_filename)\n",
    "        raw_path = os.path.join(images_input_dir, image_filename)\n",
    "        raw_image = mpimg.imread(raw_path)\n",
    "        internet_images.append(raw_image)\n",
    "        \n",
    "        # Each image is named with the correct class in decimal as a prefix,\n",
    "        # e.g. \"23-resized_slippery.jpg\" is a slippery road caution which\n",
    "        # has a correct category of 23 according to signnames.csv. We\n",
    "        # record those class ID numbers so we can assess accuracy later\n",
    "        # in a systematic fashion.\n",
    "        name_parts = image_filename.split('-')\n",
    "        class_id = int(name_parts[0])\n",
    "        correct_internet_classes.append(class_id)\n",
    "\n",
    "print (\"... %d images loaded.\" % len(internet_images))\n",
    "\n",
    "# Load names of classes so they can be reported more intelligibly\n",
    "import pandas\n",
    "classes_descriptions_dataframe = pandas.read_csv(\"signnames.csv\")\n",
    "class_descriptions = []\n",
    "for index, row in classes_descriptions_dataframe.iterrows():\n",
    "    class_descriptions.append(row['SignName'])\n",
    "print(\"%d class descriptions loaded\" % len(class_descriptions))"
   ]
  },
  {
   "cell_type": "markdown",
   "metadata": {},
   "source": [
    "### Predict the Sign Type for Each Image"
   ]
  },
  {
   "cell_type": "code",
   "execution_count": 3,
   "metadata": {},
   "outputs": [
    {
     "name": "stdout",
     "output_type": "stream",
     "text": [
      "Normalising images...\n",
      "... 6 images normalised.\n",
      "INFO:tensorflow:Restoring parameters from traffic_sign_classifier_model-E700-B256-R0.000125-C3-L1D18\n",
      "Running model to classify images...\n",
      "... model run complete.\n"
     ]
    }
   ],
   "source": [
    "### Run the predictions here and use the model to output the prediction for each image.\n",
    "### Make sure to pre-process the images with the same pre-processing pipeline used earlier.\n",
    "### Feel free to use as many code cells as needed.\n",
    "print(\"Normalising images...\")\n",
    "processed_internet_images = normalise_image_set(internet_images)\n",
    "print(\"... %d images normalised.\" % len(processed_internet_images))\n",
    "\n",
    "\n",
    "import tensorflow as tf\n",
    "\n",
    "# Started with evaluation section code fragment from LeNet lab\n",
    "\n",
    "# Using best run-time parameters from previous experiments\n",
    "num_colours = 3 # therefore no conversion to greyscale needed\n",
    "layer1_depth = 24 # was not very sensitive to this so long as >>6 as per LeNet\n",
    "num_classes = 43 # slight cheat to avoid restructuring and rerunning previous code above\n",
    "BATCH_SIZE = 256 # should not have any effect on testing, we are not training any more\n",
    "\n",
    "new_graph = tf.Graph()\n",
    "with tf.Session(graph=new_graph) as sess:\n",
    "\n",
    "    # https://stackoverflow.com/questions/33759623/tensorflow-how-to-save-restore-a-model\n",
    "    # Restore the best model obtained during experiments\n",
    "    # reload debug: traffic_sign_classifier_model-E1-B256-R0.001000-C3-L1D24\n",
    "    # best: traffic_sign_classifier_model-E1000-B256-R0.000091-C3-L1D24\n",
    "    # another run: traffic_sign_classifier_model-E700-B256-R0.000125-C3-L1D24\n",
    "    # another run: traffic_sign_classifier_model-E700-B256-R0.000125-C3-L1D18\n",
    "    model_name = 'traffic_sign_classifier_model-E700-B256-R0.000125-C3-L1D18'\n",
    "    saver = tf.train.import_meta_graph(model_name + '.meta')\n",
    "    saver.restore(sess, model_name)\n",
    "\n",
    "    graph = tf.get_default_graph()\n",
    "    x = graph.get_tensor_by_name(\"x:0\")\n",
    "    y = graph.get_tensor_by_name(\"y:0\")\n",
    "    logits = graph.get_tensor_by_name(\"logits:0\")\n",
    "    accuracy_operation = graph.get_tensor_by_name(\"accuracy_operation:0\")\n",
    "    print(\"Running model to classify images...\")\n",
    "    # Note: saving softmax logits for later display of top matches\n",
    "    logits_out,accuracy_out = sess.run((logits,accuracy_operation), feed_dict={x: processed_internet_images, y: correct_internet_classes})\n",
    "    print(\"... model run complete.\")"
   ]
  },
  {
   "cell_type": "markdown",
   "metadata": {},
   "source": [
    "### Analyze Performance"
   ]
  },
  {
   "cell_type": "code",
   "execution_count": 4,
   "metadata": {},
   "outputs": [
    {
     "name": "stdout",
     "output_type": "stream",
     "text": [
      "Final test accuracy on 6 internet images = 1.000\n",
      "6 out of 6 correctly classified\n"
     ]
    }
   ],
   "source": [
    "### Calculate the accuracy for these 5 new images. \n",
    "num_internet = len(processed_internet_images)\n",
    "print(\"Final test accuracy on %d internet images = %.3f\" % (num_internet, accuracy_out))\n",
    "num_correct = int(accuracy_out * num_internet + 0.5) # float to int rounding\n",
    "print(\"%d out of %d correctly classified\" % (num_correct, num_internet))\n",
    "\n",
    "\n",
    "### For example, if the model predicted 1 out of 5 signs correctly, it's 20% accurate on these new images."
   ]
  },
  {
   "cell_type": "markdown",
   "metadata": {},
   "source": [
    "### Output Top 5 Softmax Probabilities For Each Image Found on the Web"
   ]
  },
  {
   "cell_type": "markdown",
   "metadata": {},
   "source": [
    "For each of the new images, print out the model's softmax probabilities to show the **certainty** of the model's predictions (limit the output to the top 5 probabilities for each image). [`tf.nn.top_k`](https://www.tensorflow.org/versions/r0.12/api_docs/python/nn.html#top_k) could prove helpful here. \n",
    "\n",
    "The example below demonstrates how tf.nn.top_k can be used to find the top k predictions for each image.\n",
    "\n",
    "`tf.nn.top_k` will return the values and indices (class ids) of the top k predictions. So if k=3, for each sign, it'll return the 3 largest probabilities (out of a possible 43) and the correspoding class ids.\n",
    "\n",
    "Take this numpy array as an example. The values in the array represent predictions. The array contains softmax probabilities for five candidate images with six possible classes. `tk.nn.top_k` is used to choose the three classes with the highest probability:\n",
    "\n",
    "```\n",
    "# (5, 6) array\n",
    "a = np.array([[ 0.24879643,  0.07032244,  0.12641572,  0.34763842,  0.07893497,\n",
    "         0.12789202],\n",
    "       [ 0.28086119,  0.27569815,  0.08594638,  0.0178669 ,  0.18063401,\n",
    "         0.15899337],\n",
    "       [ 0.26076848,  0.23664738,  0.08020603,  0.07001922,  0.1134371 ,\n",
    "         0.23892179],\n",
    "       [ 0.11943333,  0.29198961,  0.02605103,  0.26234032,  0.1351348 ,\n",
    "         0.16505091],\n",
    "       [ 0.09561176,  0.34396535,  0.0643941 ,  0.16240774,  0.24206137,\n",
    "         0.09155967]])\n",
    "```\n",
    "\n",
    "Running it through `sess.run(tf.nn.top_k(tf.constant(a), k=3))` produces:\n",
    "\n",
    "```\n",
    "TopKV2(values=array([[ 0.34763842,  0.24879643,  0.12789202],\n",
    "       [ 0.28086119,  0.27569815,  0.18063401],\n",
    "       [ 0.26076848,  0.23892179,  0.23664738],\n",
    "       [ 0.29198961,  0.26234032,  0.16505091],\n",
    "       [ 0.34396535,  0.24206137,  0.16240774]]), indices=array([[3, 0, 5],\n",
    "       [0, 1, 4],\n",
    "       [0, 5, 1],\n",
    "       [1, 3, 5],\n",
    "       [1, 4, 3]], dtype=int32))\n",
    "```\n",
    "\n",
    "Looking just at the first row we get `[ 0.34763842,  0.24879643,  0.12789202]`, you can confirm these are the 3 largest probabilities in `a`. You'll also notice `[3, 0, 5]` are the corresponding indices."
   ]
  },
  {
   "cell_type": "code",
   "execution_count": 7,
   "metadata": {},
   "outputs": [
    {
     "name": "stdout",
     "output_type": "stream",
     "text": [
      "Listing top 5 ranked softmax probabilities per image (correct choice flagged with '*')\n",
      "\n",
      "Top 5 softmax probabilities for image filename 1-resized_30_limit.jpg:\n"
     ]
    },
    {
     "data": {
      "image/png": "[encoded data removed]",
      "text/plain": [
       "<matplotlib.figure.Figure at 0x1dec1b30cc0>"
      ]
     },
     "metadata": {},
     "output_type": "display_data"
    },
    {
     "name": "stdout",
     "output_type": "stream",
     "text": [
      "* 1 1.0000000000 Speed limit (30km/h)\n",
      "  2 0.0000000000 End of all speed and passing limits\n",
      "  3 0.0000000000 End of speed limit (80km/h)\n",
      "  4 0.0000000000 Dangerous curve to the right\n",
      "  5 0.0000000000 Keep right\n",
      "\n",
      "Top 5 softmax probabilities for image filename 17-resized_no_entry.jpg:\n"
     ]
    },
    {
     "data": {
      "image/png": "[encoded data removed]",
      "text/plain": [
       "<matplotlib.figure.Figure at 0x1dec1ae2e48>"
      ]
     },
     "metadata": {},
     "output_type": "display_data"
    },
    {
     "name": "stdout",
     "output_type": "stream",
     "text": [
      "* 1 0.7149686813 No entry\n",
      "  2 0.2850313485 Stop\n",
      "  3 0.0000000045 No passing\n",
      "  4 0.0000000005 Beware of ice/snow\n",
      "  5 0.0000000000 No passing for vehicles over 3.5 metric tons\n",
      "\n",
      "Top 5 softmax probabilities for image filename 18-resized_general_caution.jpg:\n"
     ]
    },
    {
     "data": {
      "image/png": "[encoded data removed]",
      "text/plain": [
       "<matplotlib.figure.Figure at 0x1dec1a7d240>"
      ]
     },
     "metadata": {},
     "output_type": "display_data"
    },
    {
     "name": "stdout",
     "output_type": "stream",
     "text": [
      "* 1 1.0000000000 General caution\n",
      "  2 0.0000000000 End of no passing by vehicles over 3.5 metric tons\n",
      "  3 0.0000000000 End of no passing\n",
      "  4 0.0000000000 Roundabout mandatory\n",
      "  5 0.0000000000 Keep left\n",
      "\n",
      "Top 5 softmax probabilities for image filename 23-resized_slippery.jpg:\n"
     ]
    },
    {
     "data": {
      "image/png": "[encoded data removed]",
      "text/plain": [
       "<matplotlib.figure.Figure at 0x1dec1998be0>"
      ]
     },
     "metadata": {},
     "output_type": "display_data"
    },
    {
     "name": "stdout",
     "output_type": "stream",
     "text": [
      "* 1 1.0000000000 Slippery road\n",
      "  2 0.0000000000 No passing for vehicles over 3.5 metric tons\n",
      "  3 0.0000000000 Dangerous curve to the left\n",
      "  4 0.0000000000 Double curve\n",
      "  5 0.0000000000 Go straight or right\n",
      "\n",
      "Top 5 softmax probabilities for image filename 27-resized_pedestrians.jpg:\n"
     ]
    },
    {
     "data": {
      "image/png": "[encoded data removed]",
      "text/plain": [
       "<matplotlib.figure.Figure at 0x1dec181fcf8>"
      ]
     },
     "metadata": {},
     "output_type": "display_data"
    },
    {
     "name": "stdout",
     "output_type": "stream",
     "text": [
      "* 1 0.9999817610 Pedestrians\n",
      "  2 0.0000178731 Bicycles crossing\n",
      "  3 0.0000003924 General caution\n",
      "  4 0.0000000047 Double curve\n",
      "  5 0.0000000016 Speed limit (20km/h)\n",
      "\n",
      "Top 5 softmax probabilities for image filename 28-resized_children.jpg:\n"
     ]
    },
    {
     "data": {
      "image/png": "[encoded data removed]",
      "text/plain": [
       "<matplotlib.figure.Figure at 0x1dec1b87da0>"
      ]
     },
     "metadata": {},
     "output_type": "display_data"
    },
    {
     "name": "stdout",
     "output_type": "stream",
     "text": [
      "* 1 1.0000000000 Children crossing\n",
      "  2 0.0000000000 Go straight or right\n",
      "  3 0.0000000000 Bicycles crossing\n",
      "  4 0.0000000000 Dangerous curve to the right\n",
      "  5 0.0000000000 Bumpy road\n"
     ]
    }
   ],
   "source": [
    "### Print out the top five softmax probabilities for the predictions on the German traffic sign images found on the web. \n",
    "### Feel free to use as many code cells as needed.\n",
    "\n",
    "import matplotlib.pyplot as plt\n",
    "# Visualizations will be shown in the notebook.\n",
    "%matplotlib inline\n",
    "\n",
    "num_best_scores_per_sign = 5\n",
    "print(\"Listing top %d ranked softmax probabilities per image (correct choice flagged with '*')\" % num_best_scores_per_sign)\n",
    "for image_idx in range(num_internet):\n",
    "    logits_this_sign = logits_out[image_idx]\n",
    "    logit_classidx = []\n",
    "    # Make a list of tuples mapping logit probability value to class ID for this sign\n",
    "    for class_idx in range(len(logits_this_sign)):\n",
    "        logit_classidx.append((logits_this_sign[class_idx],class_idx))\n",
    "        \n",
    "    logit_classidx.sort(reverse=True) # Now sorted highest-logit first so we can show top few\n",
    "    \n",
    "    print (\"\\nTop %d softmax probabilities for image filename %s:\" %(num_best_scores_per_sign, internet_filenames[image_idx]))\n",
    "    image = internet_images[image_idx]\n",
    "    plt.figure(figsize=(1,1))\n",
    "    plt.imshow(image)\n",
    "    plt.show() # Explicitly calling show() so it appears before next text line I want to output\n",
    "    for idx in range(num_best_scores_per_sign):\n",
    "        logit_value, class_idx = logit_classidx[idx]\n",
    "        correct_flag = \"*\" if correct_internet_classes[image_idx] == class_idx else \" \"\n",
    "        print(\"%s %d %.10f %s\" % (correct_flag, idx+1, logit_value, class_descriptions[class_idx]))"
   ]
  },
  {
   "cell_type": "markdown",
   "metadata": {},
   "source": [
    "### Project Writeup\n",
    "\n",
    "Once you have completed the code implementation, document your results in a project writeup using this [template](https://github.com/udacity/CarND-Traffic-Sign-Classifier-Project/blob/master/writeup_template.md) as a guide. The writeup can be in a markdown or pdf file. "
   ]
  },
  {
   "cell_type": "markdown",
   "metadata": {},
   "source": [
    "> **Note**: Once you have completed all of the code implementations and successfully answered each question above, you may finalize your work by exporting the iPython Notebook as an HTML document. You can do this by using the menu above and navigating to  \\n\",\n",
    "    \"**File -> Download as -> HTML (.html)**. Include the finished document along with this notebook as your submission."
   ]
  },
  {
   "cell_type": "markdown",
   "metadata": {},
   "source": [
    "---\n",
    "\n",
    "## Step 4 (Optional): Visualize the Neural Network's State with Test Images\n",
    "\n",
    " This Section is not required to complete but acts as an additional excersise for understaning the output of a neural network's weights. While neural networks can be a great learning device they are often referred to as a black box. We can understand what the weights of a neural network look like better by plotting their feature maps. After successfully training your neural network you can see what it's feature maps look like by plotting the output of the network's weight layers in response to a test stimuli image. From these plotted feature maps, it's possible to see what characteristics of an image the network finds interesting. For a sign, maybe the inner network feature maps react with high activation to the sign's boundary outline or to the contrast in the sign's painted symbol.\n",
    "\n",
    " Provided for you below is the function code that allows you to get the visualization output of any tensorflow weight layer you want. The inputs to the function should be a stimuli image, one used during training or a new one you provided, and then the tensorflow variable name that represents the layer's state during the training process, for instance if you wanted to see what the [LeNet lab's](https://classroom.udacity.com/nanodegrees/nd013/parts/fbf77062-5703-404e-b60c-95b78b2f3f9e/modules/6df7ae49-c61c-4bb2-a23e-6527e69209ec/lessons/601ae704-1035-4287-8b11-e2c2716217ad/concepts/d4aca031-508f-4e0b-b493-e7b706120f81) feature maps looked like for it's second convolutional layer you could enter conv2 as the tf_activation variable.\n",
    "\n",
    "For an example of what feature map outputs look like, check out NVIDIA's results in their paper [End-to-End Deep Learning for Self-Driving Cars](https://devblogs.nvidia.com/parallelforall/deep-learning-self-driving-cars/) in the section Visualization of internal CNN State. NVIDIA was able to show that their network's inner weights had high activations to road boundary lines by comparing feature maps from an image with a clear path to one without. Try experimenting with a similar test to show that your trained network's weights are looking for interesting features, whether it's looking at differences in feature maps from images with or without a sign, or even what feature maps look like in a trained network vs a completely untrained one on the same sign image.\n",
    "\n",
    "<figure>\n",
    " <img src=\"visualize_cnn.png\" width=\"380\" alt=\"Combined Image\" />\n",
    " <figcaption>\n",
    " <p></p> \n",
    " <p style=\"text-align: center;\"> Your output should look something like this (above)</p> \n",
    " </figcaption>\n",
    "</figure>\n",
    " <p></p> \n"
   ]
  },
  {
   "cell_type": "code",
   "execution_count": null,
   "metadata": {
    "collapsed": true
   },
   "outputs": [],
   "source": [
    "### Visualize your network's feature maps here.\n",
    "### Feel free to use as many code cells as needed.\n",
    "\n",
    "# image_input: the test image being fed into the network to produce the feature maps\n",
    "# tf_activation: should be a tf variable name used during your training procedure that represents the calculated state of a specific weight layer\n",
    "# activation_min/max: can be used to view the activation contrast in more detail, by default matplot sets min and max to the actual min and max values of the output\n",
    "# plt_num: used to plot out multiple different weight feature map sets on the same block, just extend the plt number for each new feature map entry\n",
    "\n",
    "def outputFeatureMap(image_input, tf_activation, activation_min=-1, activation_max=-1 ,plt_num=1):\n",
    "    # Here make sure to preprocess your image_input in a way your network expects\n",
    "    # with size, normalization, ect if needed\n",
    "    # image_input =\n",
    "    # Note: x should be the same name as your network's tensorflow data placeholder variable\n",
    "    # If you get an error tf_activation is not defined it may be having trouble accessing the variable from inside a function\n",
    "    activation = tf_activation.eval(session=sess,feed_dict={x : image_input})\n",
    "    featuremaps = activation.shape[3]\n",
    "    plt.figure(plt_num, figsize=(15,15))\n",
    "    for featuremap in range(featuremaps):\n",
    "        plt.subplot(6,8, featuremap+1) # sets the number of feature maps to show on each row and column\n",
    "        plt.title('FeatureMap ' + str(featuremap)) # displays the feature map number\n",
    "        if activation_min != -1 & activation_max != -1:\n",
    "            plt.imshow(activation[0,:,:, featuremap], interpolation=\"nearest\", vmin =activation_min, vmax=activation_max, cmap=\"gray\")\n",
    "        elif activation_max != -1:\n",
    "            plt.imshow(activation[0,:,:, featuremap], interpolation=\"nearest\", vmax=activation_max, cmap=\"gray\")\n",
    "        elif activation_min !=-1:\n",
    "            plt.imshow(activation[0,:,:, featuremap], interpolation=\"nearest\", vmin=activation_min, cmap=\"gray\")\n",
    "        else:\n",
    "            plt.imshow(activation[0,:,:, featuremap], interpolation=\"nearest\", cmap=\"gray\")"
   ]
  }
 ],
 "metadata": {
  "anaconda-cloud": {},
  "kernelspec": {
   "display_name": "Python 3",
   "language": "python",
   "name": "python3"
  },
  "language_info": {
   "codemirror_mode": {
    "name": "ipython",
    "version": 3
   },
   "file_extension": ".py",
   "mimetype": "text/x-python",
   "name": "python",
   "nbconvert_exporter": "python",
   "pygments_lexer": "ipython3",
   "version": "3.6.1"
  }
 },
 "nbformat": 4,
 "nbformat_minor": 1
}
